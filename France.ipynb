{
 "cells": [
  {
   "cell_type": "code",
   "execution_count": 1,
   "id": "9d353e15-fa38-44c2-add6-1da0bcd62184",
   "metadata": {},
   "outputs": [],
   "source": [
    "import pandas as pd \n",
    "df1 = pd.read_csv('C:/database/france_murder.CSV',encoding ='cp949')"
   ]
  },
  {
   "cell_type": "code",
   "execution_count": 2,
   "id": "60d4a197-00ad-4576-834a-14bc52a9be95",
   "metadata": {},
   "outputs": [
    {
     "data": {
      "text/html": [
       "<div>\n",
       "<style scoped>\n",
       "    .dataframe tbody tr th:only-of-type {\n",
       "        vertical-align: middle;\n",
       "    }\n",
       "\n",
       "    .dataframe tbody tr th {\n",
       "        vertical-align: top;\n",
       "    }\n",
       "\n",
       "    .dataframe thead th {\n",
       "        text-align: right;\n",
       "    }\n",
       "</style>\n",
       "<table border=\"1\" class=\"dataframe\">\n",
       "  <thead>\n",
       "    <tr style=\"text-align: right;\">\n",
       "      <th></th>\n",
       "      <th>Year</th>\n",
       "      <th>per 100000</th>\n",
       "    </tr>\n",
       "  </thead>\n",
       "  <tbody>\n",
       "    <tr>\n",
       "      <th>0</th>\n",
       "      <td>2010</td>\n",
       "      <td>1.27</td>\n",
       "    </tr>\n",
       "    <tr>\n",
       "      <th>1</th>\n",
       "      <td>2011</td>\n",
       "      <td>1.36</td>\n",
       "    </tr>\n",
       "    <tr>\n",
       "      <th>2</th>\n",
       "      <td>2012</td>\n",
       "      <td>1.24</td>\n",
       "    </tr>\n",
       "    <tr>\n",
       "      <th>3</th>\n",
       "      <td>2013</td>\n",
       "      <td>1.23</td>\n",
       "    </tr>\n",
       "    <tr>\n",
       "      <th>4</th>\n",
       "      <td>2014</td>\n",
       "      <td>1.25</td>\n",
       "    </tr>\n",
       "  </tbody>\n",
       "</table>\n",
       "</div>"
      ],
      "text/plain": [
       "   Year  per 100000\n",
       "0  2010        1.27\n",
       "1  2011        1.36\n",
       "2  2012        1.24\n",
       "3  2013        1.23\n",
       "4  2014        1.25"
      ]
     },
     "execution_count": 2,
     "metadata": {},
     "output_type": "execute_result"
    }
   ],
   "source": [
    "df1.head()"
   ]
  },
  {
   "cell_type": "code",
   "execution_count": 3,
   "id": "cdb95d0e-0c24-4516-8d4f-910068f25b4c",
   "metadata": {},
   "outputs": [],
   "source": [
    "df1.drop([1,2,3,4,0,5,6,7,8,9,10], axis = 0, inplace=True)\n"
   ]
  },
  {
   "cell_type": "code",
   "execution_count": 4,
   "id": "e2cdc2be-1ac7-41ca-82f8-631104689d64",
   "metadata": {},
   "outputs": [],
   "source": [
    "df = df1.rename(columns = {'per 100000' : 'Count'})"
   ]
  },
  {
   "cell_type": "code",
   "execution_count": null,
   "id": "f1b4d615-bc53-4e19-8718-f7d91ecbe746",
   "metadata": {},
   "outputs": [],
   "source": []
  },
  {
   "cell_type": "code",
   "execution_count": 5,
   "id": "be0bfe91-5965-45aa-bfde-8b1839cfa792",
   "metadata": {},
   "outputs": [
    {
     "data": {
      "text/html": [
       "<div>\n",
       "<style scoped>\n",
       "    .dataframe tbody tr th:only-of-type {\n",
       "        vertical-align: middle;\n",
       "    }\n",
       "\n",
       "    .dataframe tbody tr th {\n",
       "        vertical-align: top;\n",
       "    }\n",
       "\n",
       "    .dataframe thead th {\n",
       "        text-align: right;\n",
       "    }\n",
       "</style>\n",
       "<table border=\"1\" class=\"dataframe\">\n",
       "  <thead>\n",
       "    <tr style=\"text-align: right;\">\n",
       "      <th></th>\n",
       "      <th>Year</th>\n",
       "      <th>Count</th>\n",
       "    </tr>\n",
       "  </thead>\n",
       "  <tbody>\n",
       "    <tr>\n",
       "      <th>11</th>\n",
       "      <td>202100000</td>\n",
       "      <td>114000.0</td>\n",
       "    </tr>\n",
       "  </tbody>\n",
       "</table>\n",
       "</div>"
      ],
      "text/plain": [
       "         Year     Count\n",
       "11  202100000  114000.0"
      ]
     },
     "execution_count": 5,
     "metadata": {},
     "output_type": "execute_result"
    }
   ],
   "source": [
    "df = df.mul(100000)\n",
    "df.head()"
   ]
  },
  {
   "cell_type": "code",
   "execution_count": 6,
   "id": "0193f80b-dd4c-4b52-bfc8-61877d3321cd",
   "metadata": {},
   "outputs": [
    {
     "data": {
      "text/html": [
       "<div>\n",
       "<style scoped>\n",
       "    .dataframe tbody tr th:only-of-type {\n",
       "        vertical-align: middle;\n",
       "    }\n",
       "\n",
       "    .dataframe tbody tr th {\n",
       "        vertical-align: top;\n",
       "    }\n",
       "\n",
       "    .dataframe thead th {\n",
       "        text-align: right;\n",
       "    }\n",
       "</style>\n",
       "<table border=\"1\" class=\"dataframe\">\n",
       "  <thead>\n",
       "    <tr style=\"text-align: right;\">\n",
       "      <th></th>\n",
       "      <th>Count</th>\n",
       "    </tr>\n",
       "  </thead>\n",
       "  <tbody>\n",
       "    <tr>\n",
       "      <th>11</th>\n",
       "      <td>114000.0</td>\n",
       "    </tr>\n",
       "  </tbody>\n",
       "</table>\n",
       "</div>"
      ],
      "text/plain": [
       "       Count\n",
       "11  114000.0"
      ]
     },
     "execution_count": 6,
     "metadata": {},
     "output_type": "execute_result"
    }
   ],
   "source": [
    "df = df.drop(columns = ['Year'])\n",
    "df.head()"
   ]
  },
  {
   "cell_type": "code",
   "execution_count": 7,
   "id": "34da32b0-8fa3-4b35-af49-e8ceee1be4c0",
   "metadata": {},
   "outputs": [
    {
     "name": "stdout",
     "output_type": "stream",
     "text": [
      "       Count\n",
      "11  114000.0\n"
     ]
    }
   ],
   "source": [
    "print(df)"
   ]
  },
  {
   "cell_type": "code",
   "execution_count": 8,
   "id": "da347b73-b7c4-4c71-a0bc-e35ae133dcfc",
   "metadata": {},
   "outputs": [],
   "source": [
    "df2 = pd.read_csv('C:/database/france_rape.CSV', encoding = 'cp949')"
   ]
  },
  {
   "cell_type": "code",
   "execution_count": 9,
   "id": "8057f56f-31a1-42f5-b123-cc7eca8a8cd2",
   "metadata": {},
   "outputs": [
    {
     "data": {
      "text/html": [
       "<div>\n",
       "<style scoped>\n",
       "    .dataframe tbody tr th:only-of-type {\n",
       "        vertical-align: middle;\n",
       "    }\n",
       "\n",
       "    .dataframe tbody tr th {\n",
       "        vertical-align: top;\n",
       "    }\n",
       "\n",
       "    .dataframe thead th {\n",
       "        text-align: right;\n",
       "    }\n",
       "</style>\n",
       "<table border=\"1\" class=\"dataframe\">\n",
       "  <thead>\n",
       "    <tr style=\"text-align: right;\">\n",
       "      <th></th>\n",
       "      <th>year</th>\n",
       "      <th>a</th>\n",
       "      <th>15-17 years</th>\n",
       "      <th>Over 18 years</th>\n",
       "      <th>Total</th>\n",
       "    </tr>\n",
       "  </thead>\n",
       "  <tbody>\n",
       "    <tr>\n",
       "      <th>0</th>\n",
       "      <td>2016</td>\n",
       "      <td>4,120</td>\n",
       "      <td>2,020</td>\n",
       "      <td>6,680</td>\n",
       "      <td>12,820</td>\n",
       "    </tr>\n",
       "    <tr>\n",
       "      <th>1</th>\n",
       "      <td>2017</td>\n",
       "      <td>4,760</td>\n",
       "      <td>2,400</td>\n",
       "      <td>7,770</td>\n",
       "      <td>14,930</td>\n",
       "    </tr>\n",
       "    <tr>\n",
       "      <th>2</th>\n",
       "      <td>2018</td>\n",
       "      <td>5,400</td>\n",
       "      <td>2,950</td>\n",
       "      <td>9,260</td>\n",
       "      <td>17,610</td>\n",
       "    </tr>\n",
       "    <tr>\n",
       "      <th>3</th>\n",
       "      <td>2020</td>\n",
       "      <td>6,710</td>\n",
       "      <td>3,980</td>\n",
       "      <td>12,080</td>\n",
       "      <td>22,770</td>\n",
       "    </tr>\n",
       "    <tr>\n",
       "      <th>4</th>\n",
       "      <td>2021</td>\n",
       "      <td>9,760</td>\n",
       "      <td>5,410</td>\n",
       "      <td>15,610</td>\n",
       "      <td>30,780</td>\n",
       "    </tr>\n",
       "  </tbody>\n",
       "</table>\n",
       "</div>"
      ],
      "text/plain": [
       "   year      a 15-17 years Over 18 years   Total\n",
       "0  2016  4,120       2,020         6,680  12,820\n",
       "1  2017  4,760       2,400         7,770  14,930\n",
       "2  2018  5,400       2,950         9,260  17,610\n",
       "3  2020  6,710       3,980        12,080  22,770\n",
       "4  2021  9,760       5,410        15,610  30,780"
      ]
     },
     "execution_count": 9,
     "metadata": {},
     "output_type": "execute_result"
    }
   ],
   "source": [
    "df2.head()"
   ]
  },
  {
   "cell_type": "code",
   "execution_count": 10,
   "id": "dc9aefff-5481-4369-bc9d-995d9b737332",
   "metadata": {},
   "outputs": [],
   "source": [
    "df2.drop([0,1,2,3], axis = 0 , inplace = True)"
   ]
  },
  {
   "cell_type": "code",
   "execution_count": 11,
   "id": "f087fe0f-56e3-4146-a277-cbe2f0f9cd96",
   "metadata": {},
   "outputs": [
    {
     "data": {
      "text/html": [
       "<div>\n",
       "<style scoped>\n",
       "    .dataframe tbody tr th:only-of-type {\n",
       "        vertical-align: middle;\n",
       "    }\n",
       "\n",
       "    .dataframe tbody tr th {\n",
       "        vertical-align: top;\n",
       "    }\n",
       "\n",
       "    .dataframe thead th {\n",
       "        text-align: right;\n",
       "    }\n",
       "</style>\n",
       "<table border=\"1\" class=\"dataframe\">\n",
       "  <thead>\n",
       "    <tr style=\"text-align: right;\">\n",
       "      <th></th>\n",
       "      <th>year</th>\n",
       "      <th>a</th>\n",
       "      <th>15-17 years</th>\n",
       "      <th>Over 18 years</th>\n",
       "      <th>Total</th>\n",
       "    </tr>\n",
       "  </thead>\n",
       "  <tbody>\n",
       "    <tr>\n",
       "      <th>4</th>\n",
       "      <td>2021</td>\n",
       "      <td>9,760</td>\n",
       "      <td>5,410</td>\n",
       "      <td>15,610</td>\n",
       "      <td>30,780</td>\n",
       "    </tr>\n",
       "  </tbody>\n",
       "</table>\n",
       "</div>"
      ],
      "text/plain": [
       "   year      a 15-17 years Over 18 years   Total\n",
       "4  2021  9,760       5,410        15,610  30,780"
      ]
     },
     "execution_count": 11,
     "metadata": {},
     "output_type": "execute_result"
    }
   ],
   "source": [
    "df2.head()"
   ]
  },
  {
   "cell_type": "code",
   "execution_count": 12,
   "id": "b24e733e-85e9-418b-89da-b575cdaf2431",
   "metadata": {},
   "outputs": [],
   "source": [
    "df2 = df2.drop(columns = ['year','15-17 years','Over 18 years'])\n"
   ]
  },
  {
   "cell_type": "code",
   "execution_count": 13,
   "id": "c1dbc812-8b89-4445-8eae-799097cbe672",
   "metadata": {},
   "outputs": [],
   "source": [
    "df2 = df2.drop(columns = ['a'])\n"
   ]
  },
  {
   "cell_type": "code",
   "execution_count": 14,
   "id": "d8c0eb03-6af9-403f-957b-eef1064dff61",
   "metadata": {},
   "outputs": [
    {
     "name": "stdout",
     "output_type": "stream",
     "text": [
      "    Total\n",
      "4  30,780\n"
     ]
    }
   ],
   "source": [
    "print(df2)"
   ]
  },
  {
   "cell_type": "code",
   "execution_count": 15,
   "id": "8f350a0c-6465-4413-9706-ac5f0f803c77",
   "metadata": {},
   "outputs": [],
   "source": [
    "df2 = df2.rename(columns = {'Total' : 'Count'})"
   ]
  },
  {
   "cell_type": "code",
   "execution_count": 16,
   "id": "5be76772-8ae4-44b3-a668-2bfa1c115d05",
   "metadata": {},
   "outputs": [
    {
     "name": "stdout",
     "output_type": "stream",
     "text": [
      "    Count\n",
      "4  30,780\n"
     ]
    }
   ],
   "source": [
    "print(df2)"
   ]
  },
  {
   "cell_type": "code",
   "execution_count": 17,
   "id": "2555329e-1ba2-4944-bec0-50fdc0a1e94e",
   "metadata": {},
   "outputs": [],
   "source": [
    "df3 = pd.read_csv('C:/database/france_theft.CSV', encoding = 'cp949')"
   ]
  },
  {
   "cell_type": "code",
   "execution_count": 18,
   "id": "6b833623-a53d-4cda-a825-13a37dc60b82",
   "metadata": {},
   "outputs": [
    {
     "data": {
      "text/html": [
       "<div>\n",
       "<style scoped>\n",
       "    .dataframe tbody tr th:only-of-type {\n",
       "        vertical-align: middle;\n",
       "    }\n",
       "\n",
       "    .dataframe tbody tr th {\n",
       "        vertical-align: top;\n",
       "    }\n",
       "\n",
       "    .dataframe thead th {\n",
       "        text-align: right;\n",
       "    }\n",
       "</style>\n",
       "<table border=\"1\" class=\"dataframe\">\n",
       "  <thead>\n",
       "    <tr style=\"text-align: right;\">\n",
       "      <th></th>\n",
       "      <th>Year</th>\n",
       "      <th>Theft offences with weapons</th>\n",
       "      <th>Theft offences with violence but without weapons</th>\n",
       "      <th>Theft offences without violence</th>\n",
       "    </tr>\n",
       "  </thead>\n",
       "  <tbody>\n",
       "    <tr>\n",
       "      <th>0</th>\n",
       "      <td>2017</td>\n",
       "      <td>10200</td>\n",
       "      <td>90300</td>\n",
       "      <td>719700</td>\n",
       "    </tr>\n",
       "    <tr>\n",
       "      <th>1</th>\n",
       "      <td>2018</td>\n",
       "      <td>9100</td>\n",
       "      <td>83700</td>\n",
       "      <td>708100</td>\n",
       "    </tr>\n",
       "    <tr>\n",
       "      <th>2</th>\n",
       "      <td>2019</td>\n",
       "      <td>9200</td>\n",
       "      <td>81500</td>\n",
       "      <td>728600</td>\n",
       "    </tr>\n",
       "    <tr>\n",
       "      <th>3</th>\n",
       "      <td>2020</td>\n",
       "      <td>8700</td>\n",
       "      <td>66100</td>\n",
       "      <td>553800</td>\n",
       "    </tr>\n",
       "    <tr>\n",
       "      <th>4</th>\n",
       "      <td>2021</td>\n",
       "      <td>8500</td>\n",
       "      <td>62100</td>\n",
       "      <td>583800</td>\n",
       "    </tr>\n",
       "  </tbody>\n",
       "</table>\n",
       "</div>"
      ],
      "text/plain": [
       "   Year  Theft offences with weapons  \\\n",
       "0  2017                        10200   \n",
       "1  2018                         9100   \n",
       "2  2019                         9200   \n",
       "3  2020                         8700   \n",
       "4  2021                         8500   \n",
       "\n",
       "   Theft offences with violence but without weapons  \\\n",
       "0                                             90300   \n",
       "1                                             83700   \n",
       "2                                             81500   \n",
       "3                                             66100   \n",
       "4                                             62100   \n",
       "\n",
       "   Theft offences without violence  \n",
       "0                           719700  \n",
       "1                           708100  \n",
       "2                           728600  \n",
       "3                           553800  \n",
       "4                           583800  "
      ]
     },
     "execution_count": 18,
     "metadata": {},
     "output_type": "execute_result"
    }
   ],
   "source": [
    "df3.head()"
   ]
  },
  {
   "cell_type": "code",
   "execution_count": 19,
   "id": "a670bc48-d517-4324-ae73-e9e4b6dc30ce",
   "metadata": {},
   "outputs": [
    {
     "data": {
      "text/html": [
       "<div>\n",
       "<style scoped>\n",
       "    .dataframe tbody tr th:only-of-type {\n",
       "        vertical-align: middle;\n",
       "    }\n",
       "\n",
       "    .dataframe tbody tr th {\n",
       "        vertical-align: top;\n",
       "    }\n",
       "\n",
       "    .dataframe thead th {\n",
       "        text-align: right;\n",
       "    }\n",
       "</style>\n",
       "<table border=\"1\" class=\"dataframe\">\n",
       "  <thead>\n",
       "    <tr style=\"text-align: right;\">\n",
       "      <th></th>\n",
       "      <th>Theft offences with weapons</th>\n",
       "      <th>Theft offences with violence but without weapons</th>\n",
       "      <th>Theft offences without violence</th>\n",
       "    </tr>\n",
       "  </thead>\n",
       "  <tbody>\n",
       "    <tr>\n",
       "      <th>0</th>\n",
       "      <td>10200</td>\n",
       "      <td>90300</td>\n",
       "      <td>719700</td>\n",
       "    </tr>\n",
       "    <tr>\n",
       "      <th>1</th>\n",
       "      <td>9100</td>\n",
       "      <td>83700</td>\n",
       "      <td>708100</td>\n",
       "    </tr>\n",
       "    <tr>\n",
       "      <th>2</th>\n",
       "      <td>9200</td>\n",
       "      <td>81500</td>\n",
       "      <td>728600</td>\n",
       "    </tr>\n",
       "    <tr>\n",
       "      <th>3</th>\n",
       "      <td>8700</td>\n",
       "      <td>66100</td>\n",
       "      <td>553800</td>\n",
       "    </tr>\n",
       "    <tr>\n",
       "      <th>4</th>\n",
       "      <td>8500</td>\n",
       "      <td>62100</td>\n",
       "      <td>583800</td>\n",
       "    </tr>\n",
       "  </tbody>\n",
       "</table>\n",
       "</div>"
      ],
      "text/plain": [
       "   Theft offences with weapons  \\\n",
       "0                        10200   \n",
       "1                         9100   \n",
       "2                         9200   \n",
       "3                         8700   \n",
       "4                         8500   \n",
       "\n",
       "   Theft offences with violence but without weapons  \\\n",
       "0                                             90300   \n",
       "1                                             83700   \n",
       "2                                             81500   \n",
       "3                                             66100   \n",
       "4                                             62100   \n",
       "\n",
       "   Theft offences without violence  \n",
       "0                           719700  \n",
       "1                           708100  \n",
       "2                           728600  \n",
       "3                           553800  \n",
       "4                           583800  "
      ]
     },
     "execution_count": 19,
     "metadata": {},
     "output_type": "execute_result"
    }
   ],
   "source": [
    "df3 = df3.drop(columns = ['Year'])\n",
    "df3.head()"
   ]
  },
  {
   "cell_type": "code",
   "execution_count": 20,
   "id": "919f9b77-8bc7-4932-a89a-ad3e02b64118",
   "metadata": {},
   "outputs": [
    {
     "data": {
      "text/html": [
       "<div>\n",
       "<style scoped>\n",
       "    .dataframe tbody tr th:only-of-type {\n",
       "        vertical-align: middle;\n",
       "    }\n",
       "\n",
       "    .dataframe tbody tr th {\n",
       "        vertical-align: top;\n",
       "    }\n",
       "\n",
       "    .dataframe thead th {\n",
       "        text-align: right;\n",
       "    }\n",
       "</style>\n",
       "<table border=\"1\" class=\"dataframe\">\n",
       "  <thead>\n",
       "    <tr style=\"text-align: right;\">\n",
       "      <th></th>\n",
       "      <th>Theft offences with weapons</th>\n",
       "      <th>Theft offences with violence but without weapons</th>\n",
       "      <th>Theft offences without violence</th>\n",
       "      <th>Count</th>\n",
       "    </tr>\n",
       "  </thead>\n",
       "  <tbody>\n",
       "    <tr>\n",
       "      <th>0</th>\n",
       "      <td>10200</td>\n",
       "      <td>90300</td>\n",
       "      <td>719700</td>\n",
       "      <td>820200</td>\n",
       "    </tr>\n",
       "    <tr>\n",
       "      <th>1</th>\n",
       "      <td>9100</td>\n",
       "      <td>83700</td>\n",
       "      <td>708100</td>\n",
       "      <td>800900</td>\n",
       "    </tr>\n",
       "    <tr>\n",
       "      <th>2</th>\n",
       "      <td>9200</td>\n",
       "      <td>81500</td>\n",
       "      <td>728600</td>\n",
       "      <td>819300</td>\n",
       "    </tr>\n",
       "    <tr>\n",
       "      <th>3</th>\n",
       "      <td>8700</td>\n",
       "      <td>66100</td>\n",
       "      <td>553800</td>\n",
       "      <td>628600</td>\n",
       "    </tr>\n",
       "    <tr>\n",
       "      <th>4</th>\n",
       "      <td>8500</td>\n",
       "      <td>62100</td>\n",
       "      <td>583800</td>\n",
       "      <td>654400</td>\n",
       "    </tr>\n",
       "    <tr>\n",
       "      <th>5</th>\n",
       "      <td>8600</td>\n",
       "      <td>59700</td>\n",
       "      <td>663700</td>\n",
       "      <td>732000</td>\n",
       "    </tr>\n",
       "    <tr>\n",
       "      <th>6</th>\n",
       "      <td>8700</td>\n",
       "      <td>54500</td>\n",
       "      <td>643000</td>\n",
       "      <td>706200</td>\n",
       "    </tr>\n",
       "  </tbody>\n",
       "</table>\n",
       "</div>"
      ],
      "text/plain": [
       "   Theft offences with weapons  \\\n",
       "0                        10200   \n",
       "1                         9100   \n",
       "2                         9200   \n",
       "3                         8700   \n",
       "4                         8500   \n",
       "5                         8600   \n",
       "6                         8700   \n",
       "\n",
       "   Theft offences with violence but without weapons  \\\n",
       "0                                             90300   \n",
       "1                                             83700   \n",
       "2                                             81500   \n",
       "3                                             66100   \n",
       "4                                             62100   \n",
       "5                                             59700   \n",
       "6                                             54500   \n",
       "\n",
       "   Theft offences without violence   Count  \n",
       "0                           719700  820200  \n",
       "1                           708100  800900  \n",
       "2                           728600  819300  \n",
       "3                           553800  628600  \n",
       "4                           583800  654400  \n",
       "5                           663700  732000  \n",
       "6                           643000  706200  "
      ]
     },
     "execution_count": 20,
     "metadata": {},
     "output_type": "execute_result"
    }
   ],
   "source": [
    "df3['Count'] = df3.sum(axis='columns')\n",
    "df3"
   ]
  },
  {
   "cell_type": "code",
   "execution_count": 21,
   "id": "4c07dac0-9a34-44bf-9599-84f731e4db1c",
   "metadata": {},
   "outputs": [
    {
     "data": {
      "text/html": [
       "<div>\n",
       "<style scoped>\n",
       "    .dataframe tbody tr th:only-of-type {\n",
       "        vertical-align: middle;\n",
       "    }\n",
       "\n",
       "    .dataframe tbody tr th {\n",
       "        vertical-align: top;\n",
       "    }\n",
       "\n",
       "    .dataframe thead th {\n",
       "        text-align: right;\n",
       "    }\n",
       "</style>\n",
       "<table border=\"1\" class=\"dataframe\">\n",
       "  <thead>\n",
       "    <tr style=\"text-align: right;\">\n",
       "      <th></th>\n",
       "      <th>Theft offences with weapons</th>\n",
       "      <th>Theft offences with violence but without weapons</th>\n",
       "      <th>Theft offences without violence</th>\n",
       "      <th>Count</th>\n",
       "    </tr>\n",
       "  </thead>\n",
       "  <tbody>\n",
       "    <tr>\n",
       "      <th>6</th>\n",
       "      <td>8700</td>\n",
       "      <td>54500</td>\n",
       "      <td>643000</td>\n",
       "      <td>706200</td>\n",
       "    </tr>\n",
       "  </tbody>\n",
       "</table>\n",
       "</div>"
      ],
      "text/plain": [
       "   Theft offences with weapons  \\\n",
       "6                         8700   \n",
       "\n",
       "   Theft offences with violence but without weapons  \\\n",
       "6                                             54500   \n",
       "\n",
       "   Theft offences without violence   Count  \n",
       "6                           643000  706200  "
      ]
     },
     "execution_count": 21,
     "metadata": {},
     "output_type": "execute_result"
    }
   ],
   "source": [
    "df3 = df3.drop([0,1,2,3,4,5])\n",
    "df3"
   ]
  },
  {
   "cell_type": "code",
   "execution_count": 22,
   "id": "2e1b4b68-6893-4931-894f-c8d5398888de",
   "metadata": {},
   "outputs": [],
   "source": [
    "df3 = df3.drop(columns = ['Theft offences with weapons'])\n"
   ]
  },
  {
   "cell_type": "code",
   "execution_count": 23,
   "id": "9b98b781-4543-4a1d-9cbb-324095413808",
   "metadata": {},
   "outputs": [
    {
     "data": {
      "text/html": [
       "<div>\n",
       "<style scoped>\n",
       "    .dataframe tbody tr th:only-of-type {\n",
       "        vertical-align: middle;\n",
       "    }\n",
       "\n",
       "    .dataframe tbody tr th {\n",
       "        vertical-align: top;\n",
       "    }\n",
       "\n",
       "    .dataframe thead th {\n",
       "        text-align: right;\n",
       "    }\n",
       "</style>\n",
       "<table border=\"1\" class=\"dataframe\">\n",
       "  <thead>\n",
       "    <tr style=\"text-align: right;\">\n",
       "      <th></th>\n",
       "      <th>Theft offences with violence but without weapons</th>\n",
       "      <th>Theft offences without violence</th>\n",
       "      <th>Count</th>\n",
       "    </tr>\n",
       "  </thead>\n",
       "  <tbody>\n",
       "    <tr>\n",
       "      <th>6</th>\n",
       "      <td>54500</td>\n",
       "      <td>643000</td>\n",
       "      <td>706200</td>\n",
       "    </tr>\n",
       "  </tbody>\n",
       "</table>\n",
       "</div>"
      ],
      "text/plain": [
       "   Theft offences with violence but without weapons  \\\n",
       "6                                             54500   \n",
       "\n",
       "   Theft offences without violence   Count  \n",
       "6                           643000  706200  "
      ]
     },
     "execution_count": 23,
     "metadata": {},
     "output_type": "execute_result"
    }
   ],
   "source": [
    "df3"
   ]
  },
  {
   "cell_type": "code",
   "execution_count": 24,
   "id": "89f1315d-5e4e-4662-a569-a48fa6cb422f",
   "metadata": {},
   "outputs": [],
   "source": [
    "df3 = df3.drop(columns = ['Theft offences without violence'])"
   ]
  },
  {
   "cell_type": "code",
   "execution_count": 25,
   "id": "71c18511-4471-459a-8ef1-9938db17295f",
   "metadata": {},
   "outputs": [
    {
     "data": {
      "text/html": [
       "<div>\n",
       "<style scoped>\n",
       "    .dataframe tbody tr th:only-of-type {\n",
       "        vertical-align: middle;\n",
       "    }\n",
       "\n",
       "    .dataframe tbody tr th {\n",
       "        vertical-align: top;\n",
       "    }\n",
       "\n",
       "    .dataframe thead th {\n",
       "        text-align: right;\n",
       "    }\n",
       "</style>\n",
       "<table border=\"1\" class=\"dataframe\">\n",
       "  <thead>\n",
       "    <tr style=\"text-align: right;\">\n",
       "      <th></th>\n",
       "      <th>Theft offences with violence but without weapons</th>\n",
       "      <th>Count</th>\n",
       "    </tr>\n",
       "  </thead>\n",
       "  <tbody>\n",
       "    <tr>\n",
       "      <th>6</th>\n",
       "      <td>54500</td>\n",
       "      <td>706200</td>\n",
       "    </tr>\n",
       "  </tbody>\n",
       "</table>\n",
       "</div>"
      ],
      "text/plain": [
       "   Theft offences with violence but without weapons   Count\n",
       "6                                             54500  706200"
      ]
     },
     "execution_count": 25,
     "metadata": {},
     "output_type": "execute_result"
    }
   ],
   "source": [
    "df3"
   ]
  },
  {
   "cell_type": "code",
   "execution_count": 26,
   "id": "aeb50173-4774-4bff-bcd6-cd8e96ab3bcb",
   "metadata": {},
   "outputs": [],
   "source": [
    "df3 = df3.drop(columns = ['Theft offences with violence but without weapons'])"
   ]
  },
  {
   "cell_type": "code",
   "execution_count": 27,
   "id": "0bc1b146-0519-4af8-b976-11ba1b3066a3",
   "metadata": {},
   "outputs": [
    {
     "data": {
      "text/html": [
       "<div>\n",
       "<style scoped>\n",
       "    .dataframe tbody tr th:only-of-type {\n",
       "        vertical-align: middle;\n",
       "    }\n",
       "\n",
       "    .dataframe tbody tr th {\n",
       "        vertical-align: top;\n",
       "    }\n",
       "\n",
       "    .dataframe thead th {\n",
       "        text-align: right;\n",
       "    }\n",
       "</style>\n",
       "<table border=\"1\" class=\"dataframe\">\n",
       "  <thead>\n",
       "    <tr style=\"text-align: right;\">\n",
       "      <th></th>\n",
       "      <th>Count</th>\n",
       "    </tr>\n",
       "  </thead>\n",
       "  <tbody>\n",
       "    <tr>\n",
       "      <th>6</th>\n",
       "      <td>706200</td>\n",
       "    </tr>\n",
       "  </tbody>\n",
       "</table>\n",
       "</div>"
      ],
      "text/plain": [
       "    Count\n",
       "6  706200"
      ]
     },
     "execution_count": 27,
     "metadata": {},
     "output_type": "execute_result"
    }
   ],
   "source": [
    "df3"
   ]
  },
  {
   "cell_type": "code",
   "execution_count": 28,
   "id": "076069d2-53aa-4b9d-af4e-8fcbb7357084",
   "metadata": {},
   "outputs": [
    {
     "data": {
      "text/plain": [
       "(       Count\n",
       " 11  114000.0,\n",
       "     Count\n",
       " 4  30,780,\n",
       "     Count\n",
       " 6  706200)"
      ]
     },
     "execution_count": 28,
     "metadata": {},
     "output_type": "execute_result"
    }
   ],
   "source": [
    "df , df2 , df3"
   ]
  },
  {
   "cell_type": "code",
   "execution_count": 29,
   "id": "3427d158-5654-4f2e-b8cf-ef5f4a0e2c6b",
   "metadata": {},
   "outputs": [],
   "source": [
    "final_df = pd.concat([df, df2, df3])"
   ]
  },
  {
   "cell_type": "code",
   "execution_count": 30,
   "id": "dbe95c0b-e8a7-427f-bd3c-92b4ee530d3b",
   "metadata": {},
   "outputs": [
    {
     "data": {
      "text/html": [
       "<div>\n",
       "<style scoped>\n",
       "    .dataframe tbody tr th:only-of-type {\n",
       "        vertical-align: middle;\n",
       "    }\n",
       "\n",
       "    .dataframe tbody tr th {\n",
       "        vertical-align: top;\n",
       "    }\n",
       "\n",
       "    .dataframe thead th {\n",
       "        text-align: right;\n",
       "    }\n",
       "</style>\n",
       "<table border=\"1\" class=\"dataframe\">\n",
       "  <thead>\n",
       "    <tr style=\"text-align: right;\">\n",
       "      <th></th>\n",
       "      <th>Count</th>\n",
       "    </tr>\n",
       "  </thead>\n",
       "  <tbody>\n",
       "    <tr>\n",
       "      <th>11</th>\n",
       "      <td>114000.0</td>\n",
       "    </tr>\n",
       "    <tr>\n",
       "      <th>4</th>\n",
       "      <td>30,780</td>\n",
       "    </tr>\n",
       "    <tr>\n",
       "      <th>6</th>\n",
       "      <td>706200</td>\n",
       "    </tr>\n",
       "  </tbody>\n",
       "</table>\n",
       "</div>"
      ],
      "text/plain": [
       "       Count\n",
       "11  114000.0\n",
       "4     30,780\n",
       "6     706200"
      ]
     },
     "execution_count": 30,
     "metadata": {},
     "output_type": "execute_result"
    }
   ],
   "source": [
    "final_df"
   ]
  },
  {
   "cell_type": "code",
   "execution_count": 31,
   "id": "1e680752-0c21-417c-9912-0cd98b2f74b8",
   "metadata": {},
   "outputs": [
    {
     "data": {
      "text/html": [
       "<div>\n",
       "<style scoped>\n",
       "    .dataframe tbody tr th:only-of-type {\n",
       "        vertical-align: middle;\n",
       "    }\n",
       "\n",
       "    .dataframe tbody tr th {\n",
       "        vertical-align: top;\n",
       "    }\n",
       "\n",
       "    .dataframe thead th {\n",
       "        text-align: right;\n",
       "    }\n",
       "</style>\n",
       "<table border=\"1\" class=\"dataframe\">\n",
       "  <thead>\n",
       "    <tr style=\"text-align: right;\">\n",
       "      <th></th>\n",
       "      <th>Count</th>\n",
       "    </tr>\n",
       "  </thead>\n",
       "  <tbody>\n",
       "    <tr>\n",
       "      <th>살인</th>\n",
       "      <td>NaN</td>\n",
       "    </tr>\n",
       "    <tr>\n",
       "      <th>강간</th>\n",
       "      <td>NaN</td>\n",
       "    </tr>\n",
       "    <tr>\n",
       "      <th>절도</th>\n",
       "      <td>NaN</td>\n",
       "    </tr>\n",
       "    <tr>\n",
       "      <th>폭행</th>\n",
       "      <td>NaN</td>\n",
       "    </tr>\n",
       "  </tbody>\n",
       "</table>\n",
       "</div>"
      ],
      "text/plain": [
       "   Count\n",
       "살인   NaN\n",
       "강간   NaN\n",
       "절도   NaN\n",
       "폭행   NaN"
      ]
     },
     "execution_count": 31,
     "metadata": {},
     "output_type": "execute_result"
    }
   ],
   "source": [
    "final_df = pd.DataFrame(final_df, index =['살인','강간','절도','폭행'])\n",
    "final_df"
   ]
  },
  {
   "cell_type": "code",
   "execution_count": 32,
   "id": "cca5bdac-9712-4581-a440-c88b47539183",
   "metadata": {},
   "outputs": [],
   "source": [
    "final_df = pd.DataFrame({ \"Count\" :{\"살인\" : 114000, \"강간\" : 30780 , \"절도\" : 706200,\"폭행\": 0}})"
   ]
  },
  {
   "cell_type": "code",
   "execution_count": 33,
   "id": "29d87257-e5a5-4601-84d7-2c848646e1ad",
   "metadata": {},
   "outputs": [
    {
     "data": {
      "text/html": [
       "<div>\n",
       "<style scoped>\n",
       "    .dataframe tbody tr th:only-of-type {\n",
       "        vertical-align: middle;\n",
       "    }\n",
       "\n",
       "    .dataframe tbody tr th {\n",
       "        vertical-align: top;\n",
       "    }\n",
       "\n",
       "    .dataframe thead th {\n",
       "        text-align: right;\n",
       "    }\n",
       "</style>\n",
       "<table border=\"1\" class=\"dataframe\">\n",
       "  <thead>\n",
       "    <tr style=\"text-align: right;\">\n",
       "      <th></th>\n",
       "      <th>Count</th>\n",
       "    </tr>\n",
       "  </thead>\n",
       "  <tbody>\n",
       "    <tr>\n",
       "      <th>강간</th>\n",
       "      <td>30780</td>\n",
       "    </tr>\n",
       "    <tr>\n",
       "      <th>살인</th>\n",
       "      <td>114000</td>\n",
       "    </tr>\n",
       "    <tr>\n",
       "      <th>절도</th>\n",
       "      <td>706200</td>\n",
       "    </tr>\n",
       "    <tr>\n",
       "      <th>폭행</th>\n",
       "      <td>0</td>\n",
       "    </tr>\n",
       "  </tbody>\n",
       "</table>\n",
       "</div>"
      ],
      "text/plain": [
       "     Count\n",
       "강간   30780\n",
       "살인  114000\n",
       "절도  706200\n",
       "폭행       0"
      ]
     },
     "execution_count": 33,
     "metadata": {},
     "output_type": "execute_result"
    }
   ],
   "source": [
    "final_df"
   ]
  },
  {
   "cell_type": "code",
   "execution_count": 34,
   "id": "10f141da-0141-4d40-a823-96dc393b9269",
   "metadata": {},
   "outputs": [
    {
     "data": {
      "text/html": [
       "<div>\n",
       "<style scoped>\n",
       "    .dataframe tbody tr th:only-of-type {\n",
       "        vertical-align: middle;\n",
       "    }\n",
       "\n",
       "    .dataframe tbody tr th {\n",
       "        vertical-align: top;\n",
       "    }\n",
       "\n",
       "    .dataframe thead th {\n",
       "        text-align: right;\n",
       "    }\n",
       "</style>\n",
       "<table border=\"1\" class=\"dataframe\">\n",
       "  <thead>\n",
       "    <tr style=\"text-align: right;\">\n",
       "      <th></th>\n",
       "      <th>Count</th>\n",
       "    </tr>\n",
       "  </thead>\n",
       "  <tbody>\n",
       "    <tr>\n",
       "      <th>살인</th>\n",
       "      <td>114000</td>\n",
       "    </tr>\n",
       "    <tr>\n",
       "      <th>강간</th>\n",
       "      <td>30780</td>\n",
       "    </tr>\n",
       "    <tr>\n",
       "      <th>절도</th>\n",
       "      <td>706200</td>\n",
       "    </tr>\n",
       "    <tr>\n",
       "      <th>폭행</th>\n",
       "      <td>0</td>\n",
       "    </tr>\n",
       "  </tbody>\n",
       "</table>\n",
       "</div>"
      ],
      "text/plain": [
       "     Count\n",
       "살인  114000\n",
       "강간   30780\n",
       "절도  706200\n",
       "폭행       0"
      ]
     },
     "execution_count": 34,
     "metadata": {},
     "output_type": "execute_result"
    }
   ],
   "source": [
    "final_df = pd.DataFrame(final_df, index =['살인','강간','절도','폭행'])\n",
    "final_df"
   ]
  },
  {
   "cell_type": "code",
   "execution_count": 35,
   "id": "f05bb7ec-3d31-4ae6-b408-df50662f403d",
   "metadata": {},
   "outputs": [],
   "source": [
    "population = pd.read_csv('C:/database/france_population.CSV', encoding = 'cp949')"
   ]
  },
  {
   "cell_type": "code",
   "execution_count": 36,
   "id": "1a684eb5-ac3f-43eb-8ca6-c5231d4d2ebd",
   "metadata": {},
   "outputs": [
    {
     "data": {
      "text/html": [
       "<div>\n",
       "<style scoped>\n",
       "    .dataframe tbody tr th:only-of-type {\n",
       "        vertical-align: middle;\n",
       "    }\n",
       "\n",
       "    .dataframe tbody tr th {\n",
       "        vertical-align: top;\n",
       "    }\n",
       "\n",
       "    .dataframe thead th {\n",
       "        text-align: right;\n",
       "    }\n",
       "</style>\n",
       "<table border=\"1\" class=\"dataframe\">\n",
       "  <thead>\n",
       "    <tr style=\"text-align: right;\">\n",
       "      <th></th>\n",
       "      <th>Year</th>\n",
       "      <th>Population</th>\n",
       "    </tr>\n",
       "  </thead>\n",
       "  <tbody>\n",
       "    <tr>\n",
       "      <th>0</th>\n",
       "      <td>2021</td>\n",
       "      <td>64531444</td>\n",
       "    </tr>\n",
       "    <tr>\n",
       "      <th>1</th>\n",
       "      <td>2022</td>\n",
       "      <td>64626628</td>\n",
       "    </tr>\n",
       "    <tr>\n",
       "      <th>2</th>\n",
       "      <td>2023</td>\n",
       "      <td>64756584</td>\n",
       "    </tr>\n",
       "    <tr>\n",
       "      <th>3</th>\n",
       "      <td>2024</td>\n",
       "      <td>64881830</td>\n",
       "    </tr>\n",
       "  </tbody>\n",
       "</table>\n",
       "</div>"
      ],
      "text/plain": [
       "   Year  Population\n",
       "0  2021    64531444\n",
       "1  2022    64626628\n",
       "2  2023    64756584\n",
       "3  2024    64881830"
      ]
     },
     "execution_count": 36,
     "metadata": {},
     "output_type": "execute_result"
    }
   ],
   "source": [
    "population"
   ]
  },
  {
   "cell_type": "code",
   "execution_count": 37,
   "id": "7078f1df-ca0b-4731-9711-ca74ad4c0c17",
   "metadata": {},
   "outputs": [],
   "source": [
    "population = population.drop([1,2,3])"
   ]
  },
  {
   "cell_type": "code",
   "execution_count": 38,
   "id": "d9a94162-4f6f-45c4-91e4-ed1177038f12",
   "metadata": {
    "scrolled": true
   },
   "outputs": [
    {
     "data": {
      "text/html": [
       "<div>\n",
       "<style scoped>\n",
       "    .dataframe tbody tr th:only-of-type {\n",
       "        vertical-align: middle;\n",
       "    }\n",
       "\n",
       "    .dataframe tbody tr th {\n",
       "        vertical-align: top;\n",
       "    }\n",
       "\n",
       "    .dataframe thead th {\n",
       "        text-align: right;\n",
       "    }\n",
       "</style>\n",
       "<table border=\"1\" class=\"dataframe\">\n",
       "  <thead>\n",
       "    <tr style=\"text-align: right;\">\n",
       "      <th></th>\n",
       "      <th>Year</th>\n",
       "      <th>Population</th>\n",
       "    </tr>\n",
       "  </thead>\n",
       "  <tbody>\n",
       "    <tr>\n",
       "      <th>0</th>\n",
       "      <td>2021</td>\n",
       "      <td>64531444</td>\n",
       "    </tr>\n",
       "  </tbody>\n",
       "</table>\n",
       "</div>"
      ],
      "text/plain": [
       "   Year  Population\n",
       "0  2021    64531444"
      ]
     },
     "execution_count": 38,
     "metadata": {},
     "output_type": "execute_result"
    }
   ],
   "source": [
    "population"
   ]
  },
  {
   "cell_type": "code",
   "execution_count": 39,
   "id": "c75899a6-35ff-4673-bf40-99fd0ef3b0fd",
   "metadata": {},
   "outputs": [],
   "source": [
    "police = pd.read_csv('C:/database/france_police.CSV', encoding = 'cp949')"
   ]
  },
  {
   "cell_type": "code",
   "execution_count": 40,
   "id": "64720ac1-9b12-4ae7-aafd-c2a57335038f",
   "metadata": {},
   "outputs": [
    {
     "data": {
      "text/html": [
       "<div>\n",
       "<style scoped>\n",
       "    .dataframe tbody tr th:only-of-type {\n",
       "        vertical-align: middle;\n",
       "    }\n",
       "\n",
       "    .dataframe tbody tr th {\n",
       "        vertical-align: top;\n",
       "    }\n",
       "\n",
       "    .dataframe thead th {\n",
       "        text-align: right;\n",
       "    }\n",
       "</style>\n",
       "<table border=\"1\" class=\"dataframe\">\n",
       "  <thead>\n",
       "    <tr style=\"text-align: right;\">\n",
       "      <th></th>\n",
       "      <th>Year</th>\n",
       "      <th>Number of police officers</th>\n",
       "    </tr>\n",
       "  </thead>\n",
       "  <tbody>\n",
       "    <tr>\n",
       "      <th>0</th>\n",
       "      <td>2012</td>\n",
       "      <td>142,864</td>\n",
       "    </tr>\n",
       "    <tr>\n",
       "      <th>1</th>\n",
       "      <td>2013</td>\n",
       "      <td>142,513</td>\n",
       "    </tr>\n",
       "    <tr>\n",
       "      <th>2</th>\n",
       "      <td>2014</td>\n",
       "      <td>143,240</td>\n",
       "    </tr>\n",
       "    <tr>\n",
       "      <th>3</th>\n",
       "      <td>2015</td>\n",
       "      <td>144,358</td>\n",
       "    </tr>\n",
       "    <tr>\n",
       "      <th>4</th>\n",
       "      <td>2016</td>\n",
       "      <td>146,738</td>\n",
       "    </tr>\n",
       "    <tr>\n",
       "      <th>5</th>\n",
       "      <td>2017</td>\n",
       "      <td>148,670</td>\n",
       "    </tr>\n",
       "    <tr>\n",
       "      <th>6</th>\n",
       "      <td>2018</td>\n",
       "      <td>149,883</td>\n",
       "    </tr>\n",
       "    <tr>\n",
       "      <th>7</th>\n",
       "      <td>2019</td>\n",
       "      <td>151,681</td>\n",
       "    </tr>\n",
       "    <tr>\n",
       "      <th>8</th>\n",
       "      <td>2020</td>\n",
       "      <td>153,489</td>\n",
       "    </tr>\n",
       "    <tr>\n",
       "      <th>9</th>\n",
       "      <td>2021</td>\n",
       "      <td>154547</td>\n",
       "    </tr>\n",
       "  </tbody>\n",
       "</table>\n",
       "</div>"
      ],
      "text/plain": [
       "   Year Number of police officers\n",
       "0  2012                   142,864\n",
       "1  2013                   142,513\n",
       "2  2014                   143,240\n",
       "3  2015                   144,358\n",
       "4  2016                   146,738\n",
       "5  2017                   148,670\n",
       "6  2018                   149,883\n",
       "7  2019                   151,681\n",
       "8  2020                   153,489\n",
       "9  2021                    154547"
      ]
     },
     "execution_count": 40,
     "metadata": {},
     "output_type": "execute_result"
    }
   ],
   "source": [
    "police"
   ]
  },
  {
   "cell_type": "code",
   "execution_count": 41,
   "id": "c7455fc8-4a33-4284-ac9c-db7b9068cfc0",
   "metadata": {},
   "outputs": [],
   "source": [
    "police = police.drop([0,1,2,3,4,5,6,7,8])"
   ]
  },
  {
   "cell_type": "code",
   "execution_count": 42,
   "id": "da349ac1-ffd7-434a-a29c-2a255b93e9e8",
   "metadata": {},
   "outputs": [
    {
     "data": {
      "text/html": [
       "<div>\n",
       "<style scoped>\n",
       "    .dataframe tbody tr th:only-of-type {\n",
       "        vertical-align: middle;\n",
       "    }\n",
       "\n",
       "    .dataframe tbody tr th {\n",
       "        vertical-align: top;\n",
       "    }\n",
       "\n",
       "    .dataframe thead th {\n",
       "        text-align: right;\n",
       "    }\n",
       "</style>\n",
       "<table border=\"1\" class=\"dataframe\">\n",
       "  <thead>\n",
       "    <tr style=\"text-align: right;\">\n",
       "      <th></th>\n",
       "      <th>Year</th>\n",
       "      <th>Number of police officers</th>\n",
       "    </tr>\n",
       "  </thead>\n",
       "  <tbody>\n",
       "    <tr>\n",
       "      <th>9</th>\n",
       "      <td>2021</td>\n",
       "      <td>154547</td>\n",
       "    </tr>\n",
       "  </tbody>\n",
       "</table>\n",
       "</div>"
      ],
      "text/plain": [
       "   Year Number of police officers\n",
       "9  2021                    154547"
      ]
     },
     "execution_count": 42,
     "metadata": {},
     "output_type": "execute_result"
    }
   ],
   "source": [
    "police"
   ]
  },
  {
   "cell_type": "code",
   "execution_count": 43,
   "id": "e7749c68-cda6-4f9a-8821-5f1c539585a9",
   "metadata": {},
   "outputs": [],
   "source": [
    "police_population = pd.concat([police,population])"
   ]
  },
  {
   "cell_type": "code",
   "execution_count": 44,
   "id": "637271fd-36ac-40e4-af36-433db9a5119d",
   "metadata": {},
   "outputs": [],
   "source": [
    "police_population = police_population.drop(columns = 'Year')"
   ]
  },
  {
   "cell_type": "code",
   "execution_count": 45,
   "id": "746035fd-6412-4e2e-94cf-b367578af084",
   "metadata": {},
   "outputs": [],
   "source": [
    "police_population = pd.DataFrame(police_population, index = ['총경찰관수','총인구수'])"
   ]
  },
  {
   "cell_type": "code",
   "execution_count": 46,
   "id": "10778b30-5b1d-45bf-bdfa-bde9b8192aae",
   "metadata": {},
   "outputs": [],
   "source": [
    "police_population = police_population.rename(columns = {'Population' : 'Count'})"
   ]
  },
  {
   "cell_type": "code",
   "execution_count": 47,
   "id": "e1e6967d-3843-4df0-bb3c-c1a77cb48d95",
   "metadata": {},
   "outputs": [],
   "source": [
    "police_population = police_population.drop(columns = 'Number of police officers')"
   ]
  },
  {
   "cell_type": "code",
   "execution_count": 48,
   "id": "307c2028-4678-44c1-8bd2-f33928302420",
   "metadata": {},
   "outputs": [],
   "source": [
    "police_population = pd.DataFrame({ 'Count' : { '총경찰관수' : 154547 , '총인구수':64531444}})"
   ]
  },
  {
   "cell_type": "code",
   "execution_count": 49,
   "id": "92bcb8e3-eaf8-4bf2-a6d5-ea9abd391bc5",
   "metadata": {},
   "outputs": [
    {
     "data": {
      "text/html": [
       "<div>\n",
       "<style scoped>\n",
       "    .dataframe tbody tr th:only-of-type {\n",
       "        vertical-align: middle;\n",
       "    }\n",
       "\n",
       "    .dataframe tbody tr th {\n",
       "        vertical-align: top;\n",
       "    }\n",
       "\n",
       "    .dataframe thead th {\n",
       "        text-align: right;\n",
       "    }\n",
       "</style>\n",
       "<table border=\"1\" class=\"dataframe\">\n",
       "  <thead>\n",
       "    <tr style=\"text-align: right;\">\n",
       "      <th></th>\n",
       "      <th>Count</th>\n",
       "    </tr>\n",
       "  </thead>\n",
       "  <tbody>\n",
       "    <tr>\n",
       "      <th>총경찰관수</th>\n",
       "      <td>154547</td>\n",
       "    </tr>\n",
       "    <tr>\n",
       "      <th>총인구수</th>\n",
       "      <td>64531444</td>\n",
       "    </tr>\n",
       "  </tbody>\n",
       "</table>\n",
       "</div>"
      ],
      "text/plain": [
       "          Count\n",
       "총경찰관수    154547\n",
       "총인구수   64531444"
      ]
     },
     "execution_count": 49,
     "metadata": {},
     "output_type": "execute_result"
    }
   ],
   "source": [
    "police_population"
   ]
  },
  {
   "cell_type": "code",
   "execution_count": 50,
   "id": "9eb2c6e7-a066-4d74-94c6-bfbb1f2e7d0d",
   "metadata": {},
   "outputs": [],
   "source": [
    "cctv = pd.read_csv('C:/database/amount of cctv.CSV' , encoding = 'cp949')"
   ]
  },
  {
   "cell_type": "code",
   "execution_count": 51,
   "id": "712641f2-e300-4aed-bd6a-6f152141d33c",
   "metadata": {},
   "outputs": [],
   "source": [
    "cctv = cctv.drop(columns = '순위')"
   ]
  },
  {
   "cell_type": "code",
   "execution_count": 52,
   "id": "9d7ab12d-e0a9-4c2c-9115-690465a144ec",
   "metadata": {},
   "outputs": [],
   "source": [
    "cctv = cctv.drop([0,1,2,3,4,6,7,8,9,10,11,12,13,14,15,16,17,18])"
   ]
  },
  {
   "cell_type": "code",
   "execution_count": 53,
   "id": "fb1cad53-b46f-4fe1-b6e5-6f52a7e4598a",
   "metadata": {},
   "outputs": [],
   "source": [
    "cctv_population = pd.concat([cctv,population])"
   ]
  },
  {
   "cell_type": "code",
   "execution_count": 54,
   "id": "9d059955-3cef-481f-bc0b-37f7ca221df9",
   "metadata": {},
   "outputs": [],
   "source": [
    "cctv_population = cctv_population.drop(columns = '나라')"
   ]
  },
  {
   "cell_type": "code",
   "execution_count": 55,
   "id": "a17c8591-7c46-42a3-93fc-0c429d291c2b",
   "metadata": {},
   "outputs": [],
   "source": [
    "cctv_population = cctv_population.drop(columns = 'Year')"
   ]
  },
  {
   "cell_type": "code",
   "execution_count": 56,
   "id": "4448a636-d9f6-4c3b-aa24-6910fc06e99b",
   "metadata": {},
   "outputs": [],
   "source": [
    "cctv_population = pd.DataFrame(cctv_population , index = ['총CCTV수','총인구수'])"
   ]
  },
  {
   "cell_type": "code",
   "execution_count": 57,
   "id": "2924d3a5-8329-4824-ac1b-7d662f6bb463",
   "metadata": {},
   "outputs": [],
   "source": [
    "cctv_population = cctv_population.drop(columns = 'CCTV 개수')"
   ]
  },
  {
   "cell_type": "code",
   "execution_count": 58,
   "id": "8b052a06-f19f-46ac-8be3-eddfb7c8bb73",
   "metadata": {},
   "outputs": [],
   "source": [
    "cctv_population = cctv_population.rename(columns = {'Population' : 'Count'})"
   ]
  },
  {
   "cell_type": "code",
   "execution_count": 59,
   "id": "77e7bae6-ceb4-4e91-a695-7ce3c56a925a",
   "metadata": {},
   "outputs": [],
   "source": [
    "cctv_population = pd.DataFrame({'Count' : {'총CCTV수': 1650000 ,'총인구수' :64531444}})"
   ]
  },
  {
   "cell_type": "code",
   "execution_count": 60,
   "id": "cef4ea67-1aa6-4989-9269-22d4c99d2b33",
   "metadata": {},
   "outputs": [
    {
     "data": {
      "text/html": [
       "<div>\n",
       "<style scoped>\n",
       "    .dataframe tbody tr th:only-of-type {\n",
       "        vertical-align: middle;\n",
       "    }\n",
       "\n",
       "    .dataframe tbody tr th {\n",
       "        vertical-align: top;\n",
       "    }\n",
       "\n",
       "    .dataframe thead th {\n",
       "        text-align: right;\n",
       "    }\n",
       "</style>\n",
       "<table border=\"1\" class=\"dataframe\">\n",
       "  <thead>\n",
       "    <tr style=\"text-align: right;\">\n",
       "      <th></th>\n",
       "      <th>Count</th>\n",
       "    </tr>\n",
       "  </thead>\n",
       "  <tbody>\n",
       "    <tr>\n",
       "      <th>총CCTV수</th>\n",
       "      <td>1650000</td>\n",
       "    </tr>\n",
       "    <tr>\n",
       "      <th>총인구수</th>\n",
       "      <td>64531444</td>\n",
       "    </tr>\n",
       "  </tbody>\n",
       "</table>\n",
       "</div>"
      ],
      "text/plain": [
       "           Count\n",
       "총CCTV수   1650000\n",
       "총인구수    64531444"
      ]
     },
     "execution_count": 60,
     "metadata": {},
     "output_type": "execute_result"
    }
   ],
   "source": [
    "cctv_population"
   ]
  },
  {
   "cell_type": "code",
   "execution_count": 61,
   "id": "cfd57d91-2dd9-4287-8de0-c1364c774fd5",
   "metadata": {},
   "outputs": [],
   "source": [
    "recidivism = pd.read_csv('C:/database/france_recidivism.CSV', encoding = 'cp949')"
   ]
  },
  {
   "cell_type": "code",
   "execution_count": 62,
   "id": "d12930b6-c9c5-4d79-81ee-a0f23b68e478",
   "metadata": {},
   "outputs": [],
   "source": [
    "recidivism = recidivism.drop([0,1,2,3,4,5,6,7,8])"
   ]
  },
  {
   "cell_type": "code",
   "execution_count": 63,
   "id": "4deb2813-bbc8-4dd2-a347-24d8b8874feb",
   "metadata": {},
   "outputs": [],
   "source": [
    "recidivism = recidivism.drop(columns = 'year ')"
   ]
  },
  {
   "cell_type": "code",
   "execution_count": 64,
   "id": "46c0d712-d963-44c3-be4a-5c2f85f43d67",
   "metadata": {},
   "outputs": [],
   "source": [
    "recidivism = pd.DataFrame(recidivism, index = ['재범률'])"
   ]
  },
  {
   "cell_type": "code",
   "execution_count": 65,
   "id": "b8fca941-53df-41b4-a197-c32317fc1da1",
   "metadata": {},
   "outputs": [],
   "source": [
    "recidivism = recidivism.rename(columns = {'recidivism rate' : 'Count'}) "
   ]
  },
  {
   "cell_type": "code",
   "execution_count": 66,
   "id": "620fd71f-158a-46ff-b6b4-21ddd91b7536",
   "metadata": {},
   "outputs": [],
   "source": [
    "recidivism = pd.DataFrame({'Count': {'재범률': 14.6}})"
   ]
  },
  {
   "cell_type": "code",
   "execution_count": 67,
   "id": "3aa27f0e-ff78-41f0-ad47-d29c0596af51",
   "metadata": {},
   "outputs": [
    {
     "data": {
      "text/html": [
       "<div>\n",
       "<style scoped>\n",
       "    .dataframe tbody tr th:only-of-type {\n",
       "        vertical-align: middle;\n",
       "    }\n",
       "\n",
       "    .dataframe tbody tr th {\n",
       "        vertical-align: top;\n",
       "    }\n",
       "\n",
       "    .dataframe thead th {\n",
       "        text-align: right;\n",
       "    }\n",
       "</style>\n",
       "<table border=\"1\" class=\"dataframe\">\n",
       "  <thead>\n",
       "    <tr style=\"text-align: right;\">\n",
       "      <th></th>\n",
       "      <th>Count</th>\n",
       "    </tr>\n",
       "  </thead>\n",
       "  <tbody>\n",
       "    <tr>\n",
       "      <th>재범률</th>\n",
       "      <td>14.6</td>\n",
       "    </tr>\n",
       "  </tbody>\n",
       "</table>\n",
       "</div>"
      ],
      "text/plain": [
       "     Count\n",
       "재범률   14.6"
      ]
     },
     "execution_count": 67,
     "metadata": {},
     "output_type": "execute_result"
    }
   ],
   "source": [
    "recidivism"
   ]
  },
  {
   "cell_type": "code",
   "execution_count": 68,
   "id": "7f37863d-864b-4022-9351-e28c891fb7ca",
   "metadata": {},
   "outputs": [
    {
     "data": {
      "text/html": [
       "<div>\n",
       "<style scoped>\n",
       "    .dataframe tbody tr th:only-of-type {\n",
       "        vertical-align: middle;\n",
       "    }\n",
       "\n",
       "    .dataframe tbody tr th {\n",
       "        vertical-align: top;\n",
       "    }\n",
       "\n",
       "    .dataframe thead th {\n",
       "        text-align: right;\n",
       "    }\n",
       "</style>\n",
       "<table border=\"1\" class=\"dataframe\">\n",
       "  <thead>\n",
       "    <tr style=\"text-align: right;\">\n",
       "      <th></th>\n",
       "      <th>Count</th>\n",
       "    </tr>\n",
       "  </thead>\n",
       "  <tbody>\n",
       "    <tr>\n",
       "      <th>살인</th>\n",
       "      <td>114000</td>\n",
       "    </tr>\n",
       "    <tr>\n",
       "      <th>강간</th>\n",
       "      <td>30780</td>\n",
       "    </tr>\n",
       "    <tr>\n",
       "      <th>절도</th>\n",
       "      <td>706200</td>\n",
       "    </tr>\n",
       "    <tr>\n",
       "      <th>폭행</th>\n",
       "      <td>0</td>\n",
       "    </tr>\n",
       "  </tbody>\n",
       "</table>\n",
       "</div>"
      ],
      "text/plain": [
       "     Count\n",
       "살인  114000\n",
       "강간   30780\n",
       "절도  706200\n",
       "폭행       0"
      ]
     },
     "execution_count": 68,
     "metadata": {},
     "output_type": "execute_result"
    }
   ],
   "source": [
    "final_df"
   ]
  },
  {
   "cell_type": "code",
   "execution_count": 70,
   "id": "8ce24488-8f00-47dd-9961-84bcef7078d3",
   "metadata": {},
   "outputs": [
    {
     "data": {
      "text/html": [
       "<div>\n",
       "<style scoped>\n",
       "    .dataframe tbody tr th:only-of-type {\n",
       "        vertical-align: middle;\n",
       "    }\n",
       "\n",
       "    .dataframe tbody tr th {\n",
       "        vertical-align: top;\n",
       "    }\n",
       "\n",
       "    .dataframe thead th {\n",
       "        text-align: right;\n",
       "    }\n",
       "</style>\n",
       "<table border=\"1\" class=\"dataframe\">\n",
       "  <thead>\n",
       "    <tr style=\"text-align: right;\">\n",
       "      <th></th>\n",
       "      <th>Count</th>\n",
       "    </tr>\n",
       "  </thead>\n",
       "  <tbody>\n",
       "    <tr>\n",
       "      <th>총경찰관수</th>\n",
       "      <td>154547</td>\n",
       "    </tr>\n",
       "    <tr>\n",
       "      <th>총인구수</th>\n",
       "      <td>64531444</td>\n",
       "    </tr>\n",
       "  </tbody>\n",
       "</table>\n",
       "</div>"
      ],
      "text/plain": [
       "          Count\n",
       "총경찰관수    154547\n",
       "총인구수   64531444"
      ]
     },
     "execution_count": 70,
     "metadata": {},
     "output_type": "execute_result"
    }
   ],
   "source": [
    "police_population"
   ]
  },
  {
   "cell_type": "code",
   "execution_count": 71,
   "id": "0c0d089d-8ca1-44d4-8760-89e0f3ea1d86",
   "metadata": {},
   "outputs": [
    {
     "data": {
      "text/html": [
       "<div>\n",
       "<style scoped>\n",
       "    .dataframe tbody tr th:only-of-type {\n",
       "        vertical-align: middle;\n",
       "    }\n",
       "\n",
       "    .dataframe tbody tr th {\n",
       "        vertical-align: top;\n",
       "    }\n",
       "\n",
       "    .dataframe thead th {\n",
       "        text-align: right;\n",
       "    }\n",
       "</style>\n",
       "<table border=\"1\" class=\"dataframe\">\n",
       "  <thead>\n",
       "    <tr style=\"text-align: right;\">\n",
       "      <th></th>\n",
       "      <th>Count</th>\n",
       "    </tr>\n",
       "  </thead>\n",
       "  <tbody>\n",
       "    <tr>\n",
       "      <th>총CCTV수</th>\n",
       "      <td>1650000</td>\n",
       "    </tr>\n",
       "    <tr>\n",
       "      <th>총인구수</th>\n",
       "      <td>64531444</td>\n",
       "    </tr>\n",
       "  </tbody>\n",
       "</table>\n",
       "</div>"
      ],
      "text/plain": [
       "           Count\n",
       "총CCTV수   1650000\n",
       "총인구수    64531444"
      ]
     },
     "execution_count": 71,
     "metadata": {},
     "output_type": "execute_result"
    }
   ],
   "source": [
    "cctv_population"
   ]
  },
  {
   "cell_type": "code",
   "execution_count": 72,
   "id": "71215190-c71f-447c-ac33-170b0bca960a",
   "metadata": {},
   "outputs": [
    {
     "data": {
      "text/html": [
       "<div>\n",
       "<style scoped>\n",
       "    .dataframe tbody tr th:only-of-type {\n",
       "        vertical-align: middle;\n",
       "    }\n",
       "\n",
       "    .dataframe tbody tr th {\n",
       "        vertical-align: top;\n",
       "    }\n",
       "\n",
       "    .dataframe thead th {\n",
       "        text-align: right;\n",
       "    }\n",
       "</style>\n",
       "<table border=\"1\" class=\"dataframe\">\n",
       "  <thead>\n",
       "    <tr style=\"text-align: right;\">\n",
       "      <th></th>\n",
       "      <th>Count</th>\n",
       "    </tr>\n",
       "  </thead>\n",
       "  <tbody>\n",
       "    <tr>\n",
       "      <th>재범률</th>\n",
       "      <td>14.6</td>\n",
       "    </tr>\n",
       "  </tbody>\n",
       "</table>\n",
       "</div>"
      ],
      "text/plain": [
       "     Count\n",
       "재범률   14.6"
      ]
     },
     "execution_count": 72,
     "metadata": {},
     "output_type": "execute_result"
    }
   ],
   "source": [
    "recidivism"
   ]
  },
  {
   "cell_type": "code",
   "execution_count": 73,
   "id": "ec2f3d55-cfbd-4f05-ae4c-48acc612f303",
   "metadata": {},
   "outputs": [
    {
     "name": "stdout",
     "output_type": "stream",
     "text": [
      "<class 'pandas.core.frame.DataFrame'>\n",
      "Index: 1 entries, 재범률 to 재범률\n",
      "Data columns (total 1 columns):\n",
      " #   Column  Non-Null Count  Dtype  \n",
      "---  ------  --------------  -----  \n",
      " 0   Count   1 non-null      float64\n",
      "dtypes: float64(1)\n",
      "memory usage: 16.0+ bytes\n"
     ]
    }
   ],
   "source": [
    "recidivism.info()"
   ]
  }
 ],
 "metadata": {
  "kernelspec": {
   "display_name": "Python 3 (ipykernel)",
   "language": "python",
   "name": "python3"
  },
  "language_info": {
   "codemirror_mode": {
    "name": "ipython",
    "version": 3
   },
   "file_extension": ".py",
   "mimetype": "text/x-python",
   "name": "python",
   "nbconvert_exporter": "python",
   "pygments_lexer": "ipython3",
   "version": "3.11.7"
  }
 },
 "nbformat": 4,
 "nbformat_minor": 5
}
