{
 "cells": [
  {
   "cell_type": "code",
   "execution_count": 1,
   "id": "860d6359-4c8e-4dee-a5bc-889b2cd769d8",
   "metadata": {},
   "outputs": [
    {
     "name": "stdout",
     "output_type": "stream",
     "text": [
      "<class 'pandas.core.frame.DataFrame'>\n",
      "RangeIndex: 239 entries, 0 to 238\n",
      "Data columns (total 26 columns):\n",
      " #   Column                            Non-Null Count  Dtype \n",
      "---  ------                            --------------  ----- \n",
      " 0   Offence code                      198 non-null    object\n",
      " 1   Offence category                  239 non-null    object\n",
      " 2   Apr 2002 to \n",
      " Mar 2003            147 non-null    object\n",
      " 3   Apr 2003 to \n",
      " Mar 2004            149 non-null    object\n",
      " 4   Apr 2004 to \n",
      " Mar 2005            166 non-null    object\n",
      " 5   Apr 2005 to \n",
      " Mar 2006            167 non-null    object\n",
      " 6   Apr 2006 to \n",
      " Mar 2007            167 non-null    object\n",
      " 7   Apr 2007 to \n",
      " Mar 2008            175 non-null    object\n",
      " 8   Apr 2008 to \n",
      " Mar 2009            190 non-null    object\n",
      " 9   Apr 2009 to \n",
      " Mar 2010            186 non-null    object\n",
      " 10  Apr 2010 to \n",
      " Mar 2011            185 non-null    object\n",
      " 11  Apr 2011 to \n",
      " Mar 2012            187 non-null    object\n",
      " 12  Apr 2012 to \n",
      " Mar 2013            165 non-null    object\n",
      " 13  Apr 2013 to \n",
      " Mar 2014            159 non-null    object\n",
      " 14  Apr 2014 to \n",
      " Mar 2015            158 non-null    object\n",
      " 15  Apr 2015 to \n",
      " Mar 2016            159 non-null    object\n",
      " 16  Apr 2016 to \n",
      " Mar 2017            158 non-null    object\n",
      " 17  Apr 2017 to \n",
      " Mar 2018            159 non-null    object\n",
      " 18  Apr 2018 to \n",
      " Mar 2019            159 non-null    object\n",
      " 19  Apr 2019 to \n",
      " Mar 2020            161 non-null    object\n",
      " 20  Apr 2020 to \n",
      " Mar 2021            163 non-null    object\n",
      " 21  Apr 2021 to \n",
      " Mar 2022            163 non-null    object\n",
      " 22  Jan 2021 to \n",
      " Dec 2021            163 non-null    object\n",
      " 23  Jan 2022 to Dec 2022              163 non-null    object\n",
      " 24  Dec 2022 with Mar 2020 \n",
      "% change  161 non-null    object\n",
      " 25  Dec 2022 with Dec 2021 \n",
      "% change  162 non-null    object\n",
      "dtypes: object(26)\n",
      "memory usage: 48.7+ KB\n"
     ]
    }
   ],
   "source": [
    "import pandas as pd\n",
    "\n",
    "crimeCountData = pd.read_csv('data/appendixtablesyedec22.csv', encoding='utf-8')\n",
    "\n",
    "crimeCountData.info()"
   ]
  },
  {
   "cell_type": "code",
   "execution_count": 2,
   "id": "ce4124cb-5c44-4add-8dcc-85adeebd4898",
   "metadata": {},
   "outputs": [
    {
     "data": {
      "text/html": [
       "<div>\n",
       "<style scoped>\n",
       "    .dataframe tbody tr th:only-of-type {\n",
       "        vertical-align: middle;\n",
       "    }\n",
       "\n",
       "    .dataframe tbody tr th {\n",
       "        vertical-align: top;\n",
       "    }\n",
       "\n",
       "    .dataframe thead th {\n",
       "        text-align: right;\n",
       "    }\n",
       "</style>\n",
       "<table border=\"1\" class=\"dataframe\">\n",
       "  <thead>\n",
       "    <tr style=\"text-align: right;\">\n",
       "      <th></th>\n",
       "      <th>Offence category</th>\n",
       "      <th>Jan 2022 to Dec 2022</th>\n",
       "    </tr>\n",
       "  </thead>\n",
       "  <tbody>\n",
       "    <tr>\n",
       "      <th>0</th>\n",
       "      <td>VICTIM BASED CRIME</td>\n",
       "      <td>4,500,594</td>\n",
       "    </tr>\n",
       "    <tr>\n",
       "      <th>1</th>\n",
       "      <td>Murder [note 3]</td>\n",
       "      <td>542</td>\n",
       "    </tr>\n",
       "    <tr>\n",
       "      <th>2</th>\n",
       "      <td>Manslaughter [note 3]</td>\n",
       "      <td>76</td>\n",
       "    </tr>\n",
       "    <tr>\n",
       "      <th>3</th>\n",
       "      <td>Corporate manslaughter</td>\n",
       "      <td>13</td>\n",
       "    </tr>\n",
       "    <tr>\n",
       "      <th>4</th>\n",
       "      <td>Infanticide</td>\n",
       "      <td>1</td>\n",
       "    </tr>\n",
       "  </tbody>\n",
       "</table>\n",
       "</div>"
      ],
      "text/plain": [
       "         Offence category Jan 2022 to Dec 2022\n",
       "0     VICTIM BASED CRIME             4,500,594\n",
       "1         Murder [note 3]                  542\n",
       "2   Manslaughter [note 3]                   76\n",
       "3  Corporate manslaughter                   13\n",
       "4             Infanticide                    1"
      ]
     },
     "execution_count": 2,
     "metadata": {},
     "output_type": "execute_result"
    }
   ],
   "source": [
    "select_columns=['Offence category', 'Jan 2022 to Dec 2022']\n",
    "\n",
    "revisedCrimeCount = crimeCountData[select_columns]\n",
    "\n",
    "revisedCrimeCount.head()"
   ]
  },
  {
   "cell_type": "code",
   "execution_count": 3,
   "id": "ca96c165-94fb-4d79-b22a-57ad28932950",
   "metadata": {},
   "outputs": [
    {
     "data": {
      "text/html": [
       "<div>\n",
       "<style scoped>\n",
       "    .dataframe tbody tr th:only-of-type {\n",
       "        vertical-align: middle;\n",
       "    }\n",
       "\n",
       "    .dataframe tbody tr th {\n",
       "        vertical-align: top;\n",
       "    }\n",
       "\n",
       "    .dataframe thead th {\n",
       "        text-align: right;\n",
       "    }\n",
       "</style>\n",
       "<table border=\"1\" class=\"dataframe\">\n",
       "  <thead>\n",
       "    <tr style=\"text-align: right;\">\n",
       "      <th></th>\n",
       "      <th>Jan 2022 to Dec 2022</th>\n",
       "    </tr>\n",
       "    <tr>\n",
       "      <th>Offence category</th>\n",
       "      <th></th>\n",
       "    </tr>\n",
       "  </thead>\n",
       "  <tbody>\n",
       "    <tr>\n",
       "      <th>VICTIM BASED CRIME</th>\n",
       "      <td>4,500,594</td>\n",
       "    </tr>\n",
       "    <tr>\n",
       "      <th>Murder [note 3]</th>\n",
       "      <td>542</td>\n",
       "    </tr>\n",
       "    <tr>\n",
       "      <th>Manslaughter [note 3]</th>\n",
       "      <td>76</td>\n",
       "    </tr>\n",
       "    <tr>\n",
       "      <th>Corporate manslaughter</th>\n",
       "      <td>13</td>\n",
       "    </tr>\n",
       "    <tr>\n",
       "      <th>Infanticide</th>\n",
       "      <td>1</td>\n",
       "    </tr>\n",
       "  </tbody>\n",
       "</table>\n",
       "</div>"
      ],
      "text/plain": [
       "                       Jan 2022 to Dec 2022\n",
       "Offence category                           \n",
       "VICTIM BASED CRIME                4,500,594\n",
       "Murder [note 3]                         542\n",
       "Manslaughter [note 3]                    76\n",
       "Corporate manslaughter                   13\n",
       "Infanticide                               1"
      ]
     },
     "execution_count": 3,
     "metadata": {},
     "output_type": "execute_result"
    }
   ],
   "source": [
    "revisedCrimeCount_index = revisedCrimeCount.set_index('Offence category')\n",
    "\n",
    "revisedCrimeCount_index.head()"
   ]
  },
  {
   "cell_type": "code",
   "execution_count": 4,
   "id": "a194fda0-1d21-43db-addc-a9a5201dc57e",
   "metadata": {},
   "outputs": [
    {
     "data": {
      "text/html": [
       "<div>\n",
       "<style scoped>\n",
       "    .dataframe tbody tr th:only-of-type {\n",
       "        vertical-align: middle;\n",
       "    }\n",
       "\n",
       "    .dataframe tbody tr th {\n",
       "        vertical-align: top;\n",
       "    }\n",
       "\n",
       "    .dataframe thead th {\n",
       "        text-align: right;\n",
       "    }\n",
       "</style>\n",
       "<table border=\"1\" class=\"dataframe\">\n",
       "  <thead>\n",
       "    <tr style=\"text-align: right;\">\n",
       "      <th></th>\n",
       "      <th>Jan 2022 to Dec 2022</th>\n",
       "    </tr>\n",
       "    <tr>\n",
       "      <th>Offence category</th>\n",
       "      <th></th>\n",
       "    </tr>\n",
       "  </thead>\n",
       "  <tbody>\n",
       "    <tr>\n",
       "      <th>VICTIM BASED CRIME</th>\n",
       "      <td>4,500,594</td>\n",
       "    </tr>\n",
       "    <tr>\n",
       "      <th>Murder [note 3]</th>\n",
       "      <td>542</td>\n",
       "    </tr>\n",
       "    <tr>\n",
       "      <th>Manslaughter [note 3]</th>\n",
       "      <td>76</td>\n",
       "    </tr>\n",
       "    <tr>\n",
       "      <th>Corporate manslaughter</th>\n",
       "      <td>13</td>\n",
       "    </tr>\n",
       "    <tr>\n",
       "      <th>Infanticide</th>\n",
       "      <td>1</td>\n",
       "    </tr>\n",
       "    <tr>\n",
       "      <th>Homicide [note 3,4,5,6,7,8]</th>\n",
       "      <td>632</td>\n",
       "    </tr>\n",
       "    <tr>\n",
       "      <th>Causing death or serious injury by dangerous driving [note 9]</th>\n",
       "      <td>663</td>\n",
       "    </tr>\n",
       "    <tr>\n",
       "      <th>Causing death by careless driving when under the influence of drink or drugs</th>\n",
       "      <td>20</td>\n",
       "    </tr>\n",
       "    <tr>\n",
       "      <th>Causing death by careless or inconsiderate driving</th>\n",
       "      <td>99</td>\n",
       "    </tr>\n",
       "    <tr>\n",
       "      <th>Causing death by dangerous or careless driving</th>\n",
       "      <td>0</td>\n",
       "    </tr>\n",
       "    <tr>\n",
       "      <th>Causing death by driving: unlicensed or disqualified or uninsured drivers</th>\n",
       "      <td>26</td>\n",
       "    </tr>\n",
       "    <tr>\n",
       "      <th>Causing death by aggravated vehicle taking</th>\n",
       "      <td>5</td>\n",
       "    </tr>\n",
       "  </tbody>\n",
       "</table>\n",
       "</div>"
      ],
      "text/plain": [
       "                                                   Jan 2022 to Dec 2022\n",
       "Offence category                                                       \n",
       "VICTIM BASED CRIME                                            4,500,594\n",
       "Murder [note 3]                                                     542\n",
       "Manslaughter [note 3]                                                76\n",
       "Corporate manslaughter                                               13\n",
       "Infanticide                                                           1\n",
       "Homicide [note 3,4,5,6,7,8]                                         632\n",
       "Causing death or serious injury by dangerous dr...                  663\n",
       "Causing death by careless driving when under th...                   20\n",
       "Causing death by careless or inconsiderate driving                   99\n",
       "Causing death by dangerous or careless driving                        0\n",
       "Causing death by driving: unlicensed or disqual...                   26\n",
       "Causing death by aggravated vehicle taking                            5"
      ]
     },
     "execution_count": 4,
     "metadata": {},
     "output_type": "execute_result"
    }
   ],
   "source": [
    "noNull_Crime_Index = revisedCrimeCount_index.fillna('0')\n",
    "\n",
    "noNull_Crime_Index.head(12)"
   ]
  },
  {
   "cell_type": "code",
   "execution_count": 5,
   "id": "fdb69857-672b-45b4-8740-f3af7f5ce58b",
   "metadata": {},
   "outputs": [
    {
     "data": {
      "text/plain": [
       "'object'"
      ]
     },
     "execution_count": 5,
     "metadata": {},
     "output_type": "execute_result"
    }
   ],
   "source": [
    "str(noNull_Crime_Index['Jan 2022 to Dec 2022'].dtype)"
   ]
  },
  {
   "cell_type": "code",
   "execution_count": 6,
   "id": "ca44235f-326e-4bb0-a430-2f1993be3113",
   "metadata": {},
   "outputs": [
    {
     "data": {
      "text/html": [
       "<div>\n",
       "<style scoped>\n",
       "    .dataframe tbody tr th:only-of-type {\n",
       "        vertical-align: middle;\n",
       "    }\n",
       "\n",
       "    .dataframe tbody tr th {\n",
       "        vertical-align: top;\n",
       "    }\n",
       "\n",
       "    .dataframe thead th {\n",
       "        text-align: right;\n",
       "    }\n",
       "</style>\n",
       "<table border=\"1\" class=\"dataframe\">\n",
       "  <thead>\n",
       "    <tr style=\"text-align: right;\">\n",
       "      <th></th>\n",
       "      <th>Jan 2022 to Dec 2022</th>\n",
       "      <th>Count</th>\n",
       "    </tr>\n",
       "    <tr>\n",
       "      <th>Offence category</th>\n",
       "      <th></th>\n",
       "      <th></th>\n",
       "    </tr>\n",
       "  </thead>\n",
       "  <tbody>\n",
       "    <tr>\n",
       "      <th>VICTIM BASED CRIME</th>\n",
       "      <td>4500594</td>\n",
       "      <td>4500594</td>\n",
       "    </tr>\n",
       "    <tr>\n",
       "      <th>Murder [note 3]</th>\n",
       "      <td>542</td>\n",
       "      <td>542</td>\n",
       "    </tr>\n",
       "    <tr>\n",
       "      <th>Manslaughter [note 3]</th>\n",
       "      <td>76</td>\n",
       "      <td>76</td>\n",
       "    </tr>\n",
       "    <tr>\n",
       "      <th>Corporate manslaughter</th>\n",
       "      <td>13</td>\n",
       "      <td>13</td>\n",
       "    </tr>\n",
       "    <tr>\n",
       "      <th>Infanticide</th>\n",
       "      <td>1</td>\n",
       "      <td>1</td>\n",
       "    </tr>\n",
       "  </tbody>\n",
       "</table>\n",
       "</div>"
      ],
      "text/plain": [
       "                       Jan 2022 to Dec 2022    Count\n",
       "Offence category                                    \n",
       "VICTIM BASED CRIME                  4500594  4500594\n",
       "Murder [note 3]                         542      542\n",
       "Manslaughter [note 3]                    76       76\n",
       "Corporate manslaughter                   13       13\n",
       "Infanticide                               1        1"
      ]
     },
     "execution_count": 6,
     "metadata": {},
     "output_type": "execute_result"
    }
   ],
   "source": [
    "noNull_Crime_Index['Jan 2022 to Dec 2022'] = [x.replace(',', '') for x in noNull_Crime_Index['Jan 2022 to Dec 2022']]\n",
    "\n",
    "noNull_Crime_Index['Count'] = pd.to_numeric(noNull_Crime_Index['Jan 2022 to Dec 2022'])\n",
    "\n",
    "noNull_Crime_Index.head()"
   ]
  },
  {
   "cell_type": "code",
   "execution_count": 7,
   "id": "39b0d990-7ac4-4b96-a186-07aff0fd3ad8",
   "metadata": {},
   "outputs": [
    {
     "data": {
      "text/plain": [
       "Offence category\n",
       "VICTIM BASED CRIME        4500594\n",
       "Murder [note 3]               542\n",
       "Manslaughter [note 3]          76\n",
       "Corporate manslaughter         13\n",
       "Infanticide                     1\n",
       "Name: Count, dtype: int64"
      ]
     },
     "execution_count": 7,
     "metadata": {},
     "output_type": "execute_result"
    }
   ],
   "source": [
    "refined_index_crime = noNull_Crime_Index['Count']\n",
    "\n",
    "refined_index_crime.head()"
   ]
  },
  {
   "cell_type": "code",
   "execution_count": 8,
   "id": "cacf01c3-4053-4171-80dd-38bbd668ed9f",
   "metadata": {},
   "outputs": [
    {
     "data": {
      "text/plain": [
       "Index(['VICTIM BASED CRIME ', 'Murder [note 3]', 'Manslaughter [note 3]',\n",
       "       'Corporate manslaughter', 'Infanticide', 'Homicide [note 3,4,5,6,7,8]',\n",
       "       'Causing death or serious injury by dangerous driving [note 9]',\n",
       "       'Causing death by careless driving when under the influence of drink or drugs                                                                               ',\n",
       "       'Causing death by careless or inconsiderate driving',\n",
       "       'Causing death by dangerous or careless driving',\n",
       "       ...\n",
       "       'Fraud by failing to disclose information [note 50]',\n",
       "       'Fraud by abuse of position [note 50]',\n",
       "       'Obtaining services dishonestly [note 50]',\n",
       "       'Bankruptcy and insolvency offences ',\n",
       "       'TOTAL FRAUD OFFENCES RECORDED BY THE POLICE [note 57]',\n",
       "       'Fraud and computer misuse offences recorded by Action fraud  [note 57, 58, 59]',\n",
       "       'Fraud offences referred to NFIB by Cifas [note 58, 59]',\n",
       "       'Fraud offences referred to NFIB by UK Finance [note 58 ,60, 61, 62, 63, 64]',\n",
       "       'TOTAL FRAUD  AND COMPUTER MISUSE OFFENCES [note 63]',\n",
       "       'TOTAL RECORDED CRIME ? ALL OFFENCES INCLUDING FRAUD AND COMPUTER MISUSE [note 55,63 ]'],\n",
       "      dtype='object', name='Offence category', length=239)"
      ]
     },
     "execution_count": 8,
     "metadata": {},
     "output_type": "execute_result"
    }
   ],
   "source": [
    "noNull_Crime_Index.index"
   ]
  },
  {
   "cell_type": "code",
   "execution_count": 13,
   "id": "babb31eb-53c7-47be-ace7-c3b181b50603",
   "metadata": {},
   "outputs": [
    {
     "data": {
      "text/plain": [
       "Offence category\n",
       "TOTAL THEFT OFFENCES    1648404\n",
       "Name: Count, dtype: int64"
      ]
     },
     "execution_count": 13,
     "metadata": {},
     "output_type": "execute_result"
    }
   ],
   "source": [
    "theft_crime = refined_index_crime.loc[['TOTAL THEFT OFFENCES']]\n",
    "theft_crime.head()"
   ]
  },
  {
   "cell_type": "code",
   "execution_count": 14,
   "id": "c8c98cab-60cd-4dba-84a1-18ca5c5a1080",
   "metadata": {},
   "outputs": [
    {
     "data": {
      "text/plain": [
       "Offence category\n",
       "Violence with injury       558886\n",
       "Violence without injury    811873\n",
       "Name: Count, dtype: int64"
      ]
     },
     "execution_count": 14,
     "metadata": {},
     "output_type": "execute_result"
    }
   ],
   "source": [
    "assault_crime = refined_index_crime.loc[['Violence with injury', 'Violence without injury']]\n",
    "\n",
    "assault_crime.head()"
   ]
  },
  {
   "cell_type": "code",
   "execution_count": 19,
   "id": "257fd4fc-88bf-4ce5-9493-0e15cd9f8d33",
   "metadata": {},
   "outputs": [
    {
     "data": {
      "text/plain": [
       "Offence category\n",
       "Homicide [note 3,4,5,6,7,8]    632\n",
       "Name: Count, dtype: int64"
      ]
     },
     "execution_count": 19,
     "metadata": {},
     "output_type": "execute_result"
    }
   ],
   "source": [
    "murder_crime = refined_index_crime.loc[['Homicide [note 3,4,5,6,7,8]']]\n",
    "\n",
    "murder_crime.head()"
   ]
  },
  {
   "cell_type": "code",
   "execution_count": 20,
   "id": "c8314e3f-89f9-4f42-b7b5-1a1ff307d59a",
   "metadata": {},
   "outputs": [
    {
     "data": {
      "text/plain": [
       "Offence category\n",
       "Rape    67169\n",
       "Name: Count, dtype: int64"
      ]
     },
     "execution_count": 20,
     "metadata": {},
     "output_type": "execute_result"
    }
   ],
   "source": [
    "rape_crime = refined_index_crime.loc[['Rape']]\n",
    "rape_crime.head()"
   ]
  },
  {
   "cell_type": "code",
   "execution_count": 21,
   "id": "432d4068-287a-447f-84b6-aae19a2e6342",
   "metadata": {},
   "outputs": [
    {
     "data": {
      "text/plain": [
       "{'Count': [632, 67169, 1648404, 1370759]}"
      ]
     },
     "execution_count": 21,
     "metadata": {},
     "output_type": "execute_result"
    }
   ],
   "source": [
    "final_data = {'Count': [murder_crime.sum(), rape_crime.sum(), theft_crime.sum(), assault_crime.sum()]}\n",
    "\n",
    "final_data"
   ]
  },
  {
   "cell_type": "code",
   "execution_count": null,
   "id": "44939a48-f6af-4e05-a5b0-7d43f921dbc0",
   "metadata": {},
   "outputs": [],
   "source": [
    "final_df = pd.DataFrame(final_data, index=['살인', '강간', '절도', '"
   ]
  }
 ],
 "metadata": {
  "kernelspec": {
   "display_name": "Python 3 (ipykernel)",
   "language": "python",
   "name": "python3"
  },
  "language_info": {
   "codemirror_mode": {
    "name": "ipython",
    "version": 3
   },
   "file_extension": ".py",
   "mimetype": "text/x-python",
   "name": "python",
   "nbconvert_exporter": "python",
   "pygments_lexer": "ipython3",
   "version": "3.11.5"
  }
 },
 "nbformat": 4,
 "nbformat_minor": 5
}
