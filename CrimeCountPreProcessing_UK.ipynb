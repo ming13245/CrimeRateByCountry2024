{
 "cells": [
  {
   "cell_type": "code",
   "execution_count": 1,
   "id": "860d6359-4c8e-4dee-a5bc-889b2cd769d8",
   "metadata": {},
   "outputs": [
    {
     "name": "stdout",
     "output_type": "stream",
     "text": [
      "<class 'pandas.core.frame.DataFrame'>\n",
      "RangeIndex: 239 entries, 0 to 238\n",
      "Data columns (total 26 columns):\n",
      " #   Column                            Non-Null Count  Dtype \n",
      "---  ------                            --------------  ----- \n",
      " 0   Offence code                      198 non-null    object\n",
      " 1   Offence category                  239 non-null    object\n",
      " 2   Apr 2002 to \n",
      " Mar 2003            147 non-null    object\n",
      " 3   Apr 2003 to \n",
      " Mar 2004            149 non-null    object\n",
      " 4   Apr 2004 to \n",
      " Mar 2005            166 non-null    object\n",
      " 5   Apr 2005 to \n",
      " Mar 2006            167 non-null    object\n",
      " 6   Apr 2006 to \n",
      " Mar 2007            167 non-null    object\n",
      " 7   Apr 2007 to \n",
      " Mar 2008            175 non-null    object\n",
      " 8   Apr 2008 to \n",
      " Mar 2009            190 non-null    object\n",
      " 9   Apr 2009 to \n",
      " Mar 2010            186 non-null    object\n",
      " 10  Apr 2010 to \n",
      " Mar 2011            185 non-null    object\n",
      " 11  Apr 2011 to \n",
      " Mar 2012            187 non-null    object\n",
      " 12  Apr 2012 to \n",
      " Mar 2013            165 non-null    object\n",
      " 13  Apr 2013 to \n",
      " Mar 2014            159 non-null    object\n",
      " 14  Apr 2014 to \n",
      " Mar 2015            158 non-null    object\n",
      " 15  Apr 2015 to \n",
      " Mar 2016            159 non-null    object\n",
      " 16  Apr 2016 to \n",
      " Mar 2017            158 non-null    object\n",
      " 17  Apr 2017 to \n",
      " Mar 2018            159 non-null    object\n",
      " 18  Apr 2018 to \n",
      " Mar 2019            159 non-null    object\n",
      " 19  Apr 2019 to \n",
      " Mar 2020            161 non-null    object\n",
      " 20  Apr 2020 to \n",
      " Mar 2021            163 non-null    object\n",
      " 21  Apr 2021 to \n",
      " Mar 2022            163 non-null    object\n",
      " 22  Jan 2021 to \n",
      " Dec 2021            163 non-null    object\n",
      " 23  Jan 2022 to Dec 2022              163 non-null    object\n",
      " 24  Dec 2022 with Mar 2020 \n",
      "% change  161 non-null    object\n",
      " 25  Dec 2022 with Dec 2021 \n",
      "% change  162 non-null    object\n",
      "dtypes: object(26)\n",
      "memory usage: 48.7+ KB\n"
     ]
    }
   ],
   "source": [
    "import pandas as pd\n",
    "\n",
    "crimeCountData = pd.read_csv('UK/appendixtablesyedec22.csv', encoding='utf-8')\n",
    "\n",
    "crimeCountData.info()"
   ]
  },
  {
   "cell_type": "code",
   "execution_count": 2,
   "id": "ce4124cb-5c44-4add-8dcc-85adeebd4898",
   "metadata": {},
   "outputs": [
    {
     "data": {
      "text/html": [
       "<div>\n",
       "<style scoped>\n",
       "    .dataframe tbody tr th:only-of-type {\n",
       "        vertical-align: middle;\n",
       "    }\n",
       "\n",
       "    .dataframe tbody tr th {\n",
       "        vertical-align: top;\n",
       "    }\n",
       "\n",
       "    .dataframe thead th {\n",
       "        text-align: right;\n",
       "    }\n",
       "</style>\n",
       "<table border=\"1\" class=\"dataframe\">\n",
       "  <thead>\n",
       "    <tr style=\"text-align: right;\">\n",
       "      <th></th>\n",
       "      <th>Offence category</th>\n",
       "      <th>Jan 2022 to Dec 2022</th>\n",
       "    </tr>\n",
       "  </thead>\n",
       "  <tbody>\n",
       "    <tr>\n",
       "      <th>0</th>\n",
       "      <td>VICTIM BASED CRIME</td>\n",
       "      <td>4,500,594</td>\n",
       "    </tr>\n",
       "    <tr>\n",
       "      <th>1</th>\n",
       "      <td>Murder [note 3]</td>\n",
       "      <td>542</td>\n",
       "    </tr>\n",
       "    <tr>\n",
       "      <th>2</th>\n",
       "      <td>Manslaughter [note 3]</td>\n",
       "      <td>76</td>\n",
       "    </tr>\n",
       "    <tr>\n",
       "      <th>3</th>\n",
       "      <td>Corporate manslaughter</td>\n",
       "      <td>13</td>\n",
       "    </tr>\n",
       "    <tr>\n",
       "      <th>4</th>\n",
       "      <td>Infanticide</td>\n",
       "      <td>1</td>\n",
       "    </tr>\n",
       "  </tbody>\n",
       "</table>\n",
       "</div>"
      ],
      "text/plain": [
       "         Offence category Jan 2022 to Dec 2022\n",
       "0     VICTIM BASED CRIME             4,500,594\n",
       "1         Murder [note 3]                  542\n",
       "2   Manslaughter [note 3]                   76\n",
       "3  Corporate manslaughter                   13\n",
       "4             Infanticide                    1"
      ]
     },
     "execution_count": 2,
     "metadata": {},
     "output_type": "execute_result"
    }
   ],
   "source": [
    "select_columns=['Offence category', 'Jan 2022 to Dec 2022']\n",
    "\n",
    "revisedCrimeCount = crimeCountData[select_columns]\n",
    "\n",
    "revisedCrimeCount.head()"
   ]
  },
  {
   "cell_type": "code",
   "execution_count": 3,
   "id": "ca96c165-94fb-4d79-b22a-57ad28932950",
   "metadata": {},
   "outputs": [
    {
     "data": {
      "text/html": [
       "<div>\n",
       "<style scoped>\n",
       "    .dataframe tbody tr th:only-of-type {\n",
       "        vertical-align: middle;\n",
       "    }\n",
       "\n",
       "    .dataframe tbody tr th {\n",
       "        vertical-align: top;\n",
       "    }\n",
       "\n",
       "    .dataframe thead th {\n",
       "        text-align: right;\n",
       "    }\n",
       "</style>\n",
       "<table border=\"1\" class=\"dataframe\">\n",
       "  <thead>\n",
       "    <tr style=\"text-align: right;\">\n",
       "      <th></th>\n",
       "      <th>Jan 2022 to Dec 2022</th>\n",
       "    </tr>\n",
       "    <tr>\n",
       "      <th>Offence category</th>\n",
       "      <th></th>\n",
       "    </tr>\n",
       "  </thead>\n",
       "  <tbody>\n",
       "    <tr>\n",
       "      <th>VICTIM BASED CRIME</th>\n",
       "      <td>4,500,594</td>\n",
       "    </tr>\n",
       "    <tr>\n",
       "      <th>Murder [note 3]</th>\n",
       "      <td>542</td>\n",
       "    </tr>\n",
       "    <tr>\n",
       "      <th>Manslaughter [note 3]</th>\n",
       "      <td>76</td>\n",
       "    </tr>\n",
       "    <tr>\n",
       "      <th>Corporate manslaughter</th>\n",
       "      <td>13</td>\n",
       "    </tr>\n",
       "    <tr>\n",
       "      <th>Infanticide</th>\n",
       "      <td>1</td>\n",
       "    </tr>\n",
       "  </tbody>\n",
       "</table>\n",
       "</div>"
      ],
      "text/plain": [
       "                       Jan 2022 to Dec 2022\n",
       "Offence category                           \n",
       "VICTIM BASED CRIME                4,500,594\n",
       "Murder [note 3]                         542\n",
       "Manslaughter [note 3]                    76\n",
       "Corporate manslaughter                   13\n",
       "Infanticide                               1"
      ]
     },
     "execution_count": 3,
     "metadata": {},
     "output_type": "execute_result"
    }
   ],
   "source": [
    "revisedCrimeCount_index = revisedCrimeCount.set_index('Offence category')\n",
    "\n",
    "revisedCrimeCount_index.head()"
   ]
  },
  {
   "cell_type": "code",
   "execution_count": 4,
   "id": "a194fda0-1d21-43db-addc-a9a5201dc57e",
   "metadata": {},
   "outputs": [
    {
     "data": {
      "text/html": [
       "<div>\n",
       "<style scoped>\n",
       "    .dataframe tbody tr th:only-of-type {\n",
       "        vertical-align: middle;\n",
       "    }\n",
       "\n",
       "    .dataframe tbody tr th {\n",
       "        vertical-align: top;\n",
       "    }\n",
       "\n",
       "    .dataframe thead th {\n",
       "        text-align: right;\n",
       "    }\n",
       "</style>\n",
       "<table border=\"1\" class=\"dataframe\">\n",
       "  <thead>\n",
       "    <tr style=\"text-align: right;\">\n",
       "      <th></th>\n",
       "      <th>Jan 2022 to Dec 2022</th>\n",
       "    </tr>\n",
       "    <tr>\n",
       "      <th>Offence category</th>\n",
       "      <th></th>\n",
       "    </tr>\n",
       "  </thead>\n",
       "  <tbody>\n",
       "    <tr>\n",
       "      <th>VICTIM BASED CRIME</th>\n",
       "      <td>4,500,594</td>\n",
       "    </tr>\n",
       "    <tr>\n",
       "      <th>Murder [note 3]</th>\n",
       "      <td>542</td>\n",
       "    </tr>\n",
       "    <tr>\n",
       "      <th>Manslaughter [note 3]</th>\n",
       "      <td>76</td>\n",
       "    </tr>\n",
       "    <tr>\n",
       "      <th>Corporate manslaughter</th>\n",
       "      <td>13</td>\n",
       "    </tr>\n",
       "    <tr>\n",
       "      <th>Infanticide</th>\n",
       "      <td>1</td>\n",
       "    </tr>\n",
       "    <tr>\n",
       "      <th>Homicide [note 3,4,5,6,7,8]</th>\n",
       "      <td>632</td>\n",
       "    </tr>\n",
       "    <tr>\n",
       "      <th>Causing death or serious injury by dangerous driving [note 9]</th>\n",
       "      <td>663</td>\n",
       "    </tr>\n",
       "    <tr>\n",
       "      <th>Causing death by careless driving when under the influence of drink or drugs</th>\n",
       "      <td>20</td>\n",
       "    </tr>\n",
       "    <tr>\n",
       "      <th>Causing death by careless or inconsiderate driving</th>\n",
       "      <td>99</td>\n",
       "    </tr>\n",
       "    <tr>\n",
       "      <th>Causing death by dangerous or careless driving</th>\n",
       "      <td>0</td>\n",
       "    </tr>\n",
       "    <tr>\n",
       "      <th>Causing death by driving: unlicensed or disqualified or uninsured drivers</th>\n",
       "      <td>26</td>\n",
       "    </tr>\n",
       "    <tr>\n",
       "      <th>Causing death by aggravated vehicle taking</th>\n",
       "      <td>5</td>\n",
       "    </tr>\n",
       "  </tbody>\n",
       "</table>\n",
       "</div>"
      ],
      "text/plain": [
       "                                                   Jan 2022 to Dec 2022\n",
       "Offence category                                                       \n",
       "VICTIM BASED CRIME                                            4,500,594\n",
       "Murder [note 3]                                                     542\n",
       "Manslaughter [note 3]                                                76\n",
       "Corporate manslaughter                                               13\n",
       "Infanticide                                                           1\n",
       "Homicide [note 3,4,5,6,7,8]                                         632\n",
       "Causing death or serious injury by dangerous dr...                  663\n",
       "Causing death by careless driving when under th...                   20\n",
       "Causing death by careless or inconsiderate driving                   99\n",
       "Causing death by dangerous or careless driving                        0\n",
       "Causing death by driving: unlicensed or disqual...                   26\n",
       "Causing death by aggravated vehicle taking                            5"
      ]
     },
     "execution_count": 4,
     "metadata": {},
     "output_type": "execute_result"
    }
   ],
   "source": [
    "noNull_Crime_Index = revisedCrimeCount_index.fillna('0')\n",
    "\n",
    "noNull_Crime_Index.head(12)"
   ]
  },
  {
   "cell_type": "code",
   "execution_count": 5,
   "id": "fdb69857-672b-45b4-8740-f3af7f5ce58b",
   "metadata": {},
   "outputs": [
    {
     "data": {
      "text/plain": [
       "'object'"
      ]
     },
     "execution_count": 5,
     "metadata": {},
     "output_type": "execute_result"
    }
   ],
   "source": [
    "str(noNull_Crime_Index['Jan 2022 to Dec 2022'].dtype)"
   ]
  },
  {
   "cell_type": "code",
   "execution_count": 6,
   "id": "ca44235f-326e-4bb0-a430-2f1993be3113",
   "metadata": {},
   "outputs": [
    {
     "data": {
      "text/html": [
       "<div>\n",
       "<style scoped>\n",
       "    .dataframe tbody tr th:only-of-type {\n",
       "        vertical-align: middle;\n",
       "    }\n",
       "\n",
       "    .dataframe tbody tr th {\n",
       "        vertical-align: top;\n",
       "    }\n",
       "\n",
       "    .dataframe thead th {\n",
       "        text-align: right;\n",
       "    }\n",
       "</style>\n",
       "<table border=\"1\" class=\"dataframe\">\n",
       "  <thead>\n",
       "    <tr style=\"text-align: right;\">\n",
       "      <th></th>\n",
       "      <th>Jan 2022 to Dec 2022</th>\n",
       "      <th>Count</th>\n",
       "    </tr>\n",
       "    <tr>\n",
       "      <th>Offence category</th>\n",
       "      <th></th>\n",
       "      <th></th>\n",
       "    </tr>\n",
       "  </thead>\n",
       "  <tbody>\n",
       "    <tr>\n",
       "      <th>VICTIM BASED CRIME</th>\n",
       "      <td>4500594</td>\n",
       "      <td>4500594</td>\n",
       "    </tr>\n",
       "    <tr>\n",
       "      <th>Murder [note 3]</th>\n",
       "      <td>542</td>\n",
       "      <td>542</td>\n",
       "    </tr>\n",
       "    <tr>\n",
       "      <th>Manslaughter [note 3]</th>\n",
       "      <td>76</td>\n",
       "      <td>76</td>\n",
       "    </tr>\n",
       "    <tr>\n",
       "      <th>Corporate manslaughter</th>\n",
       "      <td>13</td>\n",
       "      <td>13</td>\n",
       "    </tr>\n",
       "    <tr>\n",
       "      <th>Infanticide</th>\n",
       "      <td>1</td>\n",
       "      <td>1</td>\n",
       "    </tr>\n",
       "  </tbody>\n",
       "</table>\n",
       "</div>"
      ],
      "text/plain": [
       "                       Jan 2022 to Dec 2022    Count\n",
       "Offence category                                    \n",
       "VICTIM BASED CRIME                  4500594  4500594\n",
       "Murder [note 3]                         542      542\n",
       "Manslaughter [note 3]                    76       76\n",
       "Corporate manslaughter                   13       13\n",
       "Infanticide                               1        1"
      ]
     },
     "execution_count": 6,
     "metadata": {},
     "output_type": "execute_result"
    }
   ],
   "source": [
    "noNull_Crime_Index['Jan 2022 to Dec 2022'] = [x.replace(',', '') for x in noNull_Crime_Index['Jan 2022 to Dec 2022']]\n",
    "\n",
    "noNull_Crime_Index['Count'] = pd.to_numeric(noNull_Crime_Index['Jan 2022 to Dec 2022'])\n",
    "\n",
    "noNull_Crime_Index.head()"
   ]
  },
  {
   "cell_type": "code",
   "execution_count": 7,
   "id": "39b0d990-7ac4-4b96-a186-07aff0fd3ad8",
   "metadata": {},
   "outputs": [
    {
     "data": {
      "text/plain": [
       "Offence category\n",
       "VICTIM BASED CRIME        4500594\n",
       "Murder [note 3]               542\n",
       "Manslaughter [note 3]          76\n",
       "Corporate manslaughter         13\n",
       "Infanticide                     1\n",
       "Name: Count, dtype: int64"
      ]
     },
     "execution_count": 7,
     "metadata": {},
     "output_type": "execute_result"
    }
   ],
   "source": [
    "refined_index_crime = noNull_Crime_Index['Count']\n",
    "\n",
    "refined_index_crime.head()"
   ]
  },
  {
   "cell_type": "code",
   "execution_count": 8,
   "id": "cacf01c3-4053-4171-80dd-38bbd668ed9f",
   "metadata": {},
   "outputs": [
    {
     "data": {
      "text/plain": [
       "Index(['VICTIM BASED CRIME ', 'Murder [note 3]', 'Manslaughter [note 3]',\n",
       "       'Corporate manslaughter', 'Infanticide', 'Homicide [note 3,4,5,6,7,8]',\n",
       "       'Causing death or serious injury by dangerous driving [note 9]',\n",
       "       'Causing death by careless driving when under the influence of drink or drugs                                                                               ',\n",
       "       'Causing death by careless or inconsiderate driving',\n",
       "       'Causing death by dangerous or careless driving',\n",
       "       ...\n",
       "       'Fraud by failing to disclose information [note 50]',\n",
       "       'Fraud by abuse of position [note 50]',\n",
       "       'Obtaining services dishonestly [note 50]',\n",
       "       'Bankruptcy and insolvency offences ',\n",
       "       'TOTAL FRAUD OFFENCES RECORDED BY THE POLICE [note 57]',\n",
       "       'Fraud and computer misuse offences recorded by Action fraud  [note 57, 58, 59]',\n",
       "       'Fraud offences referred to NFIB by Cifas [note 58, 59]',\n",
       "       'Fraud offences referred to NFIB by UK Finance [note 58 ,60, 61, 62, 63, 64]',\n",
       "       'TOTAL FRAUD  AND COMPUTER MISUSE OFFENCES [note 63]',\n",
       "       'TOTAL RECORDED CRIME ? ALL OFFENCES INCLUDING FRAUD AND COMPUTER MISUSE [note 55,63 ]'],\n",
       "      dtype='object', name='Offence category', length=239)"
      ]
     },
     "execution_count": 8,
     "metadata": {},
     "output_type": "execute_result"
    }
   ],
   "source": [
    "noNull_Crime_Index.index"
   ]
  },
  {
   "cell_type": "code",
   "execution_count": 9,
   "id": "babb31eb-53c7-47be-ace7-c3b181b50603",
   "metadata": {},
   "outputs": [
    {
     "data": {
      "text/plain": [
       "Offence category\n",
       "TOTAL THEFT OFFENCES    1648404\n",
       "Name: Count, dtype: int64"
      ]
     },
     "execution_count": 9,
     "metadata": {},
     "output_type": "execute_result"
    }
   ],
   "source": [
    "theft_crime = refined_index_crime.loc[['TOTAL THEFT OFFENCES']]\n",
    "theft_crime.head()"
   ]
  },
  {
   "cell_type": "code",
   "execution_count": 10,
   "id": "c8c98cab-60cd-4dba-84a1-18ca5c5a1080",
   "metadata": {},
   "outputs": [
    {
     "data": {
      "text/plain": [
       "Offence category\n",
       "Violence with injury       558886\n",
       "Violence without injury    811873\n",
       "Name: Count, dtype: int64"
      ]
     },
     "execution_count": 10,
     "metadata": {},
     "output_type": "execute_result"
    }
   ],
   "source": [
    "assault_crime = refined_index_crime.loc[['Violence with injury', 'Violence without injury']]\n",
    "\n",
    "assault_crime.head()"
   ]
  },
  {
   "cell_type": "code",
   "execution_count": 11,
   "id": "257fd4fc-88bf-4ce5-9493-0e15cd9f8d33",
   "metadata": {},
   "outputs": [
    {
     "data": {
      "text/plain": [
       "Offence category\n",
       "Homicide [note 3,4,5,6,7,8]    632\n",
       "Name: Count, dtype: int64"
      ]
     },
     "execution_count": 11,
     "metadata": {},
     "output_type": "execute_result"
    }
   ],
   "source": [
    "murder_crime = refined_index_crime.loc[['Homicide [note 3,4,5,6,7,8]']]\n",
    "\n",
    "murder_crime.head()"
   ]
  },
  {
   "cell_type": "code",
   "execution_count": 12,
   "id": "c8314e3f-89f9-4f42-b7b5-1a1ff307d59a",
   "metadata": {},
   "outputs": [
    {
     "data": {
      "text/plain": [
       "Offence category\n",
       "Rape    67169\n",
       "Name: Count, dtype: int64"
      ]
     },
     "execution_count": 12,
     "metadata": {},
     "output_type": "execute_result"
    }
   ],
   "source": [
    "rape_crime = refined_index_crime.loc[['Rape']]\n",
    "rape_crime.head()"
   ]
  },
  {
   "cell_type": "code",
   "execution_count": 13,
   "id": "432d4068-287a-447f-84b6-aae19a2e6342",
   "metadata": {},
   "outputs": [
    {
     "data": {
      "text/plain": [
       "{'Count': [632, 67169, 1648404, 1370759]}"
      ]
     },
     "execution_count": 13,
     "metadata": {},
     "output_type": "execute_result"
    }
   ],
   "source": [
    "final_data = {'Count': [murder_crime.sum(), rape_crime.sum(), theft_crime.sum(), assault_crime.sum()]}\n",
    "\n",
    "final_data"
   ]
  },
  {
   "cell_type": "code",
   "execution_count": 14,
   "id": "44939a48-f6af-4e05-a5b0-7d43f921dbc0",
   "metadata": {},
   "outputs": [
    {
     "data": {
      "text/html": [
       "<div>\n",
       "<style scoped>\n",
       "    .dataframe tbody tr th:only-of-type {\n",
       "        vertical-align: middle;\n",
       "    }\n",
       "\n",
       "    .dataframe tbody tr th {\n",
       "        vertical-align: top;\n",
       "    }\n",
       "\n",
       "    .dataframe thead th {\n",
       "        text-align: right;\n",
       "    }\n",
       "</style>\n",
       "<table border=\"1\" class=\"dataframe\">\n",
       "  <thead>\n",
       "    <tr style=\"text-align: right;\">\n",
       "      <th></th>\n",
       "      <th>Count</th>\n",
       "    </tr>\n",
       "  </thead>\n",
       "  <tbody>\n",
       "    <tr>\n",
       "      <th>살인</th>\n",
       "      <td>632</td>\n",
       "    </tr>\n",
       "    <tr>\n",
       "      <th>강간</th>\n",
       "      <td>67169</td>\n",
       "    </tr>\n",
       "    <tr>\n",
       "      <th>절도</th>\n",
       "      <td>1648404</td>\n",
       "    </tr>\n",
       "    <tr>\n",
       "      <th>폭행</th>\n",
       "      <td>1370759</td>\n",
       "    </tr>\n",
       "  </tbody>\n",
       "</table>\n",
       "</div>"
      ],
      "text/plain": [
       "      Count\n",
       "살인      632\n",
       "강간    67169\n",
       "절도  1648404\n",
       "폭행  1370759"
      ]
     },
     "execution_count": 14,
     "metadata": {},
     "output_type": "execute_result"
    }
   ],
   "source": [
    "final_df = pd.DataFrame(final_data, index=['살인', '강간', '절도', '폭행'])\n",
    "\n",
    "final_df"
   ]
  },
  {
   "cell_type": "code",
   "execution_count": 15,
   "id": "254d7471-8583-4cde-a872-c8432beb8fb3",
   "metadata": {},
   "outputs": [
    {
     "name": "stdout",
     "output_type": "stream",
     "text": [
      "<class 'pandas.core.frame.DataFrame'>\n",
      "RangeIndex: 9 entries, 0 to 8\n",
      "Data columns (total 2 columns):\n",
      " #   Column                     Non-Null Count  Dtype \n",
      "---  ------                     --------------  ----- \n",
      " 0   Year                       9 non-null      int64 \n",
      " 1   Number of Police Officers  9 non-null      object\n",
      "dtypes: int64(1), object(1)\n",
      "memory usage: 276.0+ bytes\n"
     ]
    }
   ],
   "source": [
    "PoliceCountData = pd.read_csv('UK/UK number of police.csv', encoding='utf-8')\n",
    "\n",
    "PoliceCountData.info()"
   ]
  },
  {
   "cell_type": "code",
   "execution_count": 16,
   "id": "b939d3d3-eb92-44e9-af19-e3d157e4794b",
   "metadata": {},
   "outputs": [
    {
     "name": "stdout",
     "output_type": "stream",
     "text": [
      "<class 'pandas.core.frame.DataFrame'>\n",
      "RangeIndex: 13 entries, 0 to 12\n",
      "Data columns (total 2 columns):\n",
      " #   Column      Non-Null Count  Dtype\n",
      "---  ------      --------------  -----\n",
      " 0   year        13 non-null     int64\n",
      " 1   population  13 non-null     int64\n",
      "dtypes: int64(2)\n",
      "memory usage: 340.0 bytes\n"
     ]
    }
   ],
   "source": [
    "PopulationData = pd.read_csv('UK/UK population.csv', encoding='utf-8')\n",
    "\n",
    "PopulationData.info()"
   ]
  },
  {
   "cell_type": "code",
   "execution_count": 17,
   "id": "72774421-070c-4954-a1b4-318bfebfc5ae",
   "metadata": {},
   "outputs": [
    {
     "data": {
      "text/html": [
       "<div>\n",
       "<style scoped>\n",
       "    .dataframe tbody tr th:only-of-type {\n",
       "        vertical-align: middle;\n",
       "    }\n",
       "\n",
       "    .dataframe tbody tr th {\n",
       "        vertical-align: top;\n",
       "    }\n",
       "\n",
       "    .dataframe thead th {\n",
       "        text-align: right;\n",
       "    }\n",
       "</style>\n",
       "<table border=\"1\" class=\"dataframe\">\n",
       "  <thead>\n",
       "    <tr style=\"text-align: right;\">\n",
       "      <th></th>\n",
       "      <th>year</th>\n",
       "      <th>population</th>\n",
       "    </tr>\n",
       "  </thead>\n",
       "  <tbody>\n",
       "    <tr>\n",
       "      <th>0</th>\n",
       "      <td>2010</td>\n",
       "      <td>62759500</td>\n",
       "    </tr>\n",
       "    <tr>\n",
       "      <th>1</th>\n",
       "      <td>2011</td>\n",
       "      <td>63285100</td>\n",
       "    </tr>\n",
       "    <tr>\n",
       "      <th>2</th>\n",
       "      <td>2012</td>\n",
       "      <td>63705000</td>\n",
       "    </tr>\n",
       "    <tr>\n",
       "      <th>3</th>\n",
       "      <td>2013</td>\n",
       "      <td>64105700</td>\n",
       "    </tr>\n",
       "    <tr>\n",
       "      <th>4</th>\n",
       "      <td>2014</td>\n",
       "      <td>64596800</td>\n",
       "    </tr>\n",
       "  </tbody>\n",
       "</table>\n",
       "</div>"
      ],
      "text/plain": [
       "   year  population\n",
       "0  2010    62759500\n",
       "1  2011    63285100\n",
       "2  2012    63705000\n",
       "3  2013    64105700\n",
       "4  2014    64596800"
      ]
     },
     "execution_count": 17,
     "metadata": {},
     "output_type": "execute_result"
    }
   ],
   "source": [
    "selected_columns = ['year', 'population']\n",
    "\n",
    "revisedPopulationData = PopulationData[selected_columns]\n",
    "\n",
    "revisedPopulationData.head()"
   ]
  },
  {
   "cell_type": "code",
   "execution_count": 18,
   "id": "7da8e7f4-71e1-41a2-a986-945fb89d38f9",
   "metadata": {},
   "outputs": [
    {
     "data": {
      "text/html": [
       "<div>\n",
       "<style scoped>\n",
       "    .dataframe tbody tr th:only-of-type {\n",
       "        vertical-align: middle;\n",
       "    }\n",
       "\n",
       "    .dataframe tbody tr th {\n",
       "        vertical-align: top;\n",
       "    }\n",
       "\n",
       "    .dataframe thead th {\n",
       "        text-align: right;\n",
       "    }\n",
       "</style>\n",
       "<table border=\"1\" class=\"dataframe\">\n",
       "  <thead>\n",
       "    <tr style=\"text-align: right;\">\n",
       "      <th></th>\n",
       "      <th>Year</th>\n",
       "      <th>Number of Police Officers</th>\n",
       "    </tr>\n",
       "  </thead>\n",
       "  <tbody>\n",
       "    <tr>\n",
       "      <th>0</th>\n",
       "      <td>2015</td>\n",
       "      <td>154,000</td>\n",
       "    </tr>\n",
       "    <tr>\n",
       "      <th>1</th>\n",
       "      <td>2016</td>\n",
       "      <td>151,000</td>\n",
       "    </tr>\n",
       "    <tr>\n",
       "      <th>2</th>\n",
       "      <td>2017</td>\n",
       "      <td>150,000</td>\n",
       "    </tr>\n",
       "    <tr>\n",
       "      <th>3</th>\n",
       "      <td>2018</td>\n",
       "      <td>150,000</td>\n",
       "    </tr>\n",
       "    <tr>\n",
       "      <th>4</th>\n",
       "      <td>2019</td>\n",
       "      <td>150,000</td>\n",
       "    </tr>\n",
       "  </tbody>\n",
       "</table>\n",
       "</div>"
      ],
      "text/plain": [
       "   Year Number of Police Officers\n",
       "0  2015                   154,000\n",
       "1  2016                   151,000\n",
       "2  2017                   150,000\n",
       "3  2018                   150,000\n",
       "4  2019                   150,000"
      ]
     },
     "execution_count": 18,
     "metadata": {},
     "output_type": "execute_result"
    }
   ],
   "source": [
    "PoliceCountData.head()"
   ]
  },
  {
   "cell_type": "code",
   "execution_count": 19,
   "id": "48a758e7-d89e-47f6-80d7-65f443f531d3",
   "metadata": {},
   "outputs": [],
   "source": [
    "revisedPopulationData = revisedPopulationData.set_index('year')\n",
    "\n",
    "PoliceCountData = PoliceCountData.set_index('Year')"
   ]
  },
  {
   "cell_type": "code",
   "execution_count": 20,
   "id": "35372356-e1ff-4939-9ae2-95efb6769e0f",
   "metadata": {},
   "outputs": [
    {
     "data": {
      "text/plain": [
       "'int64'"
      ]
     },
     "execution_count": 20,
     "metadata": {},
     "output_type": "execute_result"
    }
   ],
   "source": [
    "str(revisedPopulationData.index.dtype)"
   ]
  },
  {
   "cell_type": "code",
   "execution_count": 21,
   "id": "c6878283-9b52-4276-8fd7-bfc606f9bd76",
   "metadata": {},
   "outputs": [
    {
     "data": {
      "text/plain": [
       "'int64'"
      ]
     },
     "execution_count": 21,
     "metadata": {},
     "output_type": "execute_result"
    }
   ],
   "source": [
    "str(PoliceCountData.index.dtype)"
   ]
  },
  {
   "cell_type": "code",
   "execution_count": 22,
   "id": "5f359675-efb8-4512-8bb4-1a559cf9ea2d",
   "metadata": {},
   "outputs": [
    {
     "data": {
      "text/plain": [
       "'int64'"
      ]
     },
     "execution_count": 22,
     "metadata": {},
     "output_type": "execute_result"
    }
   ],
   "source": [
    "str(revisedPopulationData['population'].dtype)"
   ]
  },
  {
   "cell_type": "code",
   "execution_count": 23,
   "id": "af1dc7f5-ac44-42c9-805c-392627e00855",
   "metadata": {},
   "outputs": [
    {
     "data": {
      "text/plain": [
       "'object'"
      ]
     },
     "execution_count": 23,
     "metadata": {},
     "output_type": "execute_result"
    }
   ],
   "source": [
    "str(PoliceCountData['Number of Police Officers'].dtype)"
   ]
  },
  {
   "cell_type": "code",
   "execution_count": 24,
   "id": "a75521cd-be44-4fdf-8d16-a280bf397c97",
   "metadata": {},
   "outputs": [
    {
     "data": {
      "text/html": [
       "<div>\n",
       "<style scoped>\n",
       "    .dataframe tbody tr th:only-of-type {\n",
       "        vertical-align: middle;\n",
       "    }\n",
       "\n",
       "    .dataframe tbody tr th {\n",
       "        vertical-align: top;\n",
       "    }\n",
       "\n",
       "    .dataframe thead th {\n",
       "        text-align: right;\n",
       "    }\n",
       "</style>\n",
       "<table border=\"1\" class=\"dataframe\">\n",
       "  <thead>\n",
       "    <tr style=\"text-align: right;\">\n",
       "      <th></th>\n",
       "      <th>population</th>\n",
       "      <th>PopulationCount</th>\n",
       "    </tr>\n",
       "    <tr>\n",
       "      <th>year</th>\n",
       "      <th></th>\n",
       "      <th></th>\n",
       "    </tr>\n",
       "  </thead>\n",
       "  <tbody>\n",
       "    <tr>\n",
       "      <th>2010</th>\n",
       "      <td>62759500</td>\n",
       "      <td>62759500</td>\n",
       "    </tr>\n",
       "    <tr>\n",
       "      <th>2011</th>\n",
       "      <td>63285100</td>\n",
       "      <td>63285100</td>\n",
       "    </tr>\n",
       "    <tr>\n",
       "      <th>2012</th>\n",
       "      <td>63705000</td>\n",
       "      <td>63705000</td>\n",
       "    </tr>\n",
       "    <tr>\n",
       "      <th>2013</th>\n",
       "      <td>64105700</td>\n",
       "      <td>64105700</td>\n",
       "    </tr>\n",
       "    <tr>\n",
       "      <th>2014</th>\n",
       "      <td>64596800</td>\n",
       "      <td>64596800</td>\n",
       "    </tr>\n",
       "    <tr>\n",
       "      <th>2015</th>\n",
       "      <td>65110000</td>\n",
       "      <td>65110000</td>\n",
       "    </tr>\n",
       "    <tr>\n",
       "      <th>2016</th>\n",
       "      <td>65648100</td>\n",
       "      <td>65648100</td>\n",
       "    </tr>\n",
       "    <tr>\n",
       "      <th>2017</th>\n",
       "      <td>66040200</td>\n",
       "      <td>66040200</td>\n",
       "    </tr>\n",
       "    <tr>\n",
       "      <th>2018</th>\n",
       "      <td>66435600</td>\n",
       "      <td>66435600</td>\n",
       "    </tr>\n",
       "    <tr>\n",
       "      <th>2019</th>\n",
       "      <td>66796800</td>\n",
       "      <td>66796800</td>\n",
       "    </tr>\n",
       "    <tr>\n",
       "      <th>2020</th>\n",
       "      <td>67081000</td>\n",
       "      <td>67081000</td>\n",
       "    </tr>\n",
       "    <tr>\n",
       "      <th>2021</th>\n",
       "      <td>67026300</td>\n",
       "      <td>67026300</td>\n",
       "    </tr>\n",
       "    <tr>\n",
       "      <th>2022</th>\n",
       "      <td>67596300</td>\n",
       "      <td>67596300</td>\n",
       "    </tr>\n",
       "  </tbody>\n",
       "</table>\n",
       "</div>"
      ],
      "text/plain": [
       "      population  PopulationCount\n",
       "year                             \n",
       "2010    62759500         62759500\n",
       "2011    63285100         63285100\n",
       "2012    63705000         63705000\n",
       "2013    64105700         64105700\n",
       "2014    64596800         64596800\n",
       "2015    65110000         65110000\n",
       "2016    65648100         65648100\n",
       "2017    66040200         66040200\n",
       "2018    66435600         66435600\n",
       "2019    66796800         66796800\n",
       "2020    67081000         67081000\n",
       "2021    67026300         67026300\n",
       "2022    67596300         67596300"
      ]
     },
     "execution_count": 24,
     "metadata": {},
     "output_type": "execute_result"
    }
   ],
   "source": [
    "revisedPopulationData['PopulationCount'] = revisedPopulationData['population']\n",
    "\n",
    "revisedPopulationData.head(15)"
   ]
  },
  {
   "cell_type": "code",
   "execution_count": 25,
   "id": "602b9440-12b6-42f2-9e68-b6c2ec511d5d",
   "metadata": {},
   "outputs": [
    {
     "data": {
      "text/html": [
       "<div>\n",
       "<style scoped>\n",
       "    .dataframe tbody tr th:only-of-type {\n",
       "        vertical-align: middle;\n",
       "    }\n",
       "\n",
       "    .dataframe tbody tr th {\n",
       "        vertical-align: top;\n",
       "    }\n",
       "\n",
       "    .dataframe thead th {\n",
       "        text-align: right;\n",
       "    }\n",
       "</style>\n",
       "<table border=\"1\" class=\"dataframe\">\n",
       "  <thead>\n",
       "    <tr style=\"text-align: right;\">\n",
       "      <th></th>\n",
       "      <th>PopulationCount</th>\n",
       "    </tr>\n",
       "    <tr>\n",
       "      <th>year</th>\n",
       "      <th></th>\n",
       "    </tr>\n",
       "  </thead>\n",
       "  <tbody>\n",
       "    <tr>\n",
       "      <th>2010</th>\n",
       "      <td>62759500</td>\n",
       "    </tr>\n",
       "    <tr>\n",
       "      <th>2011</th>\n",
       "      <td>63285100</td>\n",
       "    </tr>\n",
       "    <tr>\n",
       "      <th>2012</th>\n",
       "      <td>63705000</td>\n",
       "    </tr>\n",
       "    <tr>\n",
       "      <th>2013</th>\n",
       "      <td>64105700</td>\n",
       "    </tr>\n",
       "    <tr>\n",
       "      <th>2014</th>\n",
       "      <td>64596800</td>\n",
       "    </tr>\n",
       "  </tbody>\n",
       "</table>\n",
       "</div>"
      ],
      "text/plain": [
       "      PopulationCount\n",
       "year                 \n",
       "2010         62759500\n",
       "2011         63285100\n",
       "2012         63705000\n",
       "2013         64105700\n",
       "2014         64596800"
      ]
     },
     "execution_count": 25,
     "metadata": {},
     "output_type": "execute_result"
    }
   ],
   "source": [
    "numericPopulationData = revisedPopulationData.drop(columns = ['population'])\n",
    "\n",
    "numericPopulationData.head()"
   ]
  },
  {
   "cell_type": "code",
   "execution_count": 26,
   "id": "b9f2d7f2-4816-4524-9e00-be97b8b227b2",
   "metadata": {},
   "outputs": [
    {
     "data": {
      "text/html": [
       "<div>\n",
       "<style scoped>\n",
       "    .dataframe tbody tr th:only-of-type {\n",
       "        vertical-align: middle;\n",
       "    }\n",
       "\n",
       "    .dataframe tbody tr th {\n",
       "        vertical-align: top;\n",
       "    }\n",
       "\n",
       "    .dataframe thead th {\n",
       "        text-align: right;\n",
       "    }\n",
       "</style>\n",
       "<table border=\"1\" class=\"dataframe\">\n",
       "  <thead>\n",
       "    <tr style=\"text-align: right;\">\n",
       "      <th></th>\n",
       "      <th>Number of Police Officers</th>\n",
       "      <th>PopulationCount</th>\n",
       "    </tr>\n",
       "  </thead>\n",
       "  <tbody>\n",
       "    <tr>\n",
       "      <th>2010</th>\n",
       "      <td>NaN</td>\n",
       "      <td>62759500.0</td>\n",
       "    </tr>\n",
       "    <tr>\n",
       "      <th>2011</th>\n",
       "      <td>NaN</td>\n",
       "      <td>63285100.0</td>\n",
       "    </tr>\n",
       "    <tr>\n",
       "      <th>2012</th>\n",
       "      <td>NaN</td>\n",
       "      <td>63705000.0</td>\n",
       "    </tr>\n",
       "    <tr>\n",
       "      <th>2013</th>\n",
       "      <td>NaN</td>\n",
       "      <td>64105700.0</td>\n",
       "    </tr>\n",
       "    <tr>\n",
       "      <th>2014</th>\n",
       "      <td>NaN</td>\n",
       "      <td>64596800.0</td>\n",
       "    </tr>\n",
       "  </tbody>\n",
       "</table>\n",
       "</div>"
      ],
      "text/plain": [
       "     Number of Police Officers  PopulationCount\n",
       "2010                       NaN       62759500.0\n",
       "2011                       NaN       63285100.0\n",
       "2012                       NaN       63705000.0\n",
       "2013                       NaN       64105700.0\n",
       "2014                       NaN       64596800.0"
      ]
     },
     "execution_count": 26,
     "metadata": {},
     "output_type": "execute_result"
    }
   ],
   "source": [
    "combinedPolicePopulation = pd.merge(PoliceCountData, numericPopulationData, left_index=True, right_index=True, how='outer')\n",
    "\n",
    "combinedPolicePopulation.head()"
   ]
  },
  {
   "cell_type": "code",
   "execution_count": 27,
   "id": "f20b12a6-2072-411b-aeca-067dc57d0c95",
   "metadata": {},
   "outputs": [
    {
     "name": "stdout",
     "output_type": "stream",
     "text": [
      "     Number of Police Officers  PopulationCount\n",
      "2010                       NaN       62759500.0\n",
      "2011                       NaN       63285100.0\n",
      "2012                       NaN       63705000.0\n",
      "2013                       NaN       64105700.0\n",
      "2014                       NaN       64596800.0\n",
      "2015                   154,000       65110000.0\n",
      "2016                   151,000       65648100.0\n",
      "2017                   150,000       66040200.0\n",
      "2018                   150,000       66435600.0\n",
      "2019                   150,000       66796800.0\n",
      "2020                   153,000       67081000.0\n",
      "2021                   160,000       67026300.0\n",
      "2022                   164,000       67596300.0\n",
      "2023                   171,000              NaN\n"
     ]
    }
   ],
   "source": [
    "print(combinedPolicePopulation)"
   ]
  },
  {
   "cell_type": "code",
   "execution_count": 28,
   "id": "1042c77c-92d1-4ab5-a457-b268e16cc2ca",
   "metadata": {},
   "outputs": [
    {
     "data": {
      "text/plain": [
       "Number of Police Officers       164,000\n",
       "PopulationCount              67596300.0\n",
       "Name: 2022, dtype: object"
      ]
     },
     "execution_count": 28,
     "metadata": {},
     "output_type": "execute_result"
    }
   ],
   "source": [
    "finalPolicePopulation = combinedPolicePopulation.loc[2022]\n",
    "\n",
    "finalPolicePopulation.head()"
   ]
  },
  {
   "cell_type": "code",
   "execution_count": 29,
   "id": "14327417-c914-4d35-8d1e-ce0716362473",
   "metadata": {},
   "outputs": [
    {
     "data": {
      "text/html": [
       "<div>\n",
       "<style scoped>\n",
       "    .dataframe tbody tr th:only-of-type {\n",
       "        vertical-align: middle;\n",
       "    }\n",
       "\n",
       "    .dataframe tbody tr th {\n",
       "        vertical-align: top;\n",
       "    }\n",
       "\n",
       "    .dataframe thead th {\n",
       "        text-align: right;\n",
       "    }\n",
       "</style>\n",
       "<table border=\"1\" class=\"dataframe\">\n",
       "  <thead>\n",
       "    <tr style=\"text-align: right;\">\n",
       "      <th></th>\n",
       "      <th>Count</th>\n",
       "    </tr>\n",
       "  </thead>\n",
       "  <tbody>\n",
       "    <tr>\n",
       "      <th>총경찰관수</th>\n",
       "      <td>164,000</td>\n",
       "    </tr>\n",
       "    <tr>\n",
       "      <th>총인구수</th>\n",
       "      <td>67596300.0</td>\n",
       "    </tr>\n",
       "  </tbody>\n",
       "</table>\n",
       "</div>"
      ],
      "text/plain": [
       "            Count\n",
       "총경찰관수     164,000\n",
       "총인구수   67596300.0"
      ]
     },
     "execution_count": 29,
     "metadata": {},
     "output_type": "execute_result"
    }
   ],
   "source": [
    "finalPolicePopulationData = pd.DataFrame({'Count': [finalPolicePopulation['Number of Police Officers'], finalPolicePopulation['PopulationCount']]}, index=['총경찰관수', '총인구수'])\n",
    "finalPolicePopulationData.head()"
   ]
  },
  {
   "cell_type": "code",
   "execution_count": 30,
   "id": "14e2c8a4-a4a1-4e77-a8cd-054b2203562f",
   "metadata": {},
   "outputs": [],
   "source": [
    "cctvData = {'cctvCount': [689000, 83000, 58000, 46000, 43000, 39000, 38000, 36000, 33000]}\n"
   ]
  },
  {
   "cell_type": "code",
   "execution_count": 31,
   "id": "f3c2c1f8-381f-4773-9d5a-abd5e48de840",
   "metadata": {},
   "outputs": [
    {
     "data": {
      "text/html": [
       "<div>\n",
       "<style scoped>\n",
       "    .dataframe tbody tr th:only-of-type {\n",
       "        vertical-align: middle;\n",
       "    }\n",
       "\n",
       "    .dataframe tbody tr th {\n",
       "        vertical-align: top;\n",
       "    }\n",
       "\n",
       "    .dataframe thead th {\n",
       "        text-align: right;\n",
       "    }\n",
       "</style>\n",
       "<table border=\"1\" class=\"dataframe\">\n",
       "  <thead>\n",
       "    <tr style=\"text-align: right;\">\n",
       "      <th></th>\n",
       "      <th>cctvCount</th>\n",
       "    </tr>\n",
       "  </thead>\n",
       "  <tbody>\n",
       "    <tr>\n",
       "      <th>0</th>\n",
       "      <td>689000</td>\n",
       "    </tr>\n",
       "    <tr>\n",
       "      <th>1</th>\n",
       "      <td>83000</td>\n",
       "    </tr>\n",
       "    <tr>\n",
       "      <th>2</th>\n",
       "      <td>58000</td>\n",
       "    </tr>\n",
       "    <tr>\n",
       "      <th>3</th>\n",
       "      <td>46000</td>\n",
       "    </tr>\n",
       "    <tr>\n",
       "      <th>4</th>\n",
       "      <td>43000</td>\n",
       "    </tr>\n",
       "  </tbody>\n",
       "</table>\n",
       "</div>"
      ],
      "text/plain": [
       "   cctvCount\n",
       "0     689000\n",
       "1      83000\n",
       "2      58000\n",
       "3      46000\n",
       "4      43000"
      ]
     },
     "execution_count": 31,
     "metadata": {},
     "output_type": "execute_result"
    }
   ],
   "source": [
    "revisedcctvData = pd.DataFrame(cctvData)\n",
    "revisedcctvData.head()"
   ]
  },
  {
   "cell_type": "code",
   "execution_count": 32,
   "id": "8561cb12-1820-41b8-b001-b35a40688110",
   "metadata": {},
   "outputs": [
    {
     "data": {
      "text/html": [
       "<div>\n",
       "<style scoped>\n",
       "    .dataframe tbody tr th:only-of-type {\n",
       "        vertical-align: middle;\n",
       "    }\n",
       "\n",
       "    .dataframe tbody tr th {\n",
       "        vertical-align: top;\n",
       "    }\n",
       "\n",
       "    .dataframe thead th {\n",
       "        text-align: right;\n",
       "    }\n",
       "</style>\n",
       "<table border=\"1\" class=\"dataframe\">\n",
       "  <thead>\n",
       "    <tr style=\"text-align: right;\">\n",
       "      <th></th>\n",
       "      <th>cctvCount</th>\n",
       "      <th>Count</th>\n",
       "    </tr>\n",
       "  </thead>\n",
       "  <tbody>\n",
       "    <tr>\n",
       "      <th>0</th>\n",
       "      <td>689000</td>\n",
       "      <td>689000</td>\n",
       "    </tr>\n",
       "    <tr>\n",
       "      <th>1</th>\n",
       "      <td>83000</td>\n",
       "      <td>83000</td>\n",
       "    </tr>\n",
       "    <tr>\n",
       "      <th>2</th>\n",
       "      <td>58000</td>\n",
       "      <td>58000</td>\n",
       "    </tr>\n",
       "    <tr>\n",
       "      <th>3</th>\n",
       "      <td>46000</td>\n",
       "      <td>46000</td>\n",
       "    </tr>\n",
       "    <tr>\n",
       "      <th>4</th>\n",
       "      <td>43000</td>\n",
       "      <td>43000</td>\n",
       "    </tr>\n",
       "  </tbody>\n",
       "</table>\n",
       "</div>"
      ],
      "text/plain": [
       "   cctvCount   Count\n",
       "0     689000  689000\n",
       "1      83000   83000\n",
       "2      58000   58000\n",
       "3      46000   46000\n",
       "4      43000   43000"
      ]
     },
     "execution_count": 32,
     "metadata": {},
     "output_type": "execute_result"
    }
   ],
   "source": [
    "revisedcctvData['Count'] = revisedcctvData['cctvCount']\n",
    "revisedcctvData.head()"
   ]
  },
  {
   "cell_type": "code",
   "execution_count": 33,
   "id": "9f4d3399-2732-42f4-bdec-567b78082bb2",
   "metadata": {},
   "outputs": [],
   "source": [
    "count = revisedcctvData['Count'].sum()\n",
    "revisedcctvData['Count'] = count"
   ]
  },
  {
   "cell_type": "code",
   "execution_count": 34,
   "id": "9bfc8fe6-24a4-41f5-8461-52e0d05aca2f",
   "metadata": {},
   "outputs": [
    {
     "data": {
      "text/html": [
       "<div>\n",
       "<style scoped>\n",
       "    .dataframe tbody tr th:only-of-type {\n",
       "        vertical-align: middle;\n",
       "    }\n",
       "\n",
       "    .dataframe tbody tr th {\n",
       "        vertical-align: top;\n",
       "    }\n",
       "\n",
       "    .dataframe thead th {\n",
       "        text-align: right;\n",
       "    }\n",
       "</style>\n",
       "<table border=\"1\" class=\"dataframe\">\n",
       "  <thead>\n",
       "    <tr style=\"text-align: right;\">\n",
       "      <th></th>\n",
       "      <th>cctvCount</th>\n",
       "      <th>Count</th>\n",
       "    </tr>\n",
       "  </thead>\n",
       "  <tbody>\n",
       "    <tr>\n",
       "      <th>0</th>\n",
       "      <td>689000</td>\n",
       "      <td>1065000</td>\n",
       "    </tr>\n",
       "    <tr>\n",
       "      <th>1</th>\n",
       "      <td>83000</td>\n",
       "      <td>1065000</td>\n",
       "    </tr>\n",
       "    <tr>\n",
       "      <th>2</th>\n",
       "      <td>58000</td>\n",
       "      <td>1065000</td>\n",
       "    </tr>\n",
       "    <tr>\n",
       "      <th>3</th>\n",
       "      <td>46000</td>\n",
       "      <td>1065000</td>\n",
       "    </tr>\n",
       "    <tr>\n",
       "      <th>4</th>\n",
       "      <td>43000</td>\n",
       "      <td>1065000</td>\n",
       "    </tr>\n",
       "  </tbody>\n",
       "</table>\n",
       "</div>"
      ],
      "text/plain": [
       "   cctvCount    Count\n",
       "0     689000  1065000\n",
       "1      83000  1065000\n",
       "2      58000  1065000\n",
       "3      46000  1065000\n",
       "4      43000  1065000"
      ]
     },
     "execution_count": 34,
     "metadata": {},
     "output_type": "execute_result"
    }
   ],
   "source": [
    "revisedcctvData.head()"
   ]
  },
  {
   "cell_type": "code",
   "execution_count": 35,
   "id": "065bc730-62e9-4953-ae52-cf65330d6aa5",
   "metadata": {},
   "outputs": [
    {
     "data": {
      "text/html": [
       "<div>\n",
       "<style scoped>\n",
       "    .dataframe tbody tr th:only-of-type {\n",
       "        vertical-align: middle;\n",
       "    }\n",
       "\n",
       "    .dataframe tbody tr th {\n",
       "        vertical-align: top;\n",
       "    }\n",
       "\n",
       "    .dataframe thead th {\n",
       "        text-align: right;\n",
       "    }\n",
       "</style>\n",
       "<table border=\"1\" class=\"dataframe\">\n",
       "  <thead>\n",
       "    <tr style=\"text-align: right;\">\n",
       "      <th></th>\n",
       "      <th>Count</th>\n",
       "    </tr>\n",
       "  </thead>\n",
       "  <tbody>\n",
       "    <tr>\n",
       "      <th>0</th>\n",
       "      <td>1065000</td>\n",
       "    </tr>\n",
       "    <tr>\n",
       "      <th>1</th>\n",
       "      <td>1065000</td>\n",
       "    </tr>\n",
       "    <tr>\n",
       "      <th>2</th>\n",
       "      <td>1065000</td>\n",
       "    </tr>\n",
       "    <tr>\n",
       "      <th>3</th>\n",
       "      <td>1065000</td>\n",
       "    </tr>\n",
       "    <tr>\n",
       "      <th>4</th>\n",
       "      <td>1065000</td>\n",
       "    </tr>\n",
       "  </tbody>\n",
       "</table>\n",
       "</div>"
      ],
      "text/plain": [
       "     Count\n",
       "0  1065000\n",
       "1  1065000\n",
       "2  1065000\n",
       "3  1065000\n",
       "4  1065000"
      ]
     },
     "execution_count": 35,
     "metadata": {},
     "output_type": "execute_result"
    }
   ],
   "source": [
    "revisedcctvData = revisedcctvData.drop(columns=['cctvCount'])\n",
    "revisedcctvData.head()"
   ]
  },
  {
   "cell_type": "code",
   "execution_count": 36,
   "id": "4dba398c-88f4-444b-8737-fe99ac19181f",
   "metadata": {},
   "outputs": [],
   "source": [
    "populationCount = finalPolicePopulation['PopulationCount']"
   ]
  },
  {
   "cell_type": "code",
   "execution_count": 37,
   "id": "b76ce955-f4bc-4159-9b77-ec79d8a291ac",
   "metadata": {},
   "outputs": [
    {
     "data": {
      "text/html": [
       "<div>\n",
       "<style scoped>\n",
       "    .dataframe tbody tr th:only-of-type {\n",
       "        vertical-align: middle;\n",
       "    }\n",
       "\n",
       "    .dataframe tbody tr th {\n",
       "        vertical-align: top;\n",
       "    }\n",
       "\n",
       "    .dataframe thead th {\n",
       "        text-align: right;\n",
       "    }\n",
       "</style>\n",
       "<table border=\"1\" class=\"dataframe\">\n",
       "  <thead>\n",
       "    <tr style=\"text-align: right;\">\n",
       "      <th></th>\n",
       "      <th>Count</th>\n",
       "    </tr>\n",
       "  </thead>\n",
       "  <tbody>\n",
       "    <tr>\n",
       "      <th>총CCTV수</th>\n",
       "      <td>1065000.0</td>\n",
       "    </tr>\n",
       "    <tr>\n",
       "      <th>총인구수</th>\n",
       "      <td>67596300.0</td>\n",
       "    </tr>\n",
       "  </tbody>\n",
       "</table>\n",
       "</div>"
      ],
      "text/plain": [
       "             Count\n",
       "총CCTV수   1065000.0\n",
       "총인구수    67596300.0"
      ]
     },
     "execution_count": 37,
     "metadata": {},
     "output_type": "execute_result"
    }
   ],
   "source": [
    "finalcctvData = pd.DataFrame({'Count': [revisedcctvData['Count'][0], finalPolicePopulation['PopulationCount']]}, index=['총CCTV수', '총인구수'])\n",
    "\n",
    "finalcctvData.head()"
   ]
  },
  {
   "cell_type": "code",
   "execution_count": 40,
   "id": "a6a0ddb2-8b0d-4a0d-b2a6-e78044755c5b",
   "metadata": {},
   "outputs": [
    {
     "name": "stdout",
     "output_type": "stream",
     "text": [
      "<class 'pandas.core.frame.DataFrame'>\n",
      "RangeIndex: 13 entries, 0 to 12\n",
      "Data columns (total 2 columns):\n",
      " #   Column           Non-Null Count  Dtype \n",
      "---  ------           --------------  ----- \n",
      " 0   year             13 non-null     int64 \n",
      " 1   Recidivism Rate  13 non-null     object\n",
      "dtypes: int64(1), object(1)\n",
      "memory usage: 340.0+ bytes\n"
     ]
    }
   ],
   "source": [
    "recidivismData = pd.read_csv('UK/recidivism.csv', encoding='utf-8')\n",
    "recidivismData.info()"
   ]
  },
  {
   "cell_type": "code",
   "execution_count": 42,
   "id": "a42e0874-17c7-4f3a-b2f9-6a004ca8a12a",
   "metadata": {},
   "outputs": [
    {
     "data": {
      "text/html": [
       "<div>\n",
       "<style scoped>\n",
       "    .dataframe tbody tr th:only-of-type {\n",
       "        vertical-align: middle;\n",
       "    }\n",
       "\n",
       "    .dataframe tbody tr th {\n",
       "        vertical-align: top;\n",
       "    }\n",
       "\n",
       "    .dataframe thead th {\n",
       "        text-align: right;\n",
       "    }\n",
       "</style>\n",
       "<table border=\"1\" class=\"dataframe\">\n",
       "  <thead>\n",
       "    <tr style=\"text-align: right;\">\n",
       "      <th></th>\n",
       "      <th>Recidivism Rate</th>\n",
       "    </tr>\n",
       "  </thead>\n",
       "  <tbody>\n",
       "    <tr>\n",
       "      <th>0</th>\n",
       "      <td>31.6%</td>\n",
       "    </tr>\n",
       "    <tr>\n",
       "      <th>1</th>\n",
       "      <td>30.9%</td>\n",
       "    </tr>\n",
       "    <tr>\n",
       "      <th>2</th>\n",
       "      <td>30%</td>\n",
       "    </tr>\n",
       "    <tr>\n",
       "      <th>3</th>\n",
       "      <td>30%</td>\n",
       "    </tr>\n",
       "    <tr>\n",
       "      <th>4</th>\n",
       "      <td>29.8%</td>\n",
       "    </tr>\n",
       "  </tbody>\n",
       "</table>\n",
       "</div>"
      ],
      "text/plain": [
       "  Recidivism Rate\n",
       "0           31.6%\n",
       "1           30.9%\n",
       "2             30%\n",
       "3             30%\n",
       "4           29.8%"
      ]
     },
     "execution_count": 42,
     "metadata": {},
     "output_type": "execute_result"
    }
   ],
   "source": [
    "select_columns = ['Recidivism Rate']\n",
    "revisedRecidivism = recidivismData[select_columns]\n",
    "revisedRecidivism.head()"
   ]
  },
  {
   "cell_type": "code",
   "execution_count": 46,
   "id": "94192bda-2698-401f-82d2-c6db7d9ead4f",
   "metadata": {},
   "outputs": [
    {
     "data": {
      "text/html": [
       "<div>\n",
       "<style scoped>\n",
       "    .dataframe tbody tr th:only-of-type {\n",
       "        vertical-align: middle;\n",
       "    }\n",
       "\n",
       "    .dataframe tbody tr th {\n",
       "        vertical-align: top;\n",
       "    }\n",
       "\n",
       "    .dataframe thead th {\n",
       "        text-align: right;\n",
       "    }\n",
       "</style>\n",
       "<table border=\"1\" class=\"dataframe\">\n",
       "  <thead>\n",
       "    <tr style=\"text-align: right;\">\n",
       "      <th></th>\n",
       "      <th>Recidivism Rate</th>\n",
       "      <th>Rate</th>\n",
       "    </tr>\n",
       "  </thead>\n",
       "  <tbody>\n",
       "    <tr>\n",
       "      <th>0</th>\n",
       "      <td>31.6</td>\n",
       "      <td>31.6</td>\n",
       "    </tr>\n",
       "    <tr>\n",
       "      <th>1</th>\n",
       "      <td>30.9</td>\n",
       "      <td>30.9</td>\n",
       "    </tr>\n",
       "    <tr>\n",
       "      <th>2</th>\n",
       "      <td>30</td>\n",
       "      <td>30.0</td>\n",
       "    </tr>\n",
       "    <tr>\n",
       "      <th>3</th>\n",
       "      <td>30</td>\n",
       "      <td>30.0</td>\n",
       "    </tr>\n",
       "    <tr>\n",
       "      <th>4</th>\n",
       "      <td>29.8</td>\n",
       "      <td>29.8</td>\n",
       "    </tr>\n",
       "    <tr>\n",
       "      <th>5</th>\n",
       "      <td>30</td>\n",
       "      <td>30.0</td>\n",
       "    </tr>\n",
       "    <tr>\n",
       "      <th>6</th>\n",
       "      <td>28.9</td>\n",
       "      <td>28.9</td>\n",
       "    </tr>\n",
       "    <tr>\n",
       "      <th>7</th>\n",
       "      <td>28.5</td>\n",
       "      <td>28.5</td>\n",
       "    </tr>\n",
       "    <tr>\n",
       "      <th>8</th>\n",
       "      <td>28.5</td>\n",
       "      <td>28.5</td>\n",
       "    </tr>\n",
       "    <tr>\n",
       "      <th>9</th>\n",
       "      <td>27.4</td>\n",
       "      <td>27.4</td>\n",
       "    </tr>\n",
       "    <tr>\n",
       "      <th>10</th>\n",
       "      <td>25.1</td>\n",
       "      <td>25.1</td>\n",
       "    </tr>\n",
       "    <tr>\n",
       "      <th>11</th>\n",
       "      <td>24</td>\n",
       "      <td>24.0</td>\n",
       "    </tr>\n",
       "    <tr>\n",
       "      <th>12</th>\n",
       "      <td>24.9</td>\n",
       "      <td>24.9</td>\n",
       "    </tr>\n",
       "  </tbody>\n",
       "</table>\n",
       "</div>"
      ],
      "text/plain": [
       "   Recidivism Rate  Rate\n",
       "0             31.6  31.6\n",
       "1             30.9  30.9\n",
       "2               30  30.0\n",
       "3               30  30.0\n",
       "4             29.8  29.8\n",
       "5               30  30.0\n",
       "6             28.9  28.9\n",
       "7             28.5  28.5\n",
       "8             28.5  28.5\n",
       "9             27.4  27.4\n",
       "10            25.1  25.1\n",
       "11              24  24.0\n",
       "12            24.9  24.9"
      ]
     },
     "execution_count": 46,
     "metadata": {},
     "output_type": "execute_result"
    }
   ],
   "source": [
    "revisedRecidivism['Recidivism Rate'] = [x.replace('%', '') for x in revisedRecidivism['Recidivism Rate']]\n",
    "revisedRecidivism['Rate'] = pd.to_numeric(revisedRecidivism['Recidivism Rate'])\n",
    "revisedRecidivism.head(13)"
   ]
  },
  {
   "cell_type": "code",
   "execution_count": 47,
   "id": "f19b3cf0-2d84-4906-b7fd-48e06012fb88",
   "metadata": {},
   "outputs": [
    {
     "data": {
      "text/html": [
       "<div>\n",
       "<style scoped>\n",
       "    .dataframe tbody tr th:only-of-type {\n",
       "        vertical-align: middle;\n",
       "    }\n",
       "\n",
       "    .dataframe tbody tr th {\n",
       "        vertical-align: top;\n",
       "    }\n",
       "\n",
       "    .dataframe thead th {\n",
       "        text-align: right;\n",
       "    }\n",
       "</style>\n",
       "<table border=\"1\" class=\"dataframe\">\n",
       "  <thead>\n",
       "    <tr style=\"text-align: right;\">\n",
       "      <th></th>\n",
       "      <th>Count</th>\n",
       "    </tr>\n",
       "  </thead>\n",
       "  <tbody>\n",
       "    <tr>\n",
       "      <th>재범률</th>\n",
       "      <td>24.9</td>\n",
       "    </tr>\n",
       "  </tbody>\n",
       "</table>\n",
       "</div>"
      ],
      "text/plain": [
       "     Count\n",
       "재범률   24.9"
      ]
     },
     "execution_count": 47,
     "metadata": {},
     "output_type": "execute_result"
    }
   ],
   "source": [
    "finalrecidivismData = pd.DataFrame({'Count' : [revisedRecidivism['Rate'][12]]}, index = ['재범률'])\n",
    "finalrecidivismData.head()"
   ]
  }
 ],
 "metadata": {
  "kernelspec": {
   "display_name": "Python 3 (ipykernel)",
   "language": "python",
   "name": "python3"
  },
  "language_info": {
   "codemirror_mode": {
    "name": "ipython",
    "version": 3
   },
   "file_extension": ".py",
   "mimetype": "text/x-python",
   "name": "python",
   "nbconvert_exporter": "python",
   "pygments_lexer": "ipython3",
   "version": "3.11.5"
  }
 },
 "nbformat": 4,
 "nbformat_minor": 5
}
