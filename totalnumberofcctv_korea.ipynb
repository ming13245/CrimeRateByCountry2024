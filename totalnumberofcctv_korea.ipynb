{
 "cells": [
  {
   "cell_type": "code",
   "execution_count": 2,
   "id": "0fdb386b-58f9-4aea-abef-87679abea691",
   "metadata": {},
   "outputs": [
    {
     "name": "stderr",
     "output_type": "stream",
     "text": [
      "C:\\Users\\mjmok\\AppData\\Local\\Temp\\ipykernel_17636\\3789392763.py:3: DtypeWarning: Columns (14,15,16,17,18) have mixed types. Specify dtype option on import or set low_memory=False.\n",
      "  cctvData = pd.read_csv(\"C:/ming/국내cctv_data/cctvdata_.csv\", encoding=\"utf-8\")\n"
     ]
    },
    {
     "name": "stdout",
     "output_type": "stream",
     "text": [
      "<class 'pandas.core.frame.DataFrame'>\n",
      "RangeIndex: 263758 entries, 0 to 263757\n",
      "Data columns (total 19 columns):\n",
      " #   Column               Non-Null Count   Dtype  \n",
      "---  ------               --------------   -----  \n",
      " 0   번호                   263751 non-null  float64\n",
      " 1   관리기관명                263751 non-null  object \n",
      " 2   소재지도로명주소             140881 non-null  object \n",
      " 3   소재지지번주소              232618 non-null  object \n",
      " 4   설치목적구분               263751 non-null  object \n",
      " 5   카메라대수                263751 non-null  float64\n",
      " 6   카메라화소수               263140 non-null  float64\n",
      " 7   촬영방면정보               136111 non-null  object \n",
      " 8   보관일수                 262706 non-null  float64\n",
      " 9   설치연월                 152951 non-null  object \n",
      " 10  관리기관전화번호             263751 non-null  object \n",
      " 11  WGS84위도              263751 non-null  float64\n",
      " 12  WGS84경도              263751 non-null  float64\n",
      " 13  데이터기준일자              263751 non-null  object \n",
      " 14  통계표명:                6 non-null       object \n",
      " 15  공공기관 CCTV 설치 및 운영대수  7 non-null       object \n",
      " 16  Unnamed: 2           4 non-null       object \n",
      " 17  Unnamed: 3           4 non-null       object \n",
      " 18  Unnamed: 4           4 non-null       object \n",
      "dtypes: float64(6), object(13)\n",
      "memory usage: 38.2+ MB\n"
     ]
    },
    {
     "data": {
      "text/html": [
       "<div>\n",
       "<style scoped>\n",
       "    .dataframe tbody tr th:only-of-type {\n",
       "        vertical-align: middle;\n",
       "    }\n",
       "\n",
       "    .dataframe tbody tr th {\n",
       "        vertical-align: top;\n",
       "    }\n",
       "\n",
       "    .dataframe thead th {\n",
       "        text-align: right;\n",
       "    }\n",
       "</style>\n",
       "<table border=\"1\" class=\"dataframe\">\n",
       "  <thead>\n",
       "    <tr style=\"text-align: right;\">\n",
       "      <th></th>\n",
       "      <th>카메라대수</th>\n",
       "    </tr>\n",
       "    <tr>\n",
       "      <th>관리기관명</th>\n",
       "      <th></th>\n",
       "    </tr>\n",
       "  </thead>\n",
       "  <tbody>\n",
       "    <tr>\n",
       "      <th>강원도화천군청</th>\n",
       "      <td>1.0</td>\n",
       "    </tr>\n",
       "    <tr>\n",
       "      <th>강원도화천군청</th>\n",
       "      <td>1.0</td>\n",
       "    </tr>\n",
       "    <tr>\n",
       "      <th>강원도화천군청</th>\n",
       "      <td>1.0</td>\n",
       "    </tr>\n",
       "    <tr>\n",
       "      <th>강원도화천군청</th>\n",
       "      <td>1.0</td>\n",
       "    </tr>\n",
       "    <tr>\n",
       "      <th>강원도화천군청</th>\n",
       "      <td>1.0</td>\n",
       "    </tr>\n",
       "  </tbody>\n",
       "</table>\n",
       "</div>"
      ],
      "text/plain": [
       "        카메라대수\n",
       "관리기관명        \n",
       "강원도화천군청   1.0\n",
       "강원도화천군청   1.0\n",
       "강원도화천군청   1.0\n",
       "강원도화천군청   1.0\n",
       "강원도화천군청   1.0"
      ]
     },
     "execution_count": 2,
     "metadata": {},
     "output_type": "execute_result"
    }
   ],
   "source": [
    "import pandas as pd\n",
    "\n",
    "cctvData = pd.read_csv(\"C:/ming/국내cctv_data/cctvdata_.csv\", encoding=\"utf-8\")\n",
    "\n",
    "cctvData.info()\n",
    "\n",
    "selected_columns = [\"관리기관명\",\"카메라대수\"]\n",
    "\n",
    "revisedcctvCount = cctvData[selected_columns]\n",
    "\n",
    "revisedcctvCount.head()\n",
    "\n",
    "revisedcctvCount_index = revisedcctvCount.set_index(\"관리기관명\")\n",
    "revisedcctvCount_index.head()\n",
    "\n",
    "noNull_cctv_Index = revisedcctvCount_index.fillna(\"0\")\n",
    "noNull_cctv_Index.head()"
   ]
  },
  {
   "cell_type": "code",
   "execution_count": 3,
   "id": "0b327a4c-9e38-40e1-aec3-e2abc8f94290",
   "metadata": {},
   "outputs": [
    {
     "data": {
      "text/html": [
       "<div>\n",
       "<style scoped>\n",
       "    .dataframe tbody tr th:only-of-type {\n",
       "        vertical-align: middle;\n",
       "    }\n",
       "\n",
       "    .dataframe tbody tr th {\n",
       "        vertical-align: top;\n",
       "    }\n",
       "\n",
       "    .dataframe thead th {\n",
       "        text-align: right;\n",
       "    }\n",
       "</style>\n",
       "<table border=\"1\" class=\"dataframe\">\n",
       "  <thead>\n",
       "    <tr style=\"text-align: right;\">\n",
       "      <th></th>\n",
       "      <th>카메라대수</th>\n",
       "      <th>Count</th>\n",
       "    </tr>\n",
       "    <tr>\n",
       "      <th>관리기관명</th>\n",
       "      <th></th>\n",
       "      <th></th>\n",
       "    </tr>\n",
       "  </thead>\n",
       "  <tbody>\n",
       "    <tr>\n",
       "      <th>강원도화천군청</th>\n",
       "      <td>1.0</td>\n",
       "      <td>1.0</td>\n",
       "    </tr>\n",
       "    <tr>\n",
       "      <th>강원도화천군청</th>\n",
       "      <td>1.0</td>\n",
       "      <td>1.0</td>\n",
       "    </tr>\n",
       "    <tr>\n",
       "      <th>강원도화천군청</th>\n",
       "      <td>1.0</td>\n",
       "      <td>1.0</td>\n",
       "    </tr>\n",
       "    <tr>\n",
       "      <th>강원도화천군청</th>\n",
       "      <td>1.0</td>\n",
       "      <td>1.0</td>\n",
       "    </tr>\n",
       "    <tr>\n",
       "      <th>강원도화천군청</th>\n",
       "      <td>1.0</td>\n",
       "      <td>1.0</td>\n",
       "    </tr>\n",
       "  </tbody>\n",
       "</table>\n",
       "</div>"
      ],
      "text/plain": [
       "        카메라대수  Count\n",
       "관리기관명               \n",
       "강원도화천군청   1.0    1.0\n",
       "강원도화천군청   1.0    1.0\n",
       "강원도화천군청   1.0    1.0\n",
       "강원도화천군청   1.0    1.0\n",
       "강원도화천군청   1.0    1.0"
      ]
     },
     "execution_count": 3,
     "metadata": {},
     "output_type": "execute_result"
    }
   ],
   "source": [
    "noNull_cctv_Index[\"카메라대수\"] = noNull_cctv_Index[\"카메라대수\"].astype(str).str.replace(',', '')\n",
    "noNull_cctv_Index[\"Count\"] = pd.to_numeric(noNull_cctv_Index[\"카메라대수\"])\n",
    "noNull_cctv_Index.head()"
   ]
  },
  {
   "cell_type": "code",
   "execution_count": 13,
   "id": "1ea41562-d27e-4cd3-b172-f6546e0b47d8",
   "metadata": {},
   "outputs": [
    {
     "data": {
      "text/plain": [
       "499886"
      ]
     },
     "execution_count": 13,
     "metadata": {},
     "output_type": "execute_result"
    }
   ],
   "source": [
    "cctv_total_count = noNull_cctv_Index[\"Count\"].sum().astype(int)\n",
    "cctv_total_count"
   ]
  },
  {
   "cell_type": "code",
   "execution_count": 4,
   "id": "e73084b3-3343-428f-bdde-e34099331dae",
   "metadata": {},
   "outputs": [
    {
     "name": "stdout",
     "output_type": "stream",
     "text": [
      "<class 'pandas.core.frame.DataFrame'>\n",
      "RangeIndex: 18 entries, 0 to 17\n",
      "Data columns (total 7 columns):\n",
      " #   Column           Non-Null Count  Dtype  \n",
      "---  ------           --------------  -----  \n",
      " 0   행정구역             18 non-null     object \n",
      " 1   2024년03월_총인구수    18 non-null     object \n",
      " 2   2024년03월_세대수     18 non-null     object \n",
      " 3   2024년03월_세대당 인구  18 non-null     float64\n",
      " 4   2024년03월_남자 인구수  18 non-null     object \n",
      " 5   2024년03월_여자 인구수  18 non-null     object \n",
      " 6   2024년03월_남여 비율   18 non-null     float64\n",
      "dtypes: float64(2), object(5)\n",
      "memory usage: 1.1+ KB\n"
     ]
    }
   ],
   "source": [
    "PopulationData = pd.read_csv(\"C:/ming/202403_202403_주민등록인구및세대현황_월간.CSV\", encoding=\"EUC-KR\")\n",
    "\n",
    "PopulationData.info()"
   ]
  },
  {
   "cell_type": "code",
   "execution_count": 8,
   "id": "6e7581d3-dae7-4ee8-98f4-a2aad1309123",
   "metadata": {},
   "outputs": [
    {
     "data": {
      "text/html": [
       "<div>\n",
       "<style scoped>\n",
       "    .dataframe tbody tr th:only-of-type {\n",
       "        vertical-align: middle;\n",
       "    }\n",
       "\n",
       "    .dataframe tbody tr th {\n",
       "        vertical-align: top;\n",
       "    }\n",
       "\n",
       "    .dataframe thead th {\n",
       "        text-align: right;\n",
       "    }\n",
       "</style>\n",
       "<table border=\"1\" class=\"dataframe\">\n",
       "  <thead>\n",
       "    <tr style=\"text-align: right;\">\n",
       "      <th></th>\n",
       "      <th>Count</th>\n",
       "    </tr>\n",
       "  </thead>\n",
       "  <tbody>\n",
       "    <tr>\n",
       "      <th>총인구수</th>\n",
       "      <td>51293934</td>\n",
       "    </tr>\n",
       "  </tbody>\n",
       "</table>\n",
       "</div>"
      ],
      "text/plain": [
       "         Count\n",
       "총인구수  51293934"
      ]
     },
     "execution_count": 8,
     "metadata": {},
     "output_type": "execute_result"
    }
   ],
   "source": [
    "selected_columns = [\"2024년03월_총인구수\"]\n",
    "\n",
    "population_value = int(PopulationData[selected_columns].iloc[0, 0].replace(',', ''))\n",
    "\n",
    "pop = pd.DataFrame({\"Count\": [population_value]}, index=[\"총인구수\"])\n",
    "\n",
    "pop[\"Count\"] = pd.to_numeric(pop[\"Count\"])\n",
    "\n",
    "pop"
   ]
  },
  {
   "cell_type": "code",
   "execution_count": 14,
   "id": "bbfbd37f-7dc2-49fb-acbe-f78a1671c2b5",
   "metadata": {},
   "outputs": [
    {
     "data": {
      "text/html": [
       "<div>\n",
       "<style scoped>\n",
       "    .dataframe tbody tr th:only-of-type {\n",
       "        vertical-align: middle;\n",
       "    }\n",
       "\n",
       "    .dataframe tbody tr th {\n",
       "        vertical-align: top;\n",
       "    }\n",
       "\n",
       "    .dataframe thead th {\n",
       "        text-align: right;\n",
       "    }\n",
       "</style>\n",
       "<table border=\"1\" class=\"dataframe\">\n",
       "  <thead>\n",
       "    <tr style=\"text-align: right;\">\n",
       "      <th></th>\n",
       "      <th>Count</th>\n",
       "    </tr>\n",
       "  </thead>\n",
       "  <tbody>\n",
       "    <tr>\n",
       "      <th>총CCTV수</th>\n",
       "      <td>499886.0</td>\n",
       "    </tr>\n",
       "    <tr>\n",
       "      <th>총인구수</th>\n",
       "      <td>51293934.0</td>\n",
       "    </tr>\n",
       "  </tbody>\n",
       "</table>\n",
       "</div>"
      ],
      "text/plain": [
       "             Count\n",
       "총CCTV수    499886.0\n",
       "총인구수    51293934.0"
      ]
     },
     "execution_count": 14,
     "metadata": {},
     "output_type": "execute_result"
    }
   ],
   "source": [
    "cctv_total_count = noNull_cctv_Index[\"Count\"].sum().astype(int)\n",
    "\n",
    "population_value = float(PopulationData[selected_columns].iloc[0, 0].replace(',', ''))\n",
    "\n",
    "count_sum = pd.DataFrame({\n",
    "    \"Count\": [cctv_total_count, population_value]\n",
    "}, index=[\"총CCTV수\", \"총인구수\"])\n",
    "\n",
    "count_sum"
   ]
  }
 ],
 "metadata": {
  "kernelspec": {
   "display_name": "Python 3 (ipykernel)",
   "language": "python",
   "name": "python3"
  },
  "language_info": {
   "codemirror_mode": {
    "name": "ipython",
    "version": 3
   },
   "file_extension": ".py",
   "mimetype": "text/x-python",
   "name": "python",
   "nbconvert_exporter": "python",
   "pygments_lexer": "ipython3",
   "version": "3.11.7"
  }
 },
 "nbformat": 4,
 "nbformat_minor": 5
}
