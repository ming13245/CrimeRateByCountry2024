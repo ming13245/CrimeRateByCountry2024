{
 "cells": [
  {
   "cell_type": "code",
   "execution_count": 12,
   "id": "d82f5847-cb7b-42c3-b194-cb88f9ed70f4",
   "metadata": {},
   "outputs": [
    {
     "data": {
      "text/html": [
       "<div>\n",
       "<style scoped>\n",
       "    .dataframe tbody tr th:only-of-type {\n",
       "        vertical-align: middle;\n",
       "    }\n",
       "\n",
       "    .dataframe tbody tr th {\n",
       "        vertical-align: top;\n",
       "    }\n",
       "\n",
       "    .dataframe thead th {\n",
       "        text-align: right;\n",
       "    }\n",
       "</style>\n",
       "<table border=\"1\" class=\"dataframe\">\n",
       "  <thead>\n",
       "    <tr style=\"text-align: right;\">\n",
       "      <th></th>\n",
       "      <th>Count</th>\n",
       "    </tr>\n",
       "  </thead>\n",
       "  <tbody>\n",
       "    <tr>\n",
       "      <th>살인</th>\n",
       "      <td>853</td>\n",
       "    </tr>\n",
       "    <tr>\n",
       "      <th>강간</th>\n",
       "      <td>1655</td>\n",
       "    </tr>\n",
       "    <tr>\n",
       "      <th>절도</th>\n",
       "      <td>44150</td>\n",
       "    </tr>\n",
       "    <tr>\n",
       "      <th>폭행</th>\n",
       "      <td>52701</td>\n",
       "    </tr>\n",
       "  </tbody>\n",
       "</table>\n",
       "</div>"
      ],
      "text/plain": [
       "    Count\n",
       "살인    853\n",
       "강간   1655\n",
       "절도  44150\n",
       "폭행  52701"
      ]
     },
     "execution_count": 12,
     "metadata": {},
     "output_type": "execute_result"
    }
   ],
   "source": [
    "import pandas as pd\n",
    "\n",
    "crimeCountData = pd.read_csv(r'C:\\ming\\crime_data_japan_2022.csv', encoding=\"cp949\")\n",
    "\n",
    "selected_columns = [\"Offenses\",\"Reported cases\"]\n",
    "revisedCrimeCount = crimeCountData[selected_columns]\n",
    "\n",
    "revisedCrimeCount_index = revisedCrimeCount.set_index(\"Offenses\")\n",
    "\n",
    "revisedCrimeCount_index[\"Reported cases\"] = revisedCrimeCount_index[\"Reported cases\"].astype(str).str.replace(',', '')\n",
    "\n",
    "revisedCrimeCount_index[\"Count\"] = pd.to_numeric(revisedCrimeCount_index[\"Reported cases\"])\n",
    "\n",
    "refined_index_crime = revisedCrimeCount_index[\"Count\"]\n",
    "\n",
    "final_data = {\"Count\": revisedCrimeCount_index[\"Count\"].tolist()}\n",
    "final_df = pd.DataFrame(final_data, index=[\"살인\", \"강간\", \"절도\", \"폭행\"])\n",
    "final_df"
   ]
  },
  {
   "cell_type": "code",
   "execution_count": 15,
   "id": "db07800a-a36b-4580-b81d-0d371e8598b8",
   "metadata": {},
   "outputs": [
    {
     "name": "stderr",
     "output_type": "stream",
     "text": [
      "C:\\Users\\mjmok\\AppData\\Local\\Temp\\ipykernel_7244\\2357293582.py:11: SettingWithCopyWarning: \n",
      "A value is trying to be set on a copy of a slice from a DataFrame\n",
      "\n",
      "See the caveats in the documentation: https://pandas.pydata.org/pandas-docs/stable/user_guide/indexing.html#returning-a-view-versus-a-copy\n",
      "  cnt[\"total population\"].fillna(0, inplace=True)\n"
     ]
    },
    {
     "data": {
      "text/html": [
       "<div>\n",
       "<style scoped>\n",
       "    .dataframe tbody tr th:only-of-type {\n",
       "        vertical-align: middle;\n",
       "    }\n",
       "\n",
       "    .dataframe tbody tr th {\n",
       "        vertical-align: top;\n",
       "    }\n",
       "\n",
       "    .dataframe thead th {\n",
       "        text-align: right;\n",
       "    }\n",
       "</style>\n",
       "<table border=\"1\" class=\"dataframe\">\n",
       "  <thead>\n",
       "    <tr style=\"text-align: right;\">\n",
       "      <th></th>\n",
       "      <th>Count</th>\n",
       "    </tr>\n",
       "  </thead>\n",
       "  <tbody>\n",
       "    <tr>\n",
       "      <th>총경찰관수</th>\n",
       "      <td>273960.0</td>\n",
       "    </tr>\n",
       "    <tr>\n",
       "      <th>총인구수</th>\n",
       "      <td>125100000.0</td>\n",
       "    </tr>\n",
       "  </tbody>\n",
       "</table>\n",
       "</div>"
      ],
      "text/plain": [
       "             Count\n",
       "총경찰관수     273960.0\n",
       "총인구수   125100000.0"
      ]
     },
     "execution_count": 15,
     "metadata": {},
     "output_type": "execute_result"
    }
   ],
   "source": [
    "import pandas as pd\n",
    "\n",
    "PoliceCountData = pd.read_csv(\"C:/ming/NumberOfPolice_2020.csv\")\n",
    "\n",
    "final_data = {\"Count\": revisedCrimeCount_index[\"Count\"].tolist()}\n",
    "final_df = pd.DataFrame(final_data, index=[\"살인\", \"강간\", \"절도\", \"폭행\"])\n",
    "\n",
    "selected_columns = [\"number\",\"total population\"]\n",
    "\n",
    "cnt = PoliceCountData[selected_columns]\n",
    "cnt[\"total population\"].fillna(0, inplace=True)\n",
    "\n",
    "police_cnt = pd.DataFrame({\"Count\": [cnt[\"number\"].sum(),\n",
    "                                    cnt[\"total population\"].sum()]},\n",
    "                          index=[\"총경찰관수\", \"총인구수\"])\n",
    "police_cnt"
   ]
  },
  {
   "cell_type": "code",
   "execution_count": 16,
   "id": "fb9d798b-ed30-4959-a838-76df26613b34",
   "metadata": {},
   "outputs": [
    {
     "data": {
      "text/html": [
       "<div>\n",
       "<style scoped>\n",
       "    .dataframe tbody tr th:only-of-type {\n",
       "        vertical-align: middle;\n",
       "    }\n",
       "\n",
       "    .dataframe tbody tr th {\n",
       "        vertical-align: top;\n",
       "    }\n",
       "\n",
       "    .dataframe thead th {\n",
       "        text-align: right;\n",
       "    }\n",
       "</style>\n",
       "<table border=\"1\" class=\"dataframe\">\n",
       "  <thead>\n",
       "    <tr style=\"text-align: right;\">\n",
       "      <th></th>\n",
       "      <th>Count</th>\n",
       "    </tr>\n",
       "  </thead>\n",
       "  <tbody>\n",
       "    <tr>\n",
       "      <th>재범률</th>\n",
       "      <td>46.425</td>\n",
       "    </tr>\n",
       "  </tbody>\n",
       "</table>\n",
       "</div>"
      ],
      "text/plain": [
       "      Count\n",
       "재범률  46.425"
      ]
     },
     "execution_count": 16,
     "metadata": {},
     "output_type": "execute_result"
    }
   ],
   "source": [
    "import pandas as pd\n",
    "\n",
    "data = {\n",
    "    \"Offenses\": [\"Murder and nonnegligent manslaughter\", \"Rape\", \"Robbery\", \"Aggravated assault\"],\n",
    "    \"총 건수\": [785, 1339, 68478, 45682],\n",
    "    \"초범\": [432, 744, 33100, 25307],\n",
    "    \"재범\": [353, 595, 35378, 20375]\n",
    "}\n",
    "\n",
    "df = pd.DataFrame(data)\n",
    "df.to_csv(\"일본 재범률.csv\", index=False)\n",
    "\n",
    "crime_data_df = pd.read_csv(\"일본_재범률.csv\")\n",
    "\n",
    "mean_rate = crime_data_df[\"재범률\"].mean()\n",
    "\n",
    "mean_rate_df = pd.DataFrame({\"Count\": [mean_rate]}, index=[\"재범률\"])\n",
    "\n",
    "mean_rate_df"
   ]
  }
 ],
 "metadata": {
  "kernelspec": {
   "display_name": "Python 3 (ipykernel)",
   "language": "python",
   "name": "python3"
  },
  "language_info": {
   "codemirror_mode": {
    "name": "ipython",
    "version": 3
   },
   "file_extension": ".py",
   "mimetype": "text/x-python",
   "name": "python",
   "nbconvert_exporter": "python",
   "pygments_lexer": "ipython3",
   "version": "3.11.7"
  }
 },
 "nbformat": 4,
 "nbformat_minor": 5
}
