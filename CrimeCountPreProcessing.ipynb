{
 "cells": [
  {
   "cell_type": "code",
   "execution_count": 131,
   "id": "50c9bd24-7409-4bb3-b1de-7d749e611201",
   "metadata": {},
   "outputs": [
    {
     "name": "stdout",
     "output_type": "stream",
     "text": [
      "<class 'pandas.core.frame.DataFrame'>\n",
      "RangeIndex: 31 entries, 0 to 30\n",
      "Data columns (total 6 columns):\n",
      " #   Column           Non-Null Count  Dtype \n",
      "---  ------           --------------  ----- \n",
      " 0   Offenses         31 non-null     object\n",
      " 1   All races        28 non-null     object\n",
      " 2   White            28 non-null     object\n",
      " 3   Black            28 non-null     object\n",
      " 4   American Indian  28 non-null     object\n",
      " 5   Asian            28 non-null     object\n",
      "dtypes: object(6)\n",
      "memory usage: 1.6+ KB\n"
     ]
    }
   ],
   "source": [
    "import pandas as pd\n",
    "\n",
    "crimeCountData = pd.read_csv(f\"./crimeIndex/US_Arrests_by_offense_age_race.csv\", encoding = \"cp949\")\n",
    "\n",
    "crimeCountData.info()"
   ]
  },
  {
   "cell_type": "code",
   "execution_count": 132,
   "id": "46c8fcba-4f50-4f1e-ab87-d62416dd7b89",
   "metadata": {},
   "outputs": [
    {
     "data": {
      "text/html": [
       "<div>\n",
       "<style scoped>\n",
       "    .dataframe tbody tr th:only-of-type {\n",
       "        vertical-align: middle;\n",
       "    }\n",
       "\n",
       "    .dataframe tbody tr th {\n",
       "        vertical-align: top;\n",
       "    }\n",
       "\n",
       "    .dataframe thead th {\n",
       "        text-align: right;\n",
       "    }\n",
       "</style>\n",
       "<table border=\"1\" class=\"dataframe\">\n",
       "  <thead>\n",
       "    <tr style=\"text-align: right;\">\n",
       "      <th></th>\n",
       "      <th>Offenses</th>\n",
       "      <th>All races</th>\n",
       "    </tr>\n",
       "  </thead>\n",
       "  <tbody>\n",
       "    <tr>\n",
       "      <th>0</th>\n",
       "      <td>All offenses</td>\n",
       "      <td>7,632,470</td>\n",
       "    </tr>\n",
       "    <tr>\n",
       "      <th>1</th>\n",
       "      <td>Murder and nonnegligent manslaughter</td>\n",
       "      <td>12,440</td>\n",
       "    </tr>\n",
       "    <tr>\n",
       "      <th>2</th>\n",
       "      <td>Rape</td>\n",
       "      <td>NaN</td>\n",
       "    </tr>\n",
       "    <tr>\n",
       "      <th>3</th>\n",
       "      <td>Robbery</td>\n",
       "      <td>67,900</td>\n",
       "    </tr>\n",
       "    <tr>\n",
       "      <th>4</th>\n",
       "      <td>Aggravated assault</td>\n",
       "      <td>381,190</td>\n",
       "    </tr>\n",
       "  </tbody>\n",
       "</table>\n",
       "</div>"
      ],
      "text/plain": [
       "                               Offenses  All races\n",
       "0                          All offenses  7,632,470\n",
       "1  Murder and nonnegligent manslaughter     12,440\n",
       "2                                  Rape        NaN\n",
       "3                               Robbery     67,900\n",
       "4                    Aggravated assault    381,190"
      ]
     },
     "execution_count": 132,
     "metadata": {},
     "output_type": "execute_result"
    }
   ],
   "source": [
    "selected_columns = [\"Offenses\",\"All races\"]\n",
    "\n",
    "revisedCrimeCount = crimeCountData[selected_columns]\n",
    "\n",
    "revisedCrimeCount.head()"
   ]
  },
  {
   "cell_type": "code",
   "execution_count": 133,
   "id": "9ae51db4-8dad-4efd-b810-9fbd7d706ec2",
   "metadata": {},
   "outputs": [
    {
     "data": {
      "text/html": [
       "<div>\n",
       "<style scoped>\n",
       "    .dataframe tbody tr th:only-of-type {\n",
       "        vertical-align: middle;\n",
       "    }\n",
       "\n",
       "    .dataframe tbody tr th {\n",
       "        vertical-align: top;\n",
       "    }\n",
       "\n",
       "    .dataframe thead th {\n",
       "        text-align: right;\n",
       "    }\n",
       "</style>\n",
       "<table border=\"1\" class=\"dataframe\">\n",
       "  <thead>\n",
       "    <tr style=\"text-align: right;\">\n",
       "      <th></th>\n",
       "      <th>All races</th>\n",
       "    </tr>\n",
       "    <tr>\n",
       "      <th>Offenses</th>\n",
       "      <th></th>\n",
       "    </tr>\n",
       "  </thead>\n",
       "  <tbody>\n",
       "    <tr>\n",
       "      <th>All offenses</th>\n",
       "      <td>7,632,470</td>\n",
       "    </tr>\n",
       "    <tr>\n",
       "      <th>Murder and nonnegligent manslaughter</th>\n",
       "      <td>12,440</td>\n",
       "    </tr>\n",
       "    <tr>\n",
       "      <th>Rape</th>\n",
       "      <td>NaN</td>\n",
       "    </tr>\n",
       "    <tr>\n",
       "      <th>Robbery</th>\n",
       "      <td>67,900</td>\n",
       "    </tr>\n",
       "    <tr>\n",
       "      <th>Aggravated assault</th>\n",
       "      <td>381,190</td>\n",
       "    </tr>\n",
       "  </tbody>\n",
       "</table>\n",
       "</div>"
      ],
      "text/plain": [
       "                                      All races\n",
       "Offenses                                       \n",
       "All offenses                          7,632,470\n",
       "Murder and nonnegligent manslaughter     12,440\n",
       "Rape                                        NaN\n",
       "Robbery                                  67,900\n",
       "Aggravated assault                      381,190"
      ]
     },
     "execution_count": 133,
     "metadata": {},
     "output_type": "execute_result"
    }
   ],
   "source": [
    "revisedCrimeCount_index = revisedCrimeCount.set_index(\"Offenses\")\n",
    "\n",
    "revisedCrimeCount_index.head()"
   ]
  },
  {
   "cell_type": "code",
   "execution_count": 134,
   "id": "aa87df2d-b60d-465b-ac71-a3e11fef90fa",
   "metadata": {},
   "outputs": [
    {
     "data": {
      "text/html": [
       "<div>\n",
       "<style scoped>\n",
       "    .dataframe tbody tr th:only-of-type {\n",
       "        vertical-align: middle;\n",
       "    }\n",
       "\n",
       "    .dataframe tbody tr th {\n",
       "        vertical-align: top;\n",
       "    }\n",
       "\n",
       "    .dataframe thead th {\n",
       "        text-align: right;\n",
       "    }\n",
       "</style>\n",
       "<table border=\"1\" class=\"dataframe\">\n",
       "  <thead>\n",
       "    <tr style=\"text-align: right;\">\n",
       "      <th></th>\n",
       "      <th>All races</th>\n",
       "    </tr>\n",
       "    <tr>\n",
       "      <th>Offenses</th>\n",
       "      <th></th>\n",
       "    </tr>\n",
       "  </thead>\n",
       "  <tbody>\n",
       "    <tr>\n",
       "      <th>All offenses</th>\n",
       "      <td>7,632,470</td>\n",
       "    </tr>\n",
       "    <tr>\n",
       "      <th>Murder and nonnegligent manslaughter</th>\n",
       "      <td>12,440</td>\n",
       "    </tr>\n",
       "    <tr>\n",
       "      <th>Rape</th>\n",
       "      <td>0</td>\n",
       "    </tr>\n",
       "    <tr>\n",
       "      <th>Robbery</th>\n",
       "      <td>67,900</td>\n",
       "    </tr>\n",
       "    <tr>\n",
       "      <th>Aggravated assault</th>\n",
       "      <td>381,190</td>\n",
       "    </tr>\n",
       "  </tbody>\n",
       "</table>\n",
       "</div>"
      ],
      "text/plain": [
       "                                      All races\n",
       "Offenses                                       \n",
       "All offenses                          7,632,470\n",
       "Murder and nonnegligent manslaughter     12,440\n",
       "Rape                                          0\n",
       "Robbery                                  67,900\n",
       "Aggravated assault                      381,190"
      ]
     },
     "execution_count": 134,
     "metadata": {},
     "output_type": "execute_result"
    }
   ],
   "source": [
    "noNull_Crime_Index = revisedCrimeCount_index.fillna(\"0\")\n",
    "noNull_Crime_Index.head()"
   ]
  },
  {
   "cell_type": "code",
   "execution_count": 135,
   "id": "2aa207fe-a902-4167-8027-7bf027e210b2",
   "metadata": {},
   "outputs": [
    {
     "data": {
      "text/plain": [
       "'object'"
      ]
     },
     "execution_count": 135,
     "metadata": {},
     "output_type": "execute_result"
    }
   ],
   "source": [
    "str(noNull_Crime_Index[\"All races\"].dtype)"
   ]
  },
  {
   "cell_type": "code",
   "execution_count": 136,
   "id": "0c5f85fe-1f4d-4ba1-bb90-073cde94f237",
   "metadata": {},
   "outputs": [
    {
     "data": {
      "text/html": [
       "<div>\n",
       "<style scoped>\n",
       "    .dataframe tbody tr th:only-of-type {\n",
       "        vertical-align: middle;\n",
       "    }\n",
       "\n",
       "    .dataframe tbody tr th {\n",
       "        vertical-align: top;\n",
       "    }\n",
       "\n",
       "    .dataframe thead th {\n",
       "        text-align: right;\n",
       "    }\n",
       "</style>\n",
       "<table border=\"1\" class=\"dataframe\">\n",
       "  <thead>\n",
       "    <tr style=\"text-align: right;\">\n",
       "      <th></th>\n",
       "      <th>All races</th>\n",
       "      <th>Count</th>\n",
       "    </tr>\n",
       "    <tr>\n",
       "      <th>Offenses</th>\n",
       "      <th></th>\n",
       "      <th></th>\n",
       "    </tr>\n",
       "  </thead>\n",
       "  <tbody>\n",
       "    <tr>\n",
       "      <th>All offenses</th>\n",
       "      <td>7632470</td>\n",
       "      <td>7632470</td>\n",
       "    </tr>\n",
       "    <tr>\n",
       "      <th>Murder and nonnegligent manslaughter</th>\n",
       "      <td>12440</td>\n",
       "      <td>12440</td>\n",
       "    </tr>\n",
       "    <tr>\n",
       "      <th>Rape</th>\n",
       "      <td>0</td>\n",
       "      <td>0</td>\n",
       "    </tr>\n",
       "    <tr>\n",
       "      <th>Robbery</th>\n",
       "      <td>67900</td>\n",
       "      <td>67900</td>\n",
       "    </tr>\n",
       "    <tr>\n",
       "      <th>Aggravated assault</th>\n",
       "      <td>381190</td>\n",
       "      <td>381190</td>\n",
       "    </tr>\n",
       "  </tbody>\n",
       "</table>\n",
       "</div>"
      ],
      "text/plain": [
       "                                     All races    Count\n",
       "Offenses                                               \n",
       "All offenses                           7632470  7632470\n",
       "Murder and nonnegligent manslaughter     12440    12440\n",
       "Rape                                         0        0\n",
       "Robbery                                  67900    67900\n",
       "Aggravated assault                      381190   381190"
      ]
     },
     "execution_count": 136,
     "metadata": {},
     "output_type": "execute_result"
    }
   ],
   "source": [
    "noNull_Crime_Index[\"All races\"] = [x.replace(',','') for x in noNull_Crime_Index[\"All races\"]]\n",
    "noNull_Crime_Index[\"Count\"] = pd.to_numeric(noNull_Crime_Index[\"All races\"])\n",
    "noNull_Crime_Index.head()"
   ]
  },
  {
   "cell_type": "code",
   "execution_count": 137,
   "id": "80452d59-559b-4160-a855-dea3b97cac23",
   "metadata": {},
   "outputs": [
    {
     "data": {
      "text/plain": [
       "Offenses\n",
       "All offenses                            7632470\n",
       "Murder and nonnegligent manslaughter      12440\n",
       "Rape                                          0\n",
       "Robbery                                   67900\n",
       "Aggravated assault                       381190\n",
       "Name: Count, dtype: int64"
      ]
     },
     "execution_count": 137,
     "metadata": {},
     "output_type": "execute_result"
    }
   ],
   "source": [
    "refined_index_crime = noNull_Crime_Index[\"Count\"]\n",
    "refined_index_crime.head()"
   ]
  },
  {
   "cell_type": "code",
   "execution_count": 138,
   "id": "ed532433-83dc-46ba-9291-0451878489b2",
   "metadata": {},
   "outputs": [
    {
     "data": {
      "text/plain": [
       "Index(['All offenses', 'Murder and nonnegligent manslaughter', 'Rape',\n",
       "       'Robbery', 'Aggravated assault', 'Burglary', 'Larceny-theft',\n",
       "       'Motor vehicle theft', 'Arson', 'Simple assault',\n",
       "       'Forgery and counterfeiting', 'Fraud', 'Embezzlement',\n",
       "       'Stolen property (buying, receiving, possessing)', 'Vandalism',\n",
       "       'Weapons (carrying, possessing, etc.)',\n",
       "       'Prostitution and commercialized vice',\n",
       "       'Sex offenses (except rape & prostitution)', 'Drug abuse violations',\n",
       "       'Gambling', 'Offenses against the family and children',\n",
       "       'Driving under the influence', 'Liquor laws', 'Drunkenness',\n",
       "       'Disorderly conduct', 'Vagrancy', 'All other offenses (except traffic)',\n",
       "       'Curfew and loitering', 'Violent Crime Index', 'Property Crime Index',\n",
       "       'Violent crimes*'],\n",
       "      dtype='object', name='Offenses')"
      ]
     },
     "execution_count": 138,
     "metadata": {},
     "output_type": "execute_result"
    }
   ],
   "source": [
    "noNull_Crime_Index.index"
   ]
  },
  {
   "cell_type": "code",
   "execution_count": 139,
   "id": "5d0fafab-a3e1-4e12-9418-2e5af637bab4",
   "metadata": {},
   "outputs": [
    {
     "data": {
      "text/plain": [
       "Offenses\n",
       "Robbery                 67900\n",
       "Burglary               149350\n",
       "Larceny-theft          629020\n",
       "Motor vehicle theft     83220\n",
       "Name: Count, dtype: int64"
      ]
     },
     "execution_count": 139,
     "metadata": {},
     "output_type": "execute_result"
    }
   ],
   "source": [
    "theft_crime = refined_index_crime.loc[[\"Robbery\",\"Burglary\",\"Larceny-theft\",\"Motor vehicle theft\"]]\n",
    "theft_crime.head()"
   ]
  },
  {
   "cell_type": "code",
   "execution_count": 140,
   "id": "da054b61-4b33-47b0-beb9-5a162ec12695",
   "metadata": {},
   "outputs": [
    {
     "data": {
      "text/plain": [
       "Offenses\n",
       "Murder and nonnegligent manslaughter    12440\n",
       "Name: Count, dtype: int64"
      ]
     },
     "execution_count": 140,
     "metadata": {},
     "output_type": "execute_result"
    }
   ],
   "source": [
    "murder_crime = refined_index_crime.loc[[\"Murder and nonnegligent manslaughter\"]]\n",
    "murder_crime.head()"
   ]
  },
  {
   "cell_type": "code",
   "execution_count": 141,
   "id": "07f65991-a247-4c19-a344-4c7c12de2668",
   "metadata": {},
   "outputs": [
    {
     "data": {
      "text/plain": [
       "Offenses\n",
       "Aggravated assault    381190\n",
       "Simple assault        906980\n",
       "Name: Count, dtype: int64"
      ]
     },
     "execution_count": 141,
     "metadata": {},
     "output_type": "execute_result"
    }
   ],
   "source": [
    "assault_crime = refined_index_crime.loc[[\"Aggravated assault\",\"Simple assault\"]]\n",
    "assault_crime.head()"
   ]
  },
  {
   "cell_type": "code",
   "execution_count": 142,
   "id": "d5506025-37e7-42c0-af28-ab696d88820d",
   "metadata": {},
   "outputs": [
    {
     "data": {
      "text/plain": [
       "{'Count': [12440, 0, 929490, 1288170]}"
      ]
     },
     "execution_count": 142,
     "metadata": {},
     "output_type": "execute_result"
    }
   ],
   "source": [
    "final_data = {\"Count\" :[murder_crime.sum(),0,theft_crime.sum(),assault_crime.sum()]}\n",
    "             \n",
    "final_data\n"
   ]
  },
  {
   "cell_type": "code",
   "execution_count": 143,
   "id": "04b14411-6214-4d47-9bd4-e9f5101fda4e",
   "metadata": {},
   "outputs": [
    {
     "data": {
      "text/html": [
       "<div>\n",
       "<style scoped>\n",
       "    .dataframe tbody tr th:only-of-type {\n",
       "        vertical-align: middle;\n",
       "    }\n",
       "\n",
       "    .dataframe tbody tr th {\n",
       "        vertical-align: top;\n",
       "    }\n",
       "\n",
       "    .dataframe thead th {\n",
       "        text-align: right;\n",
       "    }\n",
       "</style>\n",
       "<table border=\"1\" class=\"dataframe\">\n",
       "  <thead>\n",
       "    <tr style=\"text-align: right;\">\n",
       "      <th></th>\n",
       "      <th>Count</th>\n",
       "    </tr>\n",
       "  </thead>\n",
       "  <tbody>\n",
       "    <tr>\n",
       "      <th>살인</th>\n",
       "      <td>12440</td>\n",
       "    </tr>\n",
       "    <tr>\n",
       "      <th>강간</th>\n",
       "      <td>0</td>\n",
       "    </tr>\n",
       "    <tr>\n",
       "      <th>절도</th>\n",
       "      <td>929490</td>\n",
       "    </tr>\n",
       "    <tr>\n",
       "      <th>폭행</th>\n",
       "      <td>1288170</td>\n",
       "    </tr>\n",
       "  </tbody>\n",
       "</table>\n",
       "</div>"
      ],
      "text/plain": [
       "      Count\n",
       "살인    12440\n",
       "강간        0\n",
       "절도   929490\n",
       "폭행  1288170"
      ]
     },
     "execution_count": 143,
     "metadata": {},
     "output_type": "execute_result"
    }
   ],
   "source": [
    "final_df = pd.DataFrame(final_data,index=[\"살인\",\"강간\",\"절도\",\"폭행\"])\n",
    "final_df"
   ]
  },
  {
   "cell_type": "code",
   "execution_count": 144,
   "id": "014ef7a8-06ad-4cb2-97c5-bdc1cb194483",
   "metadata": {},
   "outputs": [
    {
     "name": "stdout",
     "output_type": "stream",
     "text": [
      "<class 'pandas.core.frame.DataFrame'>\n",
      "RangeIndex: 6 entries, 0 to 5\n",
      "Data columns (total 2 columns):\n",
      " #   Column                 Non-Null Count  Dtype\n",
      "---  ------                 --------------  -----\n",
      " 0   Year                   6 non-null      int64\n",
      " 1   NumberOfPoliceOfficer  6 non-null      int64\n",
      "dtypes: int64(2)\n",
      "memory usage: 228.0 bytes\n"
     ]
    }
   ],
   "source": [
    "PoliceCountData = pd.read_csv(f\"./crimeIndex/NumberOfPoliceOfficer_US.csv\", encoding = \"cp949\")\n",
    "\n",
    "PoliceCountData.info()"
   ]
  },
  {
   "cell_type": "code",
   "execution_count": 145,
   "id": "4555fcd4-a274-4278-aca6-0bb9ebfcf53d",
   "metadata": {},
   "outputs": [
    {
     "name": "stdout",
     "output_type": "stream",
     "text": [
      "<class 'pandas.core.frame.DataFrame'>\n",
      "RangeIndex: 4 entries, 0 to 3\n",
      "Data columns (total 13 columns):\n",
      " #   Column              Non-Null Count  Dtype  \n",
      "---  ------              --------------  -----  \n",
      " 0   Year                4 non-null      int64  \n",
      " 1   Population          4 non-null      object \n",
      " 2   Yearly %            4 non-null      object \n",
      " 3   Yearly              4 non-null      object \n",
      " 4   Migrants (net)      4 non-null      object \n",
      " 5   Median Age          4 non-null      float64\n",
      " 6   Fertility Rate      4 non-null      float64\n",
      " 7   Density (P/Km²)     4 non-null      int64  \n",
      " 8   Urban               4 non-null      object \n",
      " 9   Urban Population    4 non-null      object \n",
      " 10  Country's Share of  4 non-null      object \n",
      " 11  World Population    4 non-null      object \n",
      " 12  U.S.                4 non-null      int64  \n",
      "dtypes: float64(2), int64(3), object(8)\n",
      "memory usage: 548.0+ bytes\n"
     ]
    }
   ],
   "source": [
    "PopulationData = pd.read_csv(f\"./crimeIndex/US_Population.CSV\", encoding = \"cp949\")\n",
    "\n",
    "PopulationData.info()"
   ]
  },
  {
   "cell_type": "code",
   "execution_count": 146,
   "id": "c9e9537c-f58a-412f-8911-4935a6d0a54a",
   "metadata": {},
   "outputs": [
    {
     "data": {
      "text/html": [
       "<div>\n",
       "<style scoped>\n",
       "    .dataframe tbody tr th:only-of-type {\n",
       "        vertical-align: middle;\n",
       "    }\n",
       "\n",
       "    .dataframe tbody tr th {\n",
       "        vertical-align: top;\n",
       "    }\n",
       "\n",
       "    .dataframe thead th {\n",
       "        text-align: right;\n",
       "    }\n",
       "</style>\n",
       "<table border=\"1\" class=\"dataframe\">\n",
       "  <thead>\n",
       "    <tr style=\"text-align: right;\">\n",
       "      <th></th>\n",
       "      <th>Year</th>\n",
       "      <th>Population</th>\n",
       "    </tr>\n",
       "  </thead>\n",
       "  <tbody>\n",
       "    <tr>\n",
       "      <th>0</th>\n",
       "      <td>2024</td>\n",
       "      <td>341,814,420</td>\n",
       "    </tr>\n",
       "    <tr>\n",
       "      <th>1</th>\n",
       "      <td>2023</td>\n",
       "      <td>339,996,563</td>\n",
       "    </tr>\n",
       "    <tr>\n",
       "      <th>2</th>\n",
       "      <td>2022</td>\n",
       "      <td>338,289,857</td>\n",
       "    </tr>\n",
       "    <tr>\n",
       "      <th>3</th>\n",
       "      <td>2020</td>\n",
       "      <td>335,942,003</td>\n",
       "    </tr>\n",
       "  </tbody>\n",
       "</table>\n",
       "</div>"
      ],
      "text/plain": [
       "   Year   Population\n",
       "0  2024  341,814,420\n",
       "1  2023  339,996,563\n",
       "2  2022  338,289,857\n",
       "3  2020  335,942,003"
      ]
     },
     "execution_count": 146,
     "metadata": {},
     "output_type": "execute_result"
    }
   ],
   "source": [
    "selected_columns = [\"Year\",\"Population\"]\n",
    "\n",
    "revisedPopulationData = PopulationData[selected_columns]\n",
    "\n",
    "revisedPopulationData.head()"
   ]
  },
  {
   "cell_type": "code",
   "execution_count": 147,
   "id": "811495ed-2300-466f-b5fc-76a9317ac9f4",
   "metadata": {},
   "outputs": [
    {
     "data": {
      "text/html": [
       "<div>\n",
       "<style scoped>\n",
       "    .dataframe tbody tr th:only-of-type {\n",
       "        vertical-align: middle;\n",
       "    }\n",
       "\n",
       "    .dataframe tbody tr th {\n",
       "        vertical-align: top;\n",
       "    }\n",
       "\n",
       "    .dataframe thead th {\n",
       "        text-align: right;\n",
       "    }\n",
       "</style>\n",
       "<table border=\"1\" class=\"dataframe\">\n",
       "  <thead>\n",
       "    <tr style=\"text-align: right;\">\n",
       "      <th></th>\n",
       "      <th>Year</th>\n",
       "      <th>NumberOfPoliceOfficer</th>\n",
       "    </tr>\n",
       "  </thead>\n",
       "  <tbody>\n",
       "    <tr>\n",
       "      <th>0</th>\n",
       "      <td>2015</td>\n",
       "      <td>698502</td>\n",
       "    </tr>\n",
       "    <tr>\n",
       "      <th>1</th>\n",
       "      <td>2016</td>\n",
       "      <td>702108</td>\n",
       "    </tr>\n",
       "    <tr>\n",
       "      <th>2</th>\n",
       "      <td>2017</td>\n",
       "      <td>705220</td>\n",
       "    </tr>\n",
       "    <tr>\n",
       "      <th>3</th>\n",
       "      <td>2018</td>\n",
       "      <td>717914</td>\n",
       "    </tr>\n",
       "    <tr>\n",
       "      <th>4</th>\n",
       "      <td>2019</td>\n",
       "      <td>719255</td>\n",
       "    </tr>\n",
       "  </tbody>\n",
       "</table>\n",
       "</div>"
      ],
      "text/plain": [
       "   Year  NumberOfPoliceOfficer\n",
       "0  2015                 698502\n",
       "1  2016                 702108\n",
       "2  2017                 705220\n",
       "3  2018                 717914\n",
       "4  2019                 719255"
      ]
     },
     "execution_count": 147,
     "metadata": {},
     "output_type": "execute_result"
    }
   ],
   "source": [
    "PoliceCountData.head()"
   ]
  },
  {
   "cell_type": "code",
   "execution_count": 148,
   "id": "2beb97eb-0f21-4265-864b-e3d5495e5f08",
   "metadata": {},
   "outputs": [],
   "source": [
    "revisedPopulationData = revisedPopulationData.set_index(\"Year\")\n",
    "PoliceCountData = PoliceCountData.set_index(\"Year\")"
   ]
  },
  {
   "cell_type": "code",
   "execution_count": 149,
   "id": "f585cc41-cf29-490d-8255-9a3de9324311",
   "metadata": {},
   "outputs": [
    {
     "data": {
      "text/plain": [
       "'int64'"
      ]
     },
     "execution_count": 149,
     "metadata": {},
     "output_type": "execute_result"
    }
   ],
   "source": [
    "str(revisedPopulationData.index.dtype)"
   ]
  },
  {
   "cell_type": "code",
   "execution_count": 150,
   "id": "33660483-8d7a-4292-8426-46e5c41d9cc5",
   "metadata": {},
   "outputs": [
    {
     "data": {
      "text/plain": [
       "'int64'"
      ]
     },
     "execution_count": 150,
     "metadata": {},
     "output_type": "execute_result"
    }
   ],
   "source": [
    "str(PoliceCountData.index.dtype)"
   ]
  },
  {
   "cell_type": "code",
   "execution_count": 151,
   "id": "fef94bc2-a3f1-402b-aa7f-842b34d06cd2",
   "metadata": {},
   "outputs": [
    {
     "data": {
      "text/plain": [
       "'object'"
      ]
     },
     "execution_count": 151,
     "metadata": {},
     "output_type": "execute_result"
    }
   ],
   "source": [
    "str(revisedPopulationData[\"Population\"].dtype)"
   ]
  },
  {
   "cell_type": "code",
   "execution_count": 152,
   "id": "7156d91d-8463-47ee-89f4-321d5d34ace6",
   "metadata": {},
   "outputs": [
    {
     "data": {
      "text/plain": [
       "'int64'"
      ]
     },
     "execution_count": 152,
     "metadata": {},
     "output_type": "execute_result"
    }
   ],
   "source": [
    "str(PoliceCountData[\"NumberOfPoliceOfficer\"].dtype)"
   ]
  },
  {
   "cell_type": "code",
   "execution_count": 153,
   "id": "8b5f31f0-e46b-4acb-b07a-de4c108b328a",
   "metadata": {},
   "outputs": [
    {
     "data": {
      "text/html": [
       "<div>\n",
       "<style scoped>\n",
       "    .dataframe tbody tr th:only-of-type {\n",
       "        vertical-align: middle;\n",
       "    }\n",
       "\n",
       "    .dataframe tbody tr th {\n",
       "        vertical-align: top;\n",
       "    }\n",
       "\n",
       "    .dataframe thead th {\n",
       "        text-align: right;\n",
       "    }\n",
       "</style>\n",
       "<table border=\"1\" class=\"dataframe\">\n",
       "  <thead>\n",
       "    <tr style=\"text-align: right;\">\n",
       "      <th></th>\n",
       "      <th>Population</th>\n",
       "      <th>PopulationCount</th>\n",
       "    </tr>\n",
       "    <tr>\n",
       "      <th>Year</th>\n",
       "      <th></th>\n",
       "      <th></th>\n",
       "    </tr>\n",
       "  </thead>\n",
       "  <tbody>\n",
       "    <tr>\n",
       "      <th>2024</th>\n",
       "      <td>341814420</td>\n",
       "      <td>341814420</td>\n",
       "    </tr>\n",
       "    <tr>\n",
       "      <th>2023</th>\n",
       "      <td>339996563</td>\n",
       "      <td>339996563</td>\n",
       "    </tr>\n",
       "    <tr>\n",
       "      <th>2022</th>\n",
       "      <td>338289857</td>\n",
       "      <td>338289857</td>\n",
       "    </tr>\n",
       "    <tr>\n",
       "      <th>2020</th>\n",
       "      <td>335942003</td>\n",
       "      <td>335942003</td>\n",
       "    </tr>\n",
       "  </tbody>\n",
       "</table>\n",
       "</div>"
      ],
      "text/plain": [
       "     Population  PopulationCount\n",
       "Year                            \n",
       "2024  341814420        341814420\n",
       "2023  339996563        339996563\n",
       "2022  338289857        338289857\n",
       "2020  335942003        335942003"
      ]
     },
     "execution_count": 153,
     "metadata": {},
     "output_type": "execute_result"
    }
   ],
   "source": [
    "revisedPopulationData[\"Population\"] = [x.replace(',','') for x in revisedPopulationData[\"Population\"]]\n",
    "revisedPopulationData[\"PopulationCount\"] = pd.to_numeric(revisedPopulationData[\"Population\"])\n",
    "revisedPopulationData.head()"
   ]
  },
  {
   "cell_type": "code",
   "execution_count": 154,
   "id": "c27a3643-9c7f-4c1e-a5e9-82872379dd50",
   "metadata": {},
   "outputs": [
    {
     "data": {
      "text/html": [
       "<div>\n",
       "<style scoped>\n",
       "    .dataframe tbody tr th:only-of-type {\n",
       "        vertical-align: middle;\n",
       "    }\n",
       "\n",
       "    .dataframe tbody tr th {\n",
       "        vertical-align: top;\n",
       "    }\n",
       "\n",
       "    .dataframe thead th {\n",
       "        text-align: right;\n",
       "    }\n",
       "</style>\n",
       "<table border=\"1\" class=\"dataframe\">\n",
       "  <thead>\n",
       "    <tr style=\"text-align: right;\">\n",
       "      <th></th>\n",
       "      <th>PopulationCount</th>\n",
       "    </tr>\n",
       "    <tr>\n",
       "      <th>Year</th>\n",
       "      <th></th>\n",
       "    </tr>\n",
       "  </thead>\n",
       "  <tbody>\n",
       "    <tr>\n",
       "      <th>2024</th>\n",
       "      <td>341814420</td>\n",
       "    </tr>\n",
       "    <tr>\n",
       "      <th>2023</th>\n",
       "      <td>339996563</td>\n",
       "    </tr>\n",
       "    <tr>\n",
       "      <th>2022</th>\n",
       "      <td>338289857</td>\n",
       "    </tr>\n",
       "    <tr>\n",
       "      <th>2020</th>\n",
       "      <td>335942003</td>\n",
       "    </tr>\n",
       "  </tbody>\n",
       "</table>\n",
       "</div>"
      ],
      "text/plain": [
       "      PopulationCount\n",
       "Year                 \n",
       "2024        341814420\n",
       "2023        339996563\n",
       "2022        338289857\n",
       "2020        335942003"
      ]
     },
     "execution_count": 154,
     "metadata": {},
     "output_type": "execute_result"
    }
   ],
   "source": [
    "numericPopulationData = revisedPopulationData.drop(columns = [\"Population\"])\n",
    "numericPopulationData.head()"
   ]
  },
  {
   "cell_type": "code",
   "execution_count": 155,
   "id": "76e0e9f0-a5cb-4ba7-b2b2-9c37195c6df8",
   "metadata": {},
   "outputs": [
    {
     "data": {
      "text/html": [
       "<div>\n",
       "<style scoped>\n",
       "    .dataframe tbody tr th:only-of-type {\n",
       "        vertical-align: middle;\n",
       "    }\n",
       "\n",
       "    .dataframe tbody tr th {\n",
       "        vertical-align: top;\n",
       "    }\n",
       "\n",
       "    .dataframe thead th {\n",
       "        text-align: right;\n",
       "    }\n",
       "</style>\n",
       "<table border=\"1\" class=\"dataframe\">\n",
       "  <thead>\n",
       "    <tr style=\"text-align: right;\">\n",
       "      <th></th>\n",
       "      <th>NumberOfPoliceOfficer</th>\n",
       "      <th>PopulationCount</th>\n",
       "    </tr>\n",
       "    <tr>\n",
       "      <th>Year</th>\n",
       "      <th></th>\n",
       "      <th></th>\n",
       "    </tr>\n",
       "  </thead>\n",
       "  <tbody>\n",
       "    <tr>\n",
       "      <th>2015</th>\n",
       "      <td>698502.0</td>\n",
       "      <td>NaN</td>\n",
       "    </tr>\n",
       "    <tr>\n",
       "      <th>2016</th>\n",
       "      <td>702108.0</td>\n",
       "      <td>NaN</td>\n",
       "    </tr>\n",
       "    <tr>\n",
       "      <th>2017</th>\n",
       "      <td>705220.0</td>\n",
       "      <td>NaN</td>\n",
       "    </tr>\n",
       "    <tr>\n",
       "      <th>2018</th>\n",
       "      <td>717914.0</td>\n",
       "      <td>NaN</td>\n",
       "    </tr>\n",
       "    <tr>\n",
       "      <th>2019</th>\n",
       "      <td>719255.0</td>\n",
       "      <td>NaN</td>\n",
       "    </tr>\n",
       "  </tbody>\n",
       "</table>\n",
       "</div>"
      ],
      "text/plain": [
       "      NumberOfPoliceOfficer  PopulationCount\n",
       "Year                                        \n",
       "2015               698502.0              NaN\n",
       "2016               702108.0              NaN\n",
       "2017               705220.0              NaN\n",
       "2018               717914.0              NaN\n",
       "2019               719255.0              NaN"
      ]
     },
     "execution_count": 155,
     "metadata": {},
     "output_type": "execute_result"
    }
   ],
   "source": [
    "combinedPolicePopulation = pd.merge(PoliceCountData,numericPopulationData,left_index=True,right_index=True,how='outer')\n",
    "combinedPolicePopulation.head()"
   ]
  },
  {
   "cell_type": "code",
   "execution_count": 156,
   "id": "c0c6e7d2-07a9-4e06-96e1-2db32b8bbc69",
   "metadata": {},
   "outputs": [
    {
     "name": "stdout",
     "output_type": "stream",
     "text": [
      "      NumberOfPoliceOfficer  PopulationCount\n",
      "Year                                        \n",
      "2015               698502.0              NaN\n",
      "2016               702108.0              NaN\n",
      "2017               705220.0              NaN\n",
      "2018               717914.0              NaN\n",
      "2019               719255.0              NaN\n",
      "2020               718217.0      335942003.0\n",
      "2022                    NaN      338289857.0\n",
      "2023                    NaN      339996563.0\n",
      "2024                    NaN      341814420.0\n"
     ]
    }
   ],
   "source": [
    "print(combinedPolicePopulation)"
   ]
  },
  {
   "cell_type": "code",
   "execution_count": 157,
   "id": "9f3b4105-7fcc-47f3-8c4e-85a9b311b3af",
   "metadata": {},
   "outputs": [
    {
     "data": {
      "text/plain": [
       "NumberOfPoliceOfficer       718217.0\n",
       "PopulationCount          335942003.0\n",
       "Name: 2020, dtype: float64"
      ]
     },
     "execution_count": 157,
     "metadata": {},
     "output_type": "execute_result"
    }
   ],
   "source": [
    "finalPolicePopulation = combinedPolicePopulation.loc[2020]\n",
    "finalPolicePopulation.head()"
   ]
  },
  {
   "cell_type": "code",
   "execution_count": 158,
   "id": "c4daa027-38cf-4678-9f5c-cb143562506a",
   "metadata": {},
   "outputs": [
    {
     "data": {
      "text/html": [
       "<div>\n",
       "<style scoped>\n",
       "    .dataframe tbody tr th:only-of-type {\n",
       "        vertical-align: middle;\n",
       "    }\n",
       "\n",
       "    .dataframe tbody tr th {\n",
       "        vertical-align: top;\n",
       "    }\n",
       "\n",
       "    .dataframe thead th {\n",
       "        text-align: right;\n",
       "    }\n",
       "</style>\n",
       "<table border=\"1\" class=\"dataframe\">\n",
       "  <thead>\n",
       "    <tr style=\"text-align: right;\">\n",
       "      <th></th>\n",
       "      <th>Count</th>\n",
       "    </tr>\n",
       "  </thead>\n",
       "  <tbody>\n",
       "    <tr>\n",
       "      <th>총경찰관수</th>\n",
       "      <td>718217.0</td>\n",
       "    </tr>\n",
       "    <tr>\n",
       "      <th>총인구수</th>\n",
       "      <td>335942003.0</td>\n",
       "    </tr>\n",
       "  </tbody>\n",
       "</table>\n",
       "</div>"
      ],
      "text/plain": [
       "             Count\n",
       "총경찰관수     718217.0\n",
       "총인구수   335942003.0"
      ]
     },
     "execution_count": 158,
     "metadata": {},
     "output_type": "execute_result"
    }
   ],
   "source": [
    "finalPolicePopulationData = pd.DataFrame({\n",
    "    \"Count\" : [finalPolicePopulation[\"NumberOfPoliceOfficer\"],finalPolicePopulation[\"PopulationCount\"]]\n",
    "}, index = [\"총경찰관수\",\"총인구수\"]\n",
    ")\n",
    "\n",
    "finalPolicePopulationData.head()"
   ]
  },
  {
   "cell_type": "code",
   "execution_count": 159,
   "id": "c6ce3c75-234b-4840-bbca-65ca0e9b6a84",
   "metadata": {},
   "outputs": [
    {
     "name": "stdout",
     "output_type": "stream",
     "text": [
      "<class 'pandas.core.frame.DataFrame'>\n",
      "RangeIndex: 50 entries, 0 to 49\n",
      "Data columns (total 9 columns):\n",
      " #   Column                         Non-Null Count  Dtype  \n",
      "---  ------                         --------------  -----  \n",
      " 0   City                           50 non-null     object \n",
      " 1   State                          50 non-null     object \n",
      " 2   Population                     50 non-null     object \n",
      " 3   Area (mi²)                     50 non-null     int64  \n",
      " 4   # of CCTV Cameras              50 non-null     object \n",
      " 5   # of cameras per 1,000 people  50 non-null     float64\n",
      " 6   # of cameras per square mile   50 non-null     float64\n",
      " 7   Crime Index                    50 non-null     float64\n",
      " 8   Limitations                    18 non-null     object \n",
      "dtypes: float64(3), int64(1), object(5)\n",
      "memory usage: 3.6+ KB\n"
     ]
    }
   ],
   "source": [
    "cctvData = pd.read_csv(f\"./crimeIndex/US_CCTV.csv\", encoding = \"cp949\")\n",
    "\n",
    "cctvData.info()"
   ]
  },
  {
   "cell_type": "code",
   "execution_count": 160,
   "id": "99e983f6-05be-48b9-bd62-005f082d45fa",
   "metadata": {},
   "outputs": [
    {
     "data": {
      "text/html": [
       "<div>\n",
       "<style scoped>\n",
       "    .dataframe tbody tr th:only-of-type {\n",
       "        vertical-align: middle;\n",
       "    }\n",
       "\n",
       "    .dataframe tbody tr th {\n",
       "        vertical-align: top;\n",
       "    }\n",
       "\n",
       "    .dataframe thead th {\n",
       "        text-align: right;\n",
       "    }\n",
       "</style>\n",
       "<table border=\"1\" class=\"dataframe\">\n",
       "  <thead>\n",
       "    <tr style=\"text-align: right;\">\n",
       "      <th></th>\n",
       "      <th>City</th>\n",
       "      <th># of CCTV Cameras</th>\n",
       "    </tr>\n",
       "  </thead>\n",
       "  <tbody>\n",
       "    <tr>\n",
       "      <th>0</th>\n",
       "      <td>Atlanta</td>\n",
       "      <td>60,864</td>\n",
       "    </tr>\n",
       "    <tr>\n",
       "      <th>1</th>\n",
       "      <td>Washington</td>\n",
       "      <td>35,082</td>\n",
       "    </tr>\n",
       "    <tr>\n",
       "      <th>2</th>\n",
       "      <td>Philadelphia</td>\n",
       "      <td>46,957</td>\n",
       "    </tr>\n",
       "    <tr>\n",
       "      <th>3</th>\n",
       "      <td>San Francisco</td>\n",
       "      <td>18,200</td>\n",
       "    </tr>\n",
       "    <tr>\n",
       "      <th>4</th>\n",
       "      <td>Denver</td>\n",
       "      <td>14,043</td>\n",
       "    </tr>\n",
       "  </tbody>\n",
       "</table>\n",
       "</div>"
      ],
      "text/plain": [
       "            City # of CCTV Cameras\n",
       "0        Atlanta            60,864\n",
       "1     Washington            35,082\n",
       "2   Philadelphia            46,957\n",
       "3  San Francisco            18,200\n",
       "4         Denver            14,043"
      ]
     },
     "execution_count": 160,
     "metadata": {},
     "output_type": "execute_result"
    }
   ],
   "source": [
    "selected_columns = [\"City\",\"# of CCTV Cameras\"]\n",
    "\n",
    "revisedcctvData = cctvData[selected_columns]\n",
    "\n",
    "revisedcctvData.head()"
   ]
  },
  {
   "cell_type": "code",
   "execution_count": 161,
   "id": "36264c56-d6bf-469f-8038-aea646abf9eb",
   "metadata": {},
   "outputs": [
    {
     "data": {
      "text/plain": [
       "'object'"
      ]
     },
     "execution_count": 161,
     "metadata": {},
     "output_type": "execute_result"
    }
   ],
   "source": [
    "str(revisedcctvData[\"# of CCTV Cameras\"].dtype)"
   ]
  },
  {
   "cell_type": "code",
   "execution_count": 162,
   "id": "ea7d2de4-dd47-47f2-8bec-fd757230d7bb",
   "metadata": {},
   "outputs": [
    {
     "name": "stderr",
     "output_type": "stream",
     "text": [
      "C:\\Users\\marin\\AppData\\Local\\Temp\\ipykernel_117164\\435148943.py:1: SettingWithCopyWarning: \n",
      "A value is trying to be set on a copy of a slice from a DataFrame.\n",
      "Try using .loc[row_indexer,col_indexer] = value instead\n",
      "\n",
      "See the caveats in the documentation: https://pandas.pydata.org/pandas-docs/stable/user_guide/indexing.html#returning-a-view-versus-a-copy\n",
      "  revisedcctvData[\"# of CCTV Cameras\"] = [x.replace(',','') for x in revisedcctvData[\"# of CCTV Cameras\"]]\n",
      "C:\\Users\\marin\\AppData\\Local\\Temp\\ipykernel_117164\\435148943.py:2: SettingWithCopyWarning: \n",
      "A value is trying to be set on a copy of a slice from a DataFrame.\n",
      "Try using .loc[row_indexer,col_indexer] = value instead\n",
      "\n",
      "See the caveats in the documentation: https://pandas.pydata.org/pandas-docs/stable/user_guide/indexing.html#returning-a-view-versus-a-copy\n",
      "  revisedcctvData[\"Count\"] = pd.to_numeric(revisedcctvData[\"# of CCTV Cameras\"])\n"
     ]
    },
    {
     "data": {
      "text/html": [
       "<div>\n",
       "<style scoped>\n",
       "    .dataframe tbody tr th:only-of-type {\n",
       "        vertical-align: middle;\n",
       "    }\n",
       "\n",
       "    .dataframe tbody tr th {\n",
       "        vertical-align: top;\n",
       "    }\n",
       "\n",
       "    .dataframe thead th {\n",
       "        text-align: right;\n",
       "    }\n",
       "</style>\n",
       "<table border=\"1\" class=\"dataframe\">\n",
       "  <thead>\n",
       "    <tr style=\"text-align: right;\">\n",
       "      <th></th>\n",
       "      <th>City</th>\n",
       "      <th># of CCTV Cameras</th>\n",
       "      <th>Count</th>\n",
       "    </tr>\n",
       "  </thead>\n",
       "  <tbody>\n",
       "    <tr>\n",
       "      <th>0</th>\n",
       "      <td>Atlanta</td>\n",
       "      <td>60864</td>\n",
       "      <td>60864</td>\n",
       "    </tr>\n",
       "    <tr>\n",
       "      <th>1</th>\n",
       "      <td>Washington</td>\n",
       "      <td>35082</td>\n",
       "      <td>35082</td>\n",
       "    </tr>\n",
       "    <tr>\n",
       "      <th>2</th>\n",
       "      <td>Philadelphia</td>\n",
       "      <td>46957</td>\n",
       "      <td>46957</td>\n",
       "    </tr>\n",
       "    <tr>\n",
       "      <th>3</th>\n",
       "      <td>San Francisco</td>\n",
       "      <td>18200</td>\n",
       "      <td>18200</td>\n",
       "    </tr>\n",
       "    <tr>\n",
       "      <th>4</th>\n",
       "      <td>Denver</td>\n",
       "      <td>14043</td>\n",
       "      <td>14043</td>\n",
       "    </tr>\n",
       "  </tbody>\n",
       "</table>\n",
       "</div>"
      ],
      "text/plain": [
       "            City # of CCTV Cameras  Count\n",
       "0        Atlanta             60864  60864\n",
       "1     Washington             35082  35082\n",
       "2   Philadelphia             46957  46957\n",
       "3  San Francisco             18200  18200\n",
       "4         Denver             14043  14043"
      ]
     },
     "execution_count": 162,
     "metadata": {},
     "output_type": "execute_result"
    }
   ],
   "source": [
    "revisedcctvData[\"# of CCTV Cameras\"] = [x.replace(',','') for x in revisedcctvData[\"# of CCTV Cameras\"]]\n",
    "revisedcctvData[\"Count\"] = pd.to_numeric(revisedcctvData[\"# of CCTV Cameras\"])\n",
    "revisedcctvData.head()"
   ]
  },
  {
   "cell_type": "code",
   "execution_count": 163,
   "id": "6a747720-0823-4b80-91e1-41a14f1eaf0b",
   "metadata": {},
   "outputs": [
    {
     "data": {
      "text/html": [
       "<div>\n",
       "<style scoped>\n",
       "    .dataframe tbody tr th:only-of-type {\n",
       "        vertical-align: middle;\n",
       "    }\n",
       "\n",
       "    .dataframe tbody tr th {\n",
       "        vertical-align: top;\n",
       "    }\n",
       "\n",
       "    .dataframe thead th {\n",
       "        text-align: right;\n",
       "    }\n",
       "</style>\n",
       "<table border=\"1\" class=\"dataframe\">\n",
       "  <thead>\n",
       "    <tr style=\"text-align: right;\">\n",
       "      <th></th>\n",
       "      <th>Count</th>\n",
       "    </tr>\n",
       "  </thead>\n",
       "  <tbody>\n",
       "    <tr>\n",
       "      <th>총CCTV수</th>\n",
       "      <td>536273.0</td>\n",
       "    </tr>\n",
       "    <tr>\n",
       "      <th>총인구수</th>\n",
       "      <td>335942003.0</td>\n",
       "    </tr>\n",
       "  </tbody>\n",
       "</table>\n",
       "</div>"
      ],
      "text/plain": [
       "              Count\n",
       "총CCTV수     536273.0\n",
       "총인구수    335942003.0"
      ]
     },
     "execution_count": 163,
     "metadata": {},
     "output_type": "execute_result"
    }
   ],
   "source": [
    "finalcctvData = pd.DataFrame({\n",
    "    \"Count\" : [revisedcctvData[\"Count\"].sum(),finalPolicePopulation[\"PopulationCount\"]]\n",
    "}, index = [\"총CCTV수\",\"총인구수\"]\n",
    ")\n",
    "\n",
    "finalcctvData.head()"
   ]
  },
  {
   "cell_type": "code",
   "execution_count": 164,
   "id": "f87e3f00-09c8-48f8-9300-dbbdb24ce13a",
   "metadata": {},
   "outputs": [
    {
     "name": "stdout",
     "output_type": "stream",
     "text": [
      "<class 'pandas.core.frame.DataFrame'>\n",
      "RangeIndex: 42 entries, 0 to 41\n",
      "Data columns (total 5 columns):\n",
      " #   Column                Non-Null Count  Dtype \n",
      "---  ------                --------------  ----- \n",
      " 0   State                 42 non-null     object\n",
      " 1   Recidivism Rate       42 non-null     object\n",
      " 2   Prison Population     42 non-null     object\n",
      " 3   Parole Population     42 non-null     object\n",
      " 4   Probation Population  42 non-null     object\n",
      "dtypes: object(5)\n",
      "memory usage: 1.8+ KB\n"
     ]
    }
   ],
   "source": [
    "recidivismData = pd.read_csv(f\"./crimeIndex/Recidivism_US.csv\", encoding = \"cp949\")\n",
    "\n",
    "recidivismData.info()"
   ]
  },
  {
   "cell_type": "code",
   "execution_count": 165,
   "id": "4b3b8e4e-d4e4-4cd9-938f-229b5f8377fe",
   "metadata": {},
   "outputs": [
    {
     "data": {
      "text/html": [
       "<div>\n",
       "<style scoped>\n",
       "    .dataframe tbody tr th:only-of-type {\n",
       "        vertical-align: middle;\n",
       "    }\n",
       "\n",
       "    .dataframe tbody tr th {\n",
       "        vertical-align: top;\n",
       "    }\n",
       "\n",
       "    .dataframe thead th {\n",
       "        text-align: right;\n",
       "    }\n",
       "</style>\n",
       "<table border=\"1\" class=\"dataframe\">\n",
       "  <thead>\n",
       "    <tr style=\"text-align: right;\">\n",
       "      <th></th>\n",
       "      <th>State</th>\n",
       "      <th>Recidivism Rate</th>\n",
       "    </tr>\n",
       "  </thead>\n",
       "  <tbody>\n",
       "    <tr>\n",
       "      <th>0</th>\n",
       "      <td>South Carolina</td>\n",
       "      <td>21%</td>\n",
       "    </tr>\n",
       "    <tr>\n",
       "      <th>1</th>\n",
       "      <td>Oklahoma</td>\n",
       "      <td>22.60%</td>\n",
       "    </tr>\n",
       "    <tr>\n",
       "      <th>2</th>\n",
       "      <td>Virginia</td>\n",
       "      <td>23.30%</td>\n",
       "    </tr>\n",
       "    <tr>\n",
       "      <th>3</th>\n",
       "      <td>Nevada</td>\n",
       "      <td>24.60%</td>\n",
       "    </tr>\n",
       "    <tr>\n",
       "      <th>4</th>\n",
       "      <td>Minnesota</td>\n",
       "      <td>25%</td>\n",
       "    </tr>\n",
       "  </tbody>\n",
       "</table>\n",
       "</div>"
      ],
      "text/plain": [
       "            State Recidivism Rate\n",
       "0  South Carolina             21%\n",
       "1        Oklahoma          22.60%\n",
       "2        Virginia          23.30%\n",
       "3          Nevada          24.60%\n",
       "4       Minnesota             25%"
      ]
     },
     "execution_count": 165,
     "metadata": {},
     "output_type": "execute_result"
    }
   ],
   "source": [
    "selected_columns = [\"State\",\"Recidivism Rate\"]\n",
    "revisedRecidivism = recidivismData[selected_columns]\n",
    "revisedRecidivism.head()"
   ]
  },
  {
   "cell_type": "code",
   "execution_count": 166,
   "id": "50e4ec4c-aa70-4263-b4a5-12c23c9441c6",
   "metadata": {},
   "outputs": [
    {
     "name": "stderr",
     "output_type": "stream",
     "text": [
      "C:\\Users\\marin\\AppData\\Local\\Temp\\ipykernel_117164\\2012668932.py:1: SettingWithCopyWarning: \n",
      "A value is trying to be set on a copy of a slice from a DataFrame.\n",
      "Try using .loc[row_indexer,col_indexer] = value instead\n",
      "\n",
      "See the caveats in the documentation: https://pandas.pydata.org/pandas-docs/stable/user_guide/indexing.html#returning-a-view-versus-a-copy\n",
      "  revisedRecidivism[\"Recidivism Rate\"] = [x.replace('%','') for x in revisedRecidivism[\"Recidivism Rate\"]]\n",
      "C:\\Users\\marin\\AppData\\Local\\Temp\\ipykernel_117164\\2012668932.py:2: SettingWithCopyWarning: \n",
      "A value is trying to be set on a copy of a slice from a DataFrame.\n",
      "Try using .loc[row_indexer,col_indexer] = value instead\n",
      "\n",
      "See the caveats in the documentation: https://pandas.pydata.org/pandas-docs/stable/user_guide/indexing.html#returning-a-view-versus-a-copy\n",
      "  revisedRecidivism[\"Rate\"] = pd.to_numeric(revisedRecidivism[\"Recidivism Rate\"])\n"
     ]
    },
    {
     "data": {
      "text/html": [
       "<div>\n",
       "<style scoped>\n",
       "    .dataframe tbody tr th:only-of-type {\n",
       "        vertical-align: middle;\n",
       "    }\n",
       "\n",
       "    .dataframe tbody tr th {\n",
       "        vertical-align: top;\n",
       "    }\n",
       "\n",
       "    .dataframe thead th {\n",
       "        text-align: right;\n",
       "    }\n",
       "</style>\n",
       "<table border=\"1\" class=\"dataframe\">\n",
       "  <thead>\n",
       "    <tr style=\"text-align: right;\">\n",
       "      <th></th>\n",
       "      <th>State</th>\n",
       "      <th>Recidivism Rate</th>\n",
       "      <th>Rate</th>\n",
       "    </tr>\n",
       "  </thead>\n",
       "  <tbody>\n",
       "    <tr>\n",
       "      <th>0</th>\n",
       "      <td>South Carolina</td>\n",
       "      <td>21</td>\n",
       "      <td>21.0</td>\n",
       "    </tr>\n",
       "    <tr>\n",
       "      <th>1</th>\n",
       "      <td>Oklahoma</td>\n",
       "      <td>22.60</td>\n",
       "      <td>22.6</td>\n",
       "    </tr>\n",
       "    <tr>\n",
       "      <th>2</th>\n",
       "      <td>Virginia</td>\n",
       "      <td>23.30</td>\n",
       "      <td>23.3</td>\n",
       "    </tr>\n",
       "    <tr>\n",
       "      <th>3</th>\n",
       "      <td>Nevada</td>\n",
       "      <td>24.60</td>\n",
       "      <td>24.6</td>\n",
       "    </tr>\n",
       "    <tr>\n",
       "      <th>4</th>\n",
       "      <td>Minnesota</td>\n",
       "      <td>25</td>\n",
       "      <td>25.0</td>\n",
       "    </tr>\n",
       "  </tbody>\n",
       "</table>\n",
       "</div>"
      ],
      "text/plain": [
       "            State Recidivism Rate  Rate\n",
       "0  South Carolina              21  21.0\n",
       "1        Oklahoma           22.60  22.6\n",
       "2        Virginia           23.30  23.3\n",
       "3          Nevada           24.60  24.6\n",
       "4       Minnesota              25  25.0"
      ]
     },
     "execution_count": 166,
     "metadata": {},
     "output_type": "execute_result"
    }
   ],
   "source": [
    "revisedRecidivism[\"Recidivism Rate\"] = [x.replace('%','') for x in revisedRecidivism[\"Recidivism Rate\"]]\n",
    "revisedRecidivism[\"Rate\"] = pd.to_numeric(revisedRecidivism[\"Recidivism Rate\"])\n",
    "revisedRecidivism.head()"
   ]
  },
  {
   "cell_type": "code",
   "execution_count": 167,
   "id": "27b73dfe-e857-49b1-9aaf-5de23e5236d5",
   "metadata": {},
   "outputs": [
    {
     "data": {
      "text/plain": [
       "37.05714285714286"
      ]
     },
     "execution_count": 167,
     "metadata": {},
     "output_type": "execute_result"
    }
   ],
   "source": [
    "revisedRecidivism[\"Rate\"].mean()"
   ]
  },
  {
   "cell_type": "code",
   "execution_count": 168,
   "id": "6a04a1d4-6430-4fc9-a193-64fe1081f1d5",
   "metadata": {},
   "outputs": [
    {
     "data": {
      "text/html": [
       "<div>\n",
       "<style scoped>\n",
       "    .dataframe tbody tr th:only-of-type {\n",
       "        vertical-align: middle;\n",
       "    }\n",
       "\n",
       "    .dataframe tbody tr th {\n",
       "        vertical-align: top;\n",
       "    }\n",
       "\n",
       "    .dataframe thead th {\n",
       "        text-align: right;\n",
       "    }\n",
       "</style>\n",
       "<table border=\"1\" class=\"dataframe\">\n",
       "  <thead>\n",
       "    <tr style=\"text-align: right;\">\n",
       "      <th></th>\n",
       "      <th>Count</th>\n",
       "    </tr>\n",
       "  </thead>\n",
       "  <tbody>\n",
       "    <tr>\n",
       "      <th>재범률</th>\n",
       "      <td>37.057143</td>\n",
       "    </tr>\n",
       "  </tbody>\n",
       "</table>\n",
       "</div>"
      ],
      "text/plain": [
       "         Count\n",
       "재범률  37.057143"
      ]
     },
     "execution_count": 168,
     "metadata": {},
     "output_type": "execute_result"
    }
   ],
   "source": [
    "finalrecidivismData = pd.DataFrame({\n",
    "    \"Count\" : [revisedRecidivism[\"Rate\"].mean()]\n",
    "}, index = [\"재범률\"]\n",
    ")\n",
    "\n",
    "finalrecidivismData.head()"
   ]
  }
 ],
 "metadata": {
  "kernelspec": {
   "display_name": "Python 3 (ipykernel)",
   "language": "python",
   "name": "python3"
  },
  "language_info": {
   "codemirror_mode": {
    "name": "ipython",
    "version": 3
   },
   "file_extension": ".py",
   "mimetype": "text/x-python",
   "name": "python",
   "nbconvert_exporter": "python",
   "pygments_lexer": "ipython3",
   "version": "3.11.7"
  }
 },
 "nbformat": 4,
 "nbformat_minor": 5
}
