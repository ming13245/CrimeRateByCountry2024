{
 "cells": [
  {
   "cell_type": "code",
   "execution_count": 1,
   "id": "50c9bd24-7409-4bb3-b1de-7d749e611201",
   "metadata": {},
   "outputs": [
    {
     "name": "stdout",
     "output_type": "stream",
     "text": [
      "<class 'pandas.core.frame.DataFrame'>\n",
      "RangeIndex: 31 entries, 0 to 30\n",
      "Data columns (total 6 columns):\n",
      " #   Column           Non-Null Count  Dtype \n",
      "---  ------           --------------  ----- \n",
      " 0   Offenses         31 non-null     object\n",
      " 1   All races        28 non-null     object\n",
      " 2   White            28 non-null     object\n",
      " 3   Black            28 non-null     object\n",
      " 4   American Indian  28 non-null     object\n",
      " 5   Asian            28 non-null     object\n",
      "dtypes: object(6)\n",
      "memory usage: 1.6+ KB\n"
     ]
    }
   ],
   "source": [
    "import pandas as pd\n",
    "\n",
    "crimeCountData = pd.read_csv(f\"./crimeIndex/US_Arrests_by_offense_age_race.csv\", encoding = \"cp949\")\n",
    "\n",
    "crimeCountData.info()"
   ]
  },
  {
   "cell_type": "code",
   "execution_count": 2,
   "id": "46c8fcba-4f50-4f1e-ab87-d62416dd7b89",
   "metadata": {},
   "outputs": [
    {
     "data": {
      "text/html": [
       "<div>\n",
       "<style scoped>\n",
       "    .dataframe tbody tr th:only-of-type {\n",
       "        vertical-align: middle;\n",
       "    }\n",
       "\n",
       "    .dataframe tbody tr th {\n",
       "        vertical-align: top;\n",
       "    }\n",
       "\n",
       "    .dataframe thead th {\n",
       "        text-align: right;\n",
       "    }\n",
       "</style>\n",
       "<table border=\"1\" class=\"dataframe\">\n",
       "  <thead>\n",
       "    <tr style=\"text-align: right;\">\n",
       "      <th></th>\n",
       "      <th>Offenses</th>\n",
       "      <th>All races</th>\n",
       "    </tr>\n",
       "  </thead>\n",
       "  <tbody>\n",
       "    <tr>\n",
       "      <th>0</th>\n",
       "      <td>All offenses</td>\n",
       "      <td>7,632,470</td>\n",
       "    </tr>\n",
       "    <tr>\n",
       "      <th>1</th>\n",
       "      <td>Murder and nonnegligent manslaughter</td>\n",
       "      <td>12,440</td>\n",
       "    </tr>\n",
       "    <tr>\n",
       "      <th>2</th>\n",
       "      <td>Rape</td>\n",
       "      <td>NaN</td>\n",
       "    </tr>\n",
       "    <tr>\n",
       "      <th>3</th>\n",
       "      <td>Robbery</td>\n",
       "      <td>67,900</td>\n",
       "    </tr>\n",
       "    <tr>\n",
       "      <th>4</th>\n",
       "      <td>Aggravated assault</td>\n",
       "      <td>381,190</td>\n",
       "    </tr>\n",
       "  </tbody>\n",
       "</table>\n",
       "</div>"
      ],
      "text/plain": [
       "                               Offenses  All races\n",
       "0                          All offenses  7,632,470\n",
       "1  Murder and nonnegligent manslaughter     12,440\n",
       "2                                  Rape        NaN\n",
       "3                               Robbery     67,900\n",
       "4                    Aggravated assault    381,190"
      ]
     },
     "execution_count": 2,
     "metadata": {},
     "output_type": "execute_result"
    }
   ],
   "source": [
    "selected_columns = [\"Offenses\",\"All races\"]\n",
    "\n",
    "revisedCrimeCount = crimeCountData[selected_columns]\n",
    "\n",
    "revisedCrimeCount.head()"
   ]
  },
  {
   "cell_type": "code",
   "execution_count": 3,
   "id": "9ae51db4-8dad-4efd-b810-9fbd7d706ec2",
   "metadata": {},
   "outputs": [
    {
     "data": {
      "text/html": [
       "<div>\n",
       "<style scoped>\n",
       "    .dataframe tbody tr th:only-of-type {\n",
       "        vertical-align: middle;\n",
       "    }\n",
       "\n",
       "    .dataframe tbody tr th {\n",
       "        vertical-align: top;\n",
       "    }\n",
       "\n",
       "    .dataframe thead th {\n",
       "        text-align: right;\n",
       "    }\n",
       "</style>\n",
       "<table border=\"1\" class=\"dataframe\">\n",
       "  <thead>\n",
       "    <tr style=\"text-align: right;\">\n",
       "      <th></th>\n",
       "      <th>All races</th>\n",
       "    </tr>\n",
       "    <tr>\n",
       "      <th>Offenses</th>\n",
       "      <th></th>\n",
       "    </tr>\n",
       "  </thead>\n",
       "  <tbody>\n",
       "    <tr>\n",
       "      <th>All offenses</th>\n",
       "      <td>7,632,470</td>\n",
       "    </tr>\n",
       "    <tr>\n",
       "      <th>Murder and nonnegligent manslaughter</th>\n",
       "      <td>12,440</td>\n",
       "    </tr>\n",
       "    <tr>\n",
       "      <th>Rape</th>\n",
       "      <td>NaN</td>\n",
       "    </tr>\n",
       "    <tr>\n",
       "      <th>Robbery</th>\n",
       "      <td>67,900</td>\n",
       "    </tr>\n",
       "    <tr>\n",
       "      <th>Aggravated assault</th>\n",
       "      <td>381,190</td>\n",
       "    </tr>\n",
       "  </tbody>\n",
       "</table>\n",
       "</div>"
      ],
      "text/plain": [
       "                                      All races\n",
       "Offenses                                       \n",
       "All offenses                          7,632,470\n",
       "Murder and nonnegligent manslaughter     12,440\n",
       "Rape                                        NaN\n",
       "Robbery                                  67,900\n",
       "Aggravated assault                      381,190"
      ]
     },
     "execution_count": 3,
     "metadata": {},
     "output_type": "execute_result"
    }
   ],
   "source": [
    "revisedCrimeCount_index = revisedCrimeCount.set_index(\"Offenses\")\n",
    "\n",
    "revisedCrimeCount_index.head()"
   ]
  },
  {
   "cell_type": "code",
   "execution_count": 17,
   "id": "aa87df2d-b60d-465b-ac71-a3e11fef90fa",
   "metadata": {},
   "outputs": [
    {
     "data": {
      "text/html": [
       "<div>\n",
       "<style scoped>\n",
       "    .dataframe tbody tr th:only-of-type {\n",
       "        vertical-align: middle;\n",
       "    }\n",
       "\n",
       "    .dataframe tbody tr th {\n",
       "        vertical-align: top;\n",
       "    }\n",
       "\n",
       "    .dataframe thead th {\n",
       "        text-align: right;\n",
       "    }\n",
       "</style>\n",
       "<table border=\"1\" class=\"dataframe\">\n",
       "  <thead>\n",
       "    <tr style=\"text-align: right;\">\n",
       "      <th></th>\n",
       "      <th>All races</th>\n",
       "    </tr>\n",
       "    <tr>\n",
       "      <th>Offenses</th>\n",
       "      <th></th>\n",
       "    </tr>\n",
       "  </thead>\n",
       "  <tbody>\n",
       "    <tr>\n",
       "      <th>All offenses</th>\n",
       "      <td>7,632,470</td>\n",
       "    </tr>\n",
       "    <tr>\n",
       "      <th>Murder and nonnegligent manslaughter</th>\n",
       "      <td>12,440</td>\n",
       "    </tr>\n",
       "    <tr>\n",
       "      <th>Rape</th>\n",
       "      <td>0</td>\n",
       "    </tr>\n",
       "    <tr>\n",
       "      <th>Robbery</th>\n",
       "      <td>67,900</td>\n",
       "    </tr>\n",
       "    <tr>\n",
       "      <th>Aggravated assault</th>\n",
       "      <td>381,190</td>\n",
       "    </tr>\n",
       "  </tbody>\n",
       "</table>\n",
       "</div>"
      ],
      "text/plain": [
       "                                      All races\n",
       "Offenses                                       \n",
       "All offenses                          7,632,470\n",
       "Murder and nonnegligent manslaughter     12,440\n",
       "Rape                                          0\n",
       "Robbery                                  67,900\n",
       "Aggravated assault                      381,190"
      ]
     },
     "execution_count": 17,
     "metadata": {},
     "output_type": "execute_result"
    }
   ],
   "source": [
    "noNull_Crime_Index = revisedCrimeCount_index.fillna(\"0\")\n",
    "noNull_Crime_Index.head()"
   ]
  },
  {
   "cell_type": "code",
   "execution_count": 18,
   "id": "2aa207fe-a902-4167-8027-7bf027e210b2",
   "metadata": {},
   "outputs": [
    {
     "data": {
      "text/plain": [
       "'object'"
      ]
     },
     "execution_count": 18,
     "metadata": {},
     "output_type": "execute_result"
    }
   ],
   "source": [
    "str(noNull_Crime_Index[\"All races\"].dtype)"
   ]
  },
  {
   "cell_type": "code",
   "execution_count": 19,
   "id": "0c5f85fe-1f4d-4ba1-bb90-073cde94f237",
   "metadata": {},
   "outputs": [
    {
     "data": {
      "text/html": [
       "<div>\n",
       "<style scoped>\n",
       "    .dataframe tbody tr th:only-of-type {\n",
       "        vertical-align: middle;\n",
       "    }\n",
       "\n",
       "    .dataframe tbody tr th {\n",
       "        vertical-align: top;\n",
       "    }\n",
       "\n",
       "    .dataframe thead th {\n",
       "        text-align: right;\n",
       "    }\n",
       "</style>\n",
       "<table border=\"1\" class=\"dataframe\">\n",
       "  <thead>\n",
       "    <tr style=\"text-align: right;\">\n",
       "      <th></th>\n",
       "      <th>All races</th>\n",
       "      <th>Count</th>\n",
       "    </tr>\n",
       "    <tr>\n",
       "      <th>Offenses</th>\n",
       "      <th></th>\n",
       "      <th></th>\n",
       "    </tr>\n",
       "  </thead>\n",
       "  <tbody>\n",
       "    <tr>\n",
       "      <th>All offenses</th>\n",
       "      <td>7632470</td>\n",
       "      <td>7632470</td>\n",
       "    </tr>\n",
       "    <tr>\n",
       "      <th>Murder and nonnegligent manslaughter</th>\n",
       "      <td>12440</td>\n",
       "      <td>12440</td>\n",
       "    </tr>\n",
       "    <tr>\n",
       "      <th>Rape</th>\n",
       "      <td>0</td>\n",
       "      <td>0</td>\n",
       "    </tr>\n",
       "    <tr>\n",
       "      <th>Robbery</th>\n",
       "      <td>67900</td>\n",
       "      <td>67900</td>\n",
       "    </tr>\n",
       "    <tr>\n",
       "      <th>Aggravated assault</th>\n",
       "      <td>381190</td>\n",
       "      <td>381190</td>\n",
       "    </tr>\n",
       "  </tbody>\n",
       "</table>\n",
       "</div>"
      ],
      "text/plain": [
       "                                     All races    Count\n",
       "Offenses                                               \n",
       "All offenses                           7632470  7632470\n",
       "Murder and nonnegligent manslaughter     12440    12440\n",
       "Rape                                         0        0\n",
       "Robbery                                  67900    67900\n",
       "Aggravated assault                      381190   381190"
      ]
     },
     "execution_count": 19,
     "metadata": {},
     "output_type": "execute_result"
    }
   ],
   "source": [
    "noNull_Crime_Index[\"All races\"] = [x.replace(',','') for x in noNull_Crime_Index[\"All races\"]]\n",
    "noNull_Crime_Index[\"Count\"] = pd.to_numeric(noNull_Crime_Index[\"All races\"])\n",
    "noNull_Crime_Index.head()"
   ]
  },
  {
   "cell_type": "code",
   "execution_count": 30,
   "id": "80452d59-559b-4160-a855-dea3b97cac23",
   "metadata": {},
   "outputs": [
    {
     "data": {
      "text/plain": [
       "Offenses\n",
       "All offenses                            7632470\n",
       "Murder and nonnegligent manslaughter      12440\n",
       "Rape                                          0\n",
       "Robbery                                   67900\n",
       "Aggravated assault                       381190\n",
       "Name: Count, dtype: int64"
      ]
     },
     "execution_count": 30,
     "metadata": {},
     "output_type": "execute_result"
    }
   ],
   "source": [
    "refined_index_crime = noNull_Crime_Index[\"Count\"]\n",
    "refined_index_crime.head()"
   ]
  },
  {
   "cell_type": "code",
   "execution_count": 31,
   "id": "ed532433-83dc-46ba-9291-0451878489b2",
   "metadata": {},
   "outputs": [
    {
     "data": {
      "text/plain": [
       "Index(['All offenses', 'Murder and nonnegligent manslaughter', 'Rape',\n",
       "       'Robbery', 'Aggravated assault', 'Burglary', 'Larceny-theft',\n",
       "       'Motor vehicle theft', 'Arson', 'Simple assault',\n",
       "       'Forgery and counterfeiting', 'Fraud', 'Embezzlement',\n",
       "       'Stolen property (buying, receiving, possessing)', 'Vandalism',\n",
       "       'Weapons (carrying, possessing, etc.)',\n",
       "       'Prostitution and commercialized vice',\n",
       "       'Sex offenses (except rape & prostitution)', 'Drug abuse violations',\n",
       "       'Gambling', 'Offenses against the family and children',\n",
       "       'Driving under the influence', 'Liquor laws', 'Drunkenness',\n",
       "       'Disorderly conduct', 'Vagrancy', 'All other offenses (except traffic)',\n",
       "       'Curfew and loitering', 'Violent Crime Index', 'Property Crime Index',\n",
       "       'Violent crimes*'],\n",
       "      dtype='object', name='Offenses')"
      ]
     },
     "execution_count": 31,
     "metadata": {},
     "output_type": "execute_result"
    }
   ],
   "source": [
    "noNull_Crime_Index.index"
   ]
  },
  {
   "cell_type": "code",
   "execution_count": 32,
   "id": "5d0fafab-a3e1-4e12-9418-2e5af637bab4",
   "metadata": {},
   "outputs": [
    {
     "data": {
      "text/plain": [
       "Offenses\n",
       "Robbery                 67900\n",
       "Burglary               149350\n",
       "Larceny-theft          629020\n",
       "Motor vehicle theft     83220\n",
       "Name: Count, dtype: int64"
      ]
     },
     "execution_count": 32,
     "metadata": {},
     "output_type": "execute_result"
    }
   ],
   "source": [
    "theft_crime = refined_index_crime.loc[[\"Robbery\",\"Burglary\",\"Larceny-theft\",\"Motor vehicle theft\"]]\n",
    "theft_crime.head()"
   ]
  },
  {
   "cell_type": "code",
   "execution_count": 33,
   "id": "da054b61-4b33-47b0-beb9-5a162ec12695",
   "metadata": {},
   "outputs": [
    {
     "data": {
      "text/plain": [
       "Offenses\n",
       "Murder and nonnegligent manslaughter    12440\n",
       "Name: Count, dtype: int64"
      ]
     },
     "execution_count": 33,
     "metadata": {},
     "output_type": "execute_result"
    }
   ],
   "source": [
    "murder_crime = refined_index_crime.loc[[\"Murder and nonnegligent manslaughter\"]]\n",
    "murder_crime.head()"
   ]
  },
  {
   "cell_type": "code",
   "execution_count": 34,
   "id": "07f65991-a247-4c19-a344-4c7c12de2668",
   "metadata": {},
   "outputs": [
    {
     "data": {
      "text/plain": [
       "Offenses\n",
       "Aggravated assault    381190\n",
       "Simple assault        906980\n",
       "Name: Count, dtype: int64"
      ]
     },
     "execution_count": 34,
     "metadata": {},
     "output_type": "execute_result"
    }
   ],
   "source": [
    "assault_crime = refined_index_crime.loc[[\"Aggravated assault\",\"Simple assault\"]]\n",
    "assault_crime.head()"
   ]
  },
  {
   "cell_type": "code",
   "execution_count": 41,
   "id": "d5506025-37e7-42c0-af28-ab696d88820d",
   "metadata": {},
   "outputs": [
    {
     "data": {
      "text/plain": [
       "{'Count': [12440, 0, 929490, 1288170]}"
      ]
     },
     "execution_count": 41,
     "metadata": {},
     "output_type": "execute_result"
    }
   ],
   "source": [
    "final_data = {\"Count\" :[murder_crime.sum(),0,theft_crime.sum(),assault_crime.sum()]}\n",
    "             \n",
    "final_data\n"
   ]
  },
  {
   "cell_type": "code",
   "execution_count": 43,
   "id": "04b14411-6214-4d47-9bd4-e9f5101fda4e",
   "metadata": {},
   "outputs": [
    {
     "data": {
      "text/html": [
       "<div>\n",
       "<style scoped>\n",
       "    .dataframe tbody tr th:only-of-type {\n",
       "        vertical-align: middle;\n",
       "    }\n",
       "\n",
       "    .dataframe tbody tr th {\n",
       "        vertical-align: top;\n",
       "    }\n",
       "\n",
       "    .dataframe thead th {\n",
       "        text-align: right;\n",
       "    }\n",
       "</style>\n",
       "<table border=\"1\" class=\"dataframe\">\n",
       "  <thead>\n",
       "    <tr style=\"text-align: right;\">\n",
       "      <th></th>\n",
       "      <th>Count</th>\n",
       "    </tr>\n",
       "  </thead>\n",
       "  <tbody>\n",
       "    <tr>\n",
       "      <th>살인</th>\n",
       "      <td>12440</td>\n",
       "    </tr>\n",
       "    <tr>\n",
       "      <th>강간</th>\n",
       "      <td>0</td>\n",
       "    </tr>\n",
       "    <tr>\n",
       "      <th>절도</th>\n",
       "      <td>929490</td>\n",
       "    </tr>\n",
       "    <tr>\n",
       "      <th>폭행</th>\n",
       "      <td>1288170</td>\n",
       "    </tr>\n",
       "  </tbody>\n",
       "</table>\n",
       "</div>"
      ],
      "text/plain": [
       "      Count\n",
       "살인    12440\n",
       "강간        0\n",
       "절도   929490\n",
       "폭행  1288170"
      ]
     },
     "execution_count": 43,
     "metadata": {},
     "output_type": "execute_result"
    }
   ],
   "source": [
    "final_df = pd.DataFrame(final_data,index=[\"살인\",\"강간\",\"절도\",\"폭행\"])\n",
    "final_df"
   ]
  },
  {
   "cell_type": "code",
   "execution_count": null,
   "id": "014ef7a8-06ad-4cb2-97c5-bdc1cb194483",
   "metadata": {},
   "outputs": [],
   "source": []
  }
 ],
 "metadata": {
  "kernelspec": {
   "display_name": "Python 3 (ipykernel)",
   "language": "python",
   "name": "python3"
  },
  "language_info": {
   "codemirror_mode": {
    "name": "ipython",
    "version": 3
   },
   "file_extension": ".py",
   "mimetype": "text/x-python",
   "name": "python",
   "nbconvert_exporter": "python",
   "pygments_lexer": "ipython3",
   "version": "3.11.7"
  }
 },
 "nbformat": 4,
 "nbformat_minor": 5
}
